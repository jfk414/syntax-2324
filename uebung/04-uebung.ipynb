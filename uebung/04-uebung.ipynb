{
 "cells": [
  {
   "cell_type": "markdown",
   "metadata": {},
   "source": [
    "Syntax natürlicher Sprachen, WS 2023/24\n",
    "\n",
    "# 04 - Übung"
   ]
  },
  {
   "cell_type": "code",
   "execution_count": 1,
   "metadata": {},
   "outputs": [],
   "source": [
    "import nltk\n",
    "from nltk.tree import Tree"
   ]
  },
  {
   "cell_type": "markdown",
   "metadata": {},
   "source": [
    "## Aufgabe 1 - Operationen der Parsing-Algorithmen"
   ]
  },
  {
   "cell_type": "markdown",
   "metadata": {},
   "source": [
    "### a) Welche Operationen stehen den verschiedenen Parsern zur Verfügung?\n",
    "\n",
    "####  Welche Operationen hat der Recursive Descent Parser?"
   ]
  },
  {
   "cell_type": "code",
   "execution_count": null,
   "metadata": {},
   "outputs": [],
   "source": [
    "# Predict + Scan\n",
    "# Expand + Match"
   ]
  },
  {
   "cell_type": "markdown",
   "metadata": {},
   "source": [
    "####  Welche Operationen hat der Shift Reduce Parser?\n"
   ]
  },
  {
   "cell_type": "code",
   "execution_count": null,
   "metadata": {},
   "outputs": [],
   "source": [
    "# Shift + Reduce"
   ]
  },
  {
   "cell_type": "markdown",
   "metadata": {},
   "source": [
    "####  Welche Operationen hat der Earley Parser?\n"
   ]
  },
  {
   "cell_type": "code",
   "execution_count": null,
   "metadata": {},
   "outputs": [],
   "source": [
    "# Predict + Scan + Completion"
   ]
  },
  {
   "cell_type": "markdown",
   "metadata": {},
   "source": [
    "### b)  Überlegen Sie für die folgenden Beispiele, zu welchem Algorithmus diese gehören und was die nächste von diesem auszuführende Operation ist."
   ]
  },
  {
   "cell_type": "markdown",
   "metadata": {},
   "source": [
    "\n",
    "\n",
    "### Beispiel 1:\n",
    "\n",
    "$ Q_{0}$ : (S' -> * S, 0)\n"
   ]
  },
  {
   "cell_type": "markdown",
   "metadata": {},
   "source": [
    "#### Um welchen Parser handelt es sich?\n"
   ]
  },
  {
   "cell_type": "code",
   "execution_count": 3,
   "metadata": {},
   "outputs": [],
   "source": [
    "#Earley"
   ]
  },
  {
   "cell_type": "markdown",
   "metadata": {},
   "source": [
    "#### Welche Operation folgt als nächstes?\n"
   ]
  },
  {
   "cell_type": "code",
   "execution_count": null,
   "metadata": {},
   "outputs": [],
   "source": [
    "# "
   ]
  },
  {
   "cell_type": "markdown",
   "metadata": {},
   "source": [
    "---\n",
    "\n",
    "### Beispiel 2:\n"
   ]
  },
  {
   "cell_type": "markdown",
   "metadata": {},
   "source": [
    "#### Gegeben sei folgende kontextfreie Grammatik:"
   ]
  },
  {
   "cell_type": "code",
   "execution_count": 4,
   "metadata": {},
   "outputs": [],
   "source": [
    "grammar = \"\"\"\n",
    "S -> NP VP\n",
    "\n",
    "NP  -> DET NOM\n",
    "NOM -> ADJ NOM | N\n",
    "\n",
    "ADJ -> \"schöne\" | \"kluge\" | \"dicke\"\n",
    "DET -> \"der\" | \"die\" | \"das\"\n",
    "N   -> \"Mann\" | \"Frau\" | \"Buch\"\n",
    "\n",
    "VP -> V NP NP | V NP | V\n",
    "V  -> \"gibt\" | \"schenkt\" | \"schläft\" | \"gefällt\" | \"kennt\"\n",
    "\"\"\""
   ]
  },
  {
   "cell_type": "markdown",
   "metadata": {},
   "source": [
    "#### Betrachen Sie den folgenden Baum zu dem Satz \"der Mann schläft\" und den entsprechenden Grammatikregeln des Beispiels."
   ]
  },
  {
   "cell_type": "code",
   "execution_count": 3,
   "metadata": {},
   "outputs": [
    {
     "name": "stdout",
     "output_type": "stream",
     "text": [
      "         S     \n",
      "      ___|___   \n",
      "     NP      | \n",
      "  ___|___    |  \n",
      "DET     Nom  VP\n",
      " |       |   |  \n",
      "               \n",
      "\n"
     ]
    }
   ],
   "source": [
    "dep_tree = Tree(\n",
    "    \"S\",\n",
    "    [\n",
    "        Tree(\"NP\", [Tree(\"DET\",[\"\"]),Tree(\"Nom\", [\"\"])]),\n",
    "        Tree(\"VP\", [\"\"])    \n",
    "    ]\n",
    ")\n",
    "\n",
    "dep_tree.pretty_print()"
   ]
  },
  {
   "cell_type": "markdown",
   "metadata": {},
   "source": [
    "#### Um welchen Parser handelt es sich?\n"
   ]
  },
  {
   "cell_type": "code",
   "execution_count": 5,
   "metadata": {},
   "outputs": [],
   "source": [
    "# top down (Recursive Descent)"
   ]
  },
  {
   "cell_type": "markdown",
   "metadata": {},
   "source": [
    "#### Welche Operation folgt als nächstes?\n"
   ]
  },
  {
   "cell_type": "code",
   "execution_count": null,
   "metadata": {},
   "outputs": [],
   "source": [
    "# PREDICT (und war DET -> der)"
   ]
  },
  {
   "cell_type": "markdown",
   "metadata": {},
   "source": [
    "---\n",
    "\n",
    "### Beispiel 3:\n",
    "\n",
    "\n",
    "#### Betrachen Sie den folgenden Ausschnitt der Zustandsmenge zu dem Satz \"der Mann schläft\" und die entsprechenden Grammatikregeln von oben.\n",
    "\n",
    "$ Q_{0}$ : (DET -> * der, 0)"
   ]
  },
  {
   "cell_type": "markdown",
   "metadata": {},
   "source": [
    "#### Um welchen Parser handelt es sich?\n"
   ]
  },
  {
   "cell_type": "code",
   "execution_count": null,
   "metadata": {},
   "outputs": [],
   "source": []
  },
  {
   "cell_type": "markdown",
   "metadata": {},
   "source": [
    "#### Welche Operation folgt als nächstes?\n"
   ]
  },
  {
   "cell_type": "code",
   "execution_count": null,
   "metadata": {},
   "outputs": [],
   "source": []
  },
  {
   "cell_type": "markdown",
   "metadata": {},
   "source": [
    "---\n",
    "\n",
    "### Beispiel 4:\n",
    "\n",
    "\n",
    "#### Betrachen Sie den folgenden Ausschnitt der Zustandsmenge zu dem Satz \"der Mann schläft\" und die entsprechenden Grammatikregeln von oben.\n",
    "\n",
    "$ Q_{1}$ : (DET -> der * , 0)"
   ]
  },
  {
   "cell_type": "markdown",
   "metadata": {},
   "source": [
    "#### Um welchen Parser handelt es sich?\n"
   ]
  },
  {
   "cell_type": "code",
   "execution_count": null,
   "metadata": {},
   "outputs": [],
   "source": []
  },
  {
   "cell_type": "markdown",
   "metadata": {},
   "source": [
    "#### Welche Operation folgt als nächstes?\n"
   ]
  },
  {
   "cell_type": "code",
   "execution_count": null,
   "metadata": {},
   "outputs": [],
   "source": []
  },
  {
   "cell_type": "markdown",
   "metadata": {},
   "source": [
    "---\n",
    "\n",
    "### Beispiel 5:\n",
    "\n",
    "![earley_1](https://github.com/awisiorek/syntax-1819/raw/master/uebung/img/earley_1.png)"
   ]
  },
  {
   "cell_type": "markdown",
   "metadata": {},
   "source": [
    "#### Um welchen Parser handelt es sich?\n"
   ]
  },
  {
   "cell_type": "code",
   "execution_count": null,
   "metadata": {},
   "outputs": [],
   "source": []
  },
  {
   "cell_type": "markdown",
   "metadata": {},
   "source": [
    "#### Welche Operation folgt als nächstes?\n"
   ]
  },
  {
   "cell_type": "code",
   "execution_count": null,
   "metadata": {},
   "outputs": [],
   "source": []
  },
  {
   "cell_type": "markdown",
   "metadata": {},
   "source": [
    "---\n",
    "\n",
    "### Beispiel 6:\n",
    "\n",
    "![earley_2](https://github.com/awisiorek/syntax-1819/raw/master/uebung/img/earley_2.png)"
   ]
  },
  {
   "cell_type": "markdown",
   "metadata": {},
   "source": [
    "#### Um welchen Parser handelt es sich?\n"
   ]
  },
  {
   "cell_type": "code",
   "execution_count": null,
   "metadata": {},
   "outputs": [],
   "source": [
    "# earley"
   ]
  },
  {
   "cell_type": "markdown",
   "metadata": {},
   "source": [
    "#### Welche Operation folgt als nächstes?\n"
   ]
  },
  {
   "cell_type": "code",
   "execution_count": null,
   "metadata": {},
   "outputs": [],
   "source": [
    "# completion"
   ]
  },
  {
   "cell_type": "markdown",
   "metadata": {},
   "source": [
    "---\n",
    "\n",
    "### Beispiel 7:\n",
    "\n",
    "![recdes_1](https://github.com/awisiorek/syntax-1819/raw/master/uebung/img/recdes_1.png)"
   ]
  },
  {
   "cell_type": "markdown",
   "metadata": {},
   "source": [
    "#### Um welchen Parser handelt es sich?\n"
   ]
  },
  {
   "cell_type": "code",
   "execution_count": null,
   "metadata": {},
   "outputs": [],
   "source": [
    "# top down (Recursive descent)"
   ]
  },
  {
   "cell_type": "markdown",
   "metadata": {},
   "source": [
    "#### Welche Operation folgt als nächstes?\n"
   ]
  },
  {
   "cell_type": "code",
   "execution_count": null,
   "metadata": {},
   "outputs": [],
   "source": [
    "# predict"
   ]
  },
  {
   "cell_type": "markdown",
   "metadata": {},
   "source": [
    "### Beispiel 8:\n",
    "\n",
    "![recdes_2](https://github.com/awisiorek/syntax-1819/raw/master/uebung/img/recdes_2.png)"
   ]
  },
  {
   "cell_type": "markdown",
   "metadata": {},
   "source": [
    "#### Um welchen Parser handelt es sich?\n"
   ]
  },
  {
   "cell_type": "code",
   "execution_count": null,
   "metadata": {},
   "outputs": [],
   "source": [
    "# recursive descent"
   ]
  },
  {
   "cell_type": "markdown",
   "metadata": {},
   "source": [
    "#### Welche Operation folgt als nächstes?\n"
   ]
  },
  {
   "cell_type": "code",
   "execution_count": null,
   "metadata": {},
   "outputs": [],
   "source": [
    "# scan / backtrack"
   ]
  },
  {
   "cell_type": "markdown",
   "metadata": {},
   "source": [
    "---\n",
    "\n",
    "### Beispiel 9:\n",
    "\n",
    "![shiftred_1](https://github.com/awisiorek/syntax-1819/raw/master/uebung/img/shiftred_1.png)"
   ]
  },
  {
   "cell_type": "markdown",
   "metadata": {},
   "source": [
    "#### Um welchen Parser handelt es sich?\n"
   ]
  },
  {
   "cell_type": "code",
   "execution_count": null,
   "metadata": {},
   "outputs": [],
   "source": [
    "# shift reduce"
   ]
  },
  {
   "cell_type": "markdown",
   "metadata": {},
   "source": [
    "#### Welche Operation folgt als nächstes?\n"
   ]
  },
  {
   "cell_type": "code",
   "execution_count": null,
   "metadata": {},
   "outputs": [],
   "source": [
    "# shift"
   ]
  },
  {
   "cell_type": "markdown",
   "metadata": {},
   "source": [
    "---\n",
    "\n",
    "### Beispiel 10:\n",
    "\n",
    "![shiftred_2](https://github.com/awisiorek/syntax-1819/raw/master/uebung/img/shiftred_2.png)"
   ]
  },
  {
   "cell_type": "markdown",
   "metadata": {},
   "source": [
    "#### Um welchen Parser handelt es sich?\n"
   ]
  },
  {
   "cell_type": "code",
   "execution_count": null,
   "metadata": {},
   "outputs": [],
   "source": [
    "# shift reduce"
   ]
  },
  {
   "cell_type": "markdown",
   "metadata": {},
   "source": [
    "#### Welche Operation folgt als nächstes?\n"
   ]
  },
  {
   "cell_type": "code",
   "execution_count": null,
   "metadata": {},
   "outputs": [],
   "source": [
    "# keine, da Parsebaum gefunden, ggf. backtracking für alternative Strukturen"
   ]
  },
  {
   "cell_type": "markdown",
   "metadata": {},
   "source": [
    "\n",
    "## Aufgabe 2 - Parsing-Algorithmen\n",
    "\n",
    "#### Gegeben sei folgende kontextfreie Grammatik:"
   ]
  },
  {
   "cell_type": "markdown",
   "metadata": {},
   "source": [
    "#### Parsen Sie den unten angegebenen Satz mit jedem der folgenden Parsing-Algorithmen. Bei der Auswahl von Regeln soll immer von oben nach unten und (bei Alternativen) von links nach rechts vorgegangen werden.\n",
    "\n",
    "a) Recursive Descent <br>\n",
    "b) Shift Reduce <br>\n",
    "c) Earley Algorithmus <br>\n"
   ]
  },
  {
   "cell_type": "code",
   "execution_count": null,
   "metadata": {},
   "outputs": [],
   "source": [
    "##Recursive Descent Parser:\n",
    "S\n",
    "NP VP\n",
    "DET NOM VP\n",
    "der NOM VP\n",
    "der ADJ NOM VP\n",
    "der kluge NOM VP\n",
    ">> Baktracking (kluge vs. Mann)\n",
    "(der NOM VP)\n",
    "der N VP\n",
    "der Mann VP\n",
    "der Mann V\n",
    "der Mann schläft\n",
    ">> fertig"
   ]
  },
  {
   "cell_type": "code",
   "execution_count": 7,
   "metadata": {},
   "outputs": [],
   "source": [
    "sent = 'der Mann schläft'"
   ]
  },
  {
   "cell_type": "code",
   "execution_count": 8,
   "metadata": {},
   "outputs": [],
   "source": [
    "grammar = nltk.CFG.fromstring(\"\"\"\n",
    "S -> NP VP\n",
    "NP  -> DET NOM\n",
    "NOM -> ADJ NOM | N\n",
    "VP ->  V\n",
    "\n",
    "ADJ -> \"kluge\"\n",
    "DET -> \"der\" | \"die\" | \"das\"\n",
    "N   -> \"Mann\" | \"Frau\" | \"Buch\"\n",
    "V  -> \"schläft\"\n",
    "\"\"\")"
   ]
  },
  {
   "cell_type": "code",
   "execution_count": 10,
   "metadata": {},
   "outputs": [
    {
     "ename": "SyntaxError",
     "evalue": "invalid syntax (1393355345.py, line 2)",
     "output_type": "error",
     "traceback": [
      "\u001b[0;36m  Cell \u001b[0;32mIn[10], line 2\u001b[0;36m\u001b[0m\n\u001b[0;31m    der Mann schläft\u001b[0m\n\u001b[0m        ^\u001b[0m\n\u001b[0;31mSyntaxError\u001b[0m\u001b[0;31m:\u001b[0m invalid syntax\n"
     ]
    }
   ],
   "source": [
    "##Shift Reduce Parser:\n",
    "der Mann schläft\n",
    "\n",
    "Stackzustände\n",
    "der\n",
    "DET\n",
    "DET Mann\n",
    "DET N\n",
    "DET NOM\n",
    "NP\n",
    "NP schläft\n",
    "NP V\n",
    "NP VP\n",
    "S\n"
   ]
  },
  {
   "cell_type": "code",
   "execution_count": null,
   "metadata": {},
   "outputs": [],
   "source": [
    "## Earley Parser:\n"
   ]
  },
  {
   "cell_type": "markdown",
   "metadata": {},
   "source": [
    "#### Zur Überprüfung Ihres Resultats können Sie dieses anschließend mit dem Tracing-Output der entsprechenden Parsern im NLTK vergleichen:"
   ]
  },
  {
   "cell_type": "code",
   "execution_count": 9,
   "metadata": {},
   "outputs": [
    {
     "name": "stdout",
     "output_type": "stream",
     "text": [
      "Parsing 'der Mann schläft'\n",
      "Start:\n",
      "    [ * S ]\n",
      "Expand: S -> NP VP\n",
      "    [ * NP VP ]\n",
      "Expand: NP -> DET NOM\n",
      "    [ * DET NOM VP ]\n",
      "Expand: DET -> 'der'\n",
      "    [ * 'der' NOM VP ]\n",
      "Match: 'der'\n",
      "    [ 'der' * NOM VP ]\n",
      "Expand: NOM -> ADJ NOM\n",
      "    [ 'der' * ADJ NOM VP ]\n",
      "Expand: ADJ -> 'kluge'\n",
      "    [ 'der' * 'kluge' NOM VP ]\n",
      "Backtrack: 'Mann' match failed\n",
      "Expand: NOM -> N\n",
      "    [ 'der' * N VP ]\n",
      "Expand: N -> 'Mann'\n",
      "    [ 'der' * 'Mann' VP ]\n",
      "Match: 'Mann'\n",
      "    [ 'der' 'Mann' * VP ]\n",
      "Expand: VP -> V\n",
      "    [ 'der' 'Mann' * V ]\n",
      "Expand: V -> 'schläft'\n",
      "    [ 'der' 'Mann' * 'schläft' ]\n",
      "Match: 'schläft'\n",
      "    [ 'der' 'Mann' 'schläft' ]\n",
      "GOOD PARSE:\n",
      "    [ 'der' 'Mann' 'schläft' ]\n",
      "         S          \n",
      "     ┌───┴──────┐    \n",
      "     NP         │   \n",
      " ┌───┴───┐      │    \n",
      " │      NOM     VP  \n",
      " │       │      │    \n",
      "DET      N      V   \n",
      " │       │      │    \n",
      "der     Mann schläft\n",
      "\n",
      "Expand: N -> 'Frau'\n",
      "    [ 'der' * 'Frau' VP ]\n",
      "Backtrack: 'Mann' match failed\n",
      "Expand: N -> 'Buch'\n",
      "    [ 'der' * 'Buch' VP ]\n",
      "Backtrack: 'Mann' match failed\n",
      "Expand: DET -> 'die'\n",
      "    [ * 'die' NOM VP ]\n",
      "Backtrack: 'der' match failed\n",
      "Expand: DET -> 'das'\n",
      "    [ * 'das' NOM VP ]\n",
      "Backtrack: 'der' match failed\n"
     ]
    }
   ],
   "source": [
    "##Recursive Descent Parser:\n",
    "parser = nltk.RecursiveDescentParser(grammar, trace=3)\n",
    "for tree in parser.parse(sent.split()):\n",
    "    tree.pretty_print(unicodelines=True)"
   ]
  },
  {
   "cell_type": "code",
   "execution_count": null,
   "metadata": {},
   "outputs": [],
   "source": [
    "##Shift Reduce Parser:\n",
    "parser = nltk.ShiftReduceParser(grammar, trace=2)\n",
    "for tree in parser.parse(sent.split()):\n",
    "    tree.pretty_print(unicodelines=True)"
   ]
  },
  {
   "cell_type": "code",
   "execution_count": null,
   "metadata": {},
   "outputs": [],
   "source": [
    "## Earley Parser:\n",
    "parser = nltk.EarleyChartParser(grammar, trace=2)\n",
    "for tree in parser.parse(sent.split()):\n",
    "    tree.pretty_print(unicodelines=True)"
   ]
  },
  {
   "cell_type": "markdown",
   "metadata": {},
   "source": [
    "## Aufgabe 3 - Verarbeitungsprobleme\n",
    "\n",
    "#### Die beiden einfachen top-down- bzw bottom-up-Parsingalgorithmen und ihre Implementierungen im NLTK haben bestimmte Einschränkungen. In den folgenden Teilaufgaben sollen Sie die verschiedenen Implementierung der folgenden Parsingalgorithmen im NLTK für bestimmte Grammatiken und Beispielsätze anwenden und die Ergebnisse vergleichen:\n",
    "\n",
    "1. Recursive-Descent-Parser\n",
    "  - https://www.nltk.org/book/ch08.html#recursive-descent-parsing\n",
    "  - *kann keine linksrekursiven Regeln verarbeiten!*\n",
    "\n",
    "2. Shift-Reduce-Parser\n",
    "  - https://www.nltk.org/book/ch08.html#shift-reduce-parsing\n",
    "  - *im NLTK kein Backtracking implementiert!*\n",
    "\n",
    "3. Chart-Parser\n",
    "  - https://www.nltk.org/book/ch08-extras.html#chart-parsing\n",
    "  - im NLTK 2 Strategien wählbar:\n",
    "    - `BU_STRATEGY` (bottom-up = Default)\n",
    "    - `TD_STRATEGY` (top-down, Parameter: `nltk.parse.TD_STRATEGY`)\n",
    "  - *keine Einschränkungen*\n"
   ]
  },
  {
   "cell_type": "markdown",
   "metadata": {},
   "source": [
    "### a) CFG mit linksrekursiven Regeln"
   ]
  },
  {
   "cell_type": "code",
   "execution_count": null,
   "metadata": {},
   "outputs": [],
   "source": [
    "sent= \"ein Hund rennt\""
   ]
  },
  {
   "cell_type": "code",
   "execution_count": null,
   "metadata": {},
   "outputs": [],
   "source": [
    "grammar = nltk.CFG.fromstring(\"\"\"\n",
    "    S -> NP VP\n",
    "    NP -> DET NOM\n",
    "    VP -> V\n",
    "\n",
    "#linksrekursiv:\n",
    "    NOM -> NOM PP \n",
    "\n",
    "    NOM -> N\n",
    "\n",
    "    DET -> \"ein\"\n",
    "    N -> \"Hund\"\n",
    "    V -> \"rennt\"\n",
    "\"\"\")"
   ]
  },
  {
   "cell_type": "code",
   "execution_count": null,
   "metadata": {},
   "outputs": [],
   "source": [
    "parser = nltk.ChartParser(grammar, trace=1) # ChartParser\n",
    "for tree in parser.parse(sent.split()):\n",
    "    tree.pretty_print(unicodelines=True)"
   ]
  },
  {
   "cell_type": "code",
   "execution_count": null,
   "metadata": {},
   "outputs": [],
   "source": [
    "parser = nltk.ShiftReduceParser(grammar,trace=2) # Shift-Reduce-Parser\n",
    "for tree in parser.parse(sent.split()):\n",
    "    tree.pretty_print(unicodelines=True)"
   ]
  },
  {
   "cell_type": "code",
   "execution_count": null,
   "metadata": {},
   "outputs": [],
   "source": [
    "parser = nltk.RecursiveDescentParser(grammar,trace=3) # Recursive-Descent-Parser\n",
    "for tree in parser.parse(sent.split()):\n",
    "    tree.pretty_print(unicodelines=True)"
   ]
  },
  {
   "cell_type": "markdown",
   "metadata": {},
   "source": [
    "### b) CFG mit rechtsrekursiven Regeln"
   ]
  },
  {
   "cell_type": "code",
   "execution_count": null,
   "metadata": {},
   "outputs": [],
   "source": [
    "sent= \"ein Hund rennt\""
   ]
  },
  {
   "cell_type": "code",
   "execution_count": null,
   "metadata": {},
   "outputs": [],
   "source": [
    "grammar = nltk.CFG.fromstring(\"\"\"\n",
    "    S -> NP VP\n",
    "    NP -> DET NOM\n",
    "    VP -> V\n",
    "\n",
    "#rechtsrekursiv:\n",
    "    NOM -> ADJ NOM\n",
    "    NOM -> N\n",
    "\n",
    "    DET -> \"ein\"\n",
    "    N -> \"Hund\"\n",
    "    V -> \"rennt\"\n",
    "    ADJ -> \"schneller\"\n",
    "\"\"\")"
   ]
  },
  {
   "cell_type": "code",
   "execution_count": null,
   "metadata": {},
   "outputs": [],
   "source": [
    "parser = nltk.RecursiveDescentParser(grammar,trace=3) # Recursive-Descent-Parser\n",
    "for tree in parser.parse(sent.split()):\n",
    "    tree.pretty_print(unicodelines=True)"
   ]
  },
  {
   "cell_type": "code",
   "execution_count": null,
   "metadata": {},
   "outputs": [],
   "source": [
    "sent= \"ein schneller Hund rennt\""
   ]
  },
  {
   "cell_type": "code",
   "execution_count": null,
   "metadata": {},
   "outputs": [],
   "source": [
    "parser = nltk.RecursiveDescentParser(grammar,trace=3) # Recursive-Descent-Parser\n",
    "for tree in parser.parse(sent.split()):\n",
    "    tree.pretty_print(unicodelines=True)"
   ]
  },
  {
   "cell_type": "markdown",
   "metadata": {},
   "source": [
    "### c) Backtracking bei Garden-Path-Sätzen"
   ]
  },
  {
   "cell_type": "code",
   "execution_count": null,
   "metadata": {},
   "outputs": [],
   "source": [
    "sent = 'the old man the boat'"
   ]
  },
  {
   "cell_type": "code",
   "execution_count": null,
   "metadata": {},
   "outputs": [],
   "source": [
    "grammar = nltk.CFG.fromstring(\"\"\"\n",
    "    S -> NP VP\n",
    "    NP -> DET ADJ N\n",
    "    NP -> DET N\n",
    "    VP -> V NP\n",
    "\n",
    "    DET -> 'the'\n",
    "    ADJ -> 'old'\n",
    "    N -> 'man' | 'boat' | 'old'\n",
    "    V -> 'man'\n",
    "\"\"\")"
   ]
  },
  {
   "cell_type": "code",
   "execution_count": null,
   "metadata": {},
   "outputs": [],
   "source": [
    "parser = nltk.ShiftReduceParser(grammar,trace=2) # Shift-Reduce-Parser\n",
    "for tree in parser.parse(sent.split()):\n",
    "    tree.pretty_print(unicodelines=True)"
   ]
  },
  {
   "cell_type": "code",
   "execution_count": null,
   "metadata": {},
   "outputs": [],
   "source": [
    "parser = nltk.RecursiveDescentParser(grammar,trace=3) # Recursive-Descent-Parser\n",
    "for tree in parser.parse(sent.split()):\n",
    "    tree.pretty_print(unicodelines=True)"
   ]
  },
  {
   "cell_type": "markdown",
   "metadata": {},
   "source": [
    "### d) Anpassung Regelreihenfolge Garden-Path\n",
    "\n",
    "#### Passen Sie die Reihenfolge der POS-ambigen Regeln an, so dass auch der Shift-Reduce-Parser ohne Backtracking den korrekten Parsebaum findet."
   ]
  },
  {
   "cell_type": "code",
   "execution_count": 6,
   "metadata": {},
   "outputs": [],
   "source": [
    "grammar = nltk.CFG.fromstring(\"\"\"\n",
    "    S -> NP VP\n",
    "    NP -> DET ADJ N\n",
    "    NP -> DET N\n",
    "    VP -> V NP\n",
    "\n",
    "    DET -> 'the'\n",
    "    ADJ -> 'old'\n",
    "    N -> 'man' | 'boat' | 'old'\n",
    "    V -> 'man'\n",
    "\"\"\")"
   ]
  },
  {
   "cell_type": "code",
   "execution_count": null,
   "metadata": {},
   "outputs": [],
   "source": [
    "parser = nltk.ShiftReduceParser(grammar,trace=2) # Shift-Reduce-Parser\n",
    "for tree in parser.parse(sent.split()):\n",
    "    tree.pretty_print(unicodelines=True)"
   ]
  }
 ],
 "metadata": {
  "kernelspec": {
   "display_name": "Python 3 (ipykernel)",
   "language": "python",
   "name": "python3"
  },
  "language_info": {
   "codemirror_mode": {
    "name": "ipython",
    "version": 3
   },
   "file_extension": ".py",
   "mimetype": "text/x-python",
   "name": "python",
   "nbconvert_exporter": "python",
   "pygments_lexer": "ipython3",
   "version": "3.11.6"
  }
 },
 "nbformat": 4,
 "nbformat_minor": 4
}
