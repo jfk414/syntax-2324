{
 "cells": [
  {
   "cell_type": "markdown",
   "metadata": {
    "slideshow": {
     "slide_type": "slide"
    }
   },
   "source": [
    "Syntax natürlicher Sprachen, WS 2023/24\n",
    "\n",
    "# Klausur\n",
    "\n",
    "- **Datum: 13.02.2024**\n",
    "- **Bearbeitungszeitraum: 10:00-11:30**\n",
    "- **Abgabezeitraum in Moodle: 11:30-11:45**"
   ]
  },
  {
   "cell_type": "markdown",
   "metadata": {},
   "source": [
    "- Die Klausur umfasst ***20 Einzelaufgaben***, verteilt auf 12 Themengebiete.\n",
    "- Jede korrekt gelöste Teilaufgabe (`#TO DO`-Codezelle) wird mit 2 Punkten bewertet."
   ]
  },
  {
   "cell_type": "markdown",
   "metadata": {},
   "source": [
    "## Übersicht\n",
    "\n",
    "- [Hinweise zur Bearbeitung](#Hinweise-zur-Bearbeitung)\n",
    "- [Laden von Paketen](#Laden-von-Paketen)\n",
    "\n",
    "---\n",
    "1. [Konstituenten- und Adjunkttests](#1.-Konstituenten--und-Adjunkttests) (4 Punkte)\n",
    "\n",
    "---\n",
    "2. [Konstituentengrammatik](#2.-Konstituentengrammatik) (2 Punkte)\n",
    "3. [X-Bar-Struktur](#3.-X-Bar-Struktur) (4 Punkte)\n",
    "4. [Parsing-Algorithmen und Rekursionstypen](#4.-Parsing-Algorithmen-und-Rekursionstypen) (2 Punkte)\n",
    "\n",
    "---\n",
    "5. [Dependenzstruktur](#5.-Dependenzstruktur) (4 Punkte)\n",
    "6. [Syntaktische Funktion](#6.-Syntaktische-Funktion) (2 Punkte)\n",
    "7. [Komplexer Satz](#7.-Komplexer-Satz) (4 Punkte)\n",
    "\n",
    "---\n",
    "8. [Unifikation und Subsumption](#8.-Unifikation-und-Subsumption) (4 Punkte)\n",
    "9. [Feature-based-Grammar](#9.-Feature-based-Grammar) (4 Punkte)\n",
    "\n",
    "---\n",
    "10. [Statistisches Parsing](#10.-Statistisches-Parsing) (4 Punkte)\n",
    "11. [Datengestuetzte Syntaxanalyse](#11.-Datengestuetzte-Syntaxanalyse) (4 Punkte)\n",
    "12. [Chunk-Analysen](#12.-Chunk-Analysen) (2 Punkte)\n"
   ]
  },
  {
   "cell_type": "markdown",
   "metadata": {},
   "source": [
    "---\n",
    "\n",
    "## Hinweise zur Bearbeitung\n",
    "\n",
    "### Falls noch nicht geschehen, benennen Sie bitte zunächst die Datei der Klausur-Angabe nach folgendem Schema um: \n",
    "\n",
    " #### `Nachname_Vorname_Matrikelnummer.ipynb`\n",
    " "
   ]
  },
  {
   "cell_type": "markdown",
   "metadata": {},
   "source": [
    "--- \n",
    "\n",
    "## Hinweise zum Ausfüllen der Codezellen\n",
    "\n",
    "### Wenn gegeben, führen Sie zunächst die mit `#RUN` markierten Codezellen zu Beginn einer Aufgabe aus (dies ist für eine erfolgreiche Bearbeitung der Aufgabe notwendig).\n",
    "\n",
    "### Verändern Sie nur die `#TO DO`-Codezellen (nur gemäß der Angabe in der jeweiligen Aufgabe)!\n",
    "\n",
    "### Führen Sie `#TO DO`-Codezellen nach Bearbeitung aus, um das Output ihrer Lösung zu generieren (dieses muss als Teil Ihrer Lösung mit abgespeichert werden); bei aufeinander aufbauenden Aufgaben (`a)`, `b)`usw.) ist zudem  notwendig, dass Sie Ihre Lösung aus der vorangehenden Teilaufgabe ausführen, damit diese in der folgenden zur Verfügung steht.\n",
    "\n",
    "### Angegebene Inhalte (Grammatikregeln usw.) dürfen nicht auskommentiert oder gelöscht werden, außer dies wird explizit anders erwähnt!\n",
    "\n",
    "\n",
    "### WICHTIG: Setzen Sie den Status des Notebooks ggf. auf `Trusted`, damit alle angegebenen Outputs korrekt angezeigt werden."
   ]
  },
  {
   "cell_type": "markdown",
   "metadata": {},
   "source": [
    "---\n",
    "\n",
    "[zurück zur Übersicht](#Übersicht)\n"
   ]
  },
  {
   "cell_type": "markdown",
   "metadata": {},
   "source": [
    "---\n",
    "\n",
    "## Laden von Paketen\n",
    "\n",
    "### Führen Sie zu Beginn folgende Codezelle aus.\n",
    "\n",
    "### Das erfolgreiche Ausführen dieser ist Voraussetzung für die Bearbeitung der folgenden Aufgaben.  "
   ]
  },
  {
   "cell_type": "code",
   "execution_count": 1,
   "metadata": {},
   "outputs": [],
   "source": [
    "#RUN (Führen Sie diese Code-Zelle aus:)\n",
    "import nltk\n",
    "from nltk.tree import Tree\n",
    "from nltk import FeatStruct\n",
    "import itertools\n",
    "\n",
    "\n",
    "from spacy import displacy\n",
    "\n",
    "def transform_nr_conll(sent_nr):\n",
    "    sent_list = []\n",
    "    for line in list(filter(None, sent_nr.split(\"\\n\"))):\n",
    "        line_list = line.split()\n",
    "        line_list.pop(0)\n",
    "        line_list.insert(1,\"_\")\n",
    "        sent_list.append(\" \".join([i for i in line_list[0:]]))\n",
    "\n",
    "    return \"\\n\".join([i for i in sent_list[0:]])\n",
    "\n",
    "\n",
    "\n",
    "from nltk import DependencyGraph\n",
    "from itertools import chain\n",
    "\n",
    "def _tree_labeled(self, i):\n",
    "        node = self.get_by_address(i)\n",
    "        word = node[\"word\"]\n",
    "        rel = node[\"rel\"]        \n",
    "        deps = sorted(chain.from_iterable(node[\"deps\"].values()))\n",
    "\n",
    "        if deps:\n",
    "            return Tree(word+'('+rel+')', [self._tree_labeled(dep) for dep in deps])\n",
    "        else:\n",
    "            return word+'('+rel+')'\n",
    "        \n",
    "def tree_labeled(self):\n",
    "        node = self.root\n",
    "\n",
    "        word = node[\"word\"]\n",
    "        rel = node[\"rel\"]\n",
    "        deps = sorted(chain.from_iterable(node[\"deps\"].values()))\n",
    "        return Tree(word+'('+rel+')', [self._tree_labeled(dep) for dep in deps])\n",
    "\n",
    "DependencyGraph._tree_labeled = _tree_labeled\n",
    "DependencyGraph.tree_labeled = tree_labeled\n",
    "\n",
    "\n",
    "\n",
    "def displacy_dep_input(sent):\n",
    "    deps = []\n",
    "    for dep in sent.split('\\n'):\n",
    "        deps.append(dep.split())\n",
    "\n",
    "    deps = [x for x in deps if x]\n",
    "\n",
    "    ex = []\n",
    "    word_list = []\n",
    "    arc_list = []\n",
    "\n",
    "    for index, dep in enumerate(deps):\n",
    "        word_list.append({\"text\": dep[0], \"tag\": \"\"})\n",
    "        line = index+1\n",
    "        head = int(dep[2])\n",
    "        label = dep[3]\n",
    "        if head>line:\n",
    "            start = index\n",
    "            end = head-1\n",
    "            direction = \"left\"\n",
    "        else:\n",
    "            start = head-1\n",
    "            end = index  \n",
    "            direction = \"right\"\n",
    "        if(label.lower() != \"root\"):\n",
    "            arc_list.append({\"start\": start, \"end\": end, \"label\": label, \"dir\": direction})\n",
    "\n",
    "    ex.append({\n",
    "        \"words\": word_list,\n",
    "        \"arcs\": arc_list\n",
    "    })    \n",
    "\n",
    "    return ex\n",
    "\n",
    "\n",
    "\n",
    "from nltk.featstruct import Feature, UnificationFailure, FeatStructReader\n",
    "import itertools\n",
    "from collections import defaultdict\n",
    "\n",
    "\n",
    "def check_sanity_constraints(th):\n",
    "    for type1, type2 in itertools.product(th, th):\n",
    "        if type1 in th[type2] and type2 in th[type1]:\n",
    "            if type1 != type2:\n",
    "                raise ValueError(\n",
    "                    \"The type hierarchy is not antisymmetric! \" +\n",
    "                    \"{} subsumes {} and vice versa!\".format(\n",
    "                        type1, type2\n",
    "                    )\n",
    "                )\n",
    "\n",
    "\n",
    "def refl_trans_closure(type_hierarchy):\n",
    "    # make everything a set\n",
    "    # and compute reflexive closure\n",
    "    closure = defaultdict(set)\n",
    "    for t in type_hierarchy:\n",
    "        closure[t] = set(type_hierarchy[t])\n",
    "        closure[t].add(t)\n",
    "\n",
    "    # compute transitive closure\n",
    "    still_changes = True\n",
    "    while still_changes:\n",
    "        still_changes = False\n",
    "        for x in closure:\n",
    "            new_for_x = set()\n",
    "            for y in closure[x]:\n",
    "                for z in closure[y]:\n",
    "                    new_for_x.add(z)\n",
    "            len_before = len(closure[x])\n",
    "            closure[x].update(new_for_x)\n",
    "            still_changes |= len(closure[x]) > len_before\n",
    "\n",
    "    return closure\n",
    "\n",
    "\n",
    "class HierarchicalFeature(Feature):\n",
    "    def __init__(self, name, type_hierarchy, **kwargs):\n",
    "        super(HierarchicalFeature, self).__init__(name, **kwargs)\n",
    "\n",
    "        self.hierarchy = refl_trans_closure(type_hierarchy)\n",
    "        check_sanity_constraints(self.hierarchy)\n",
    "\n",
    "    def unify_base_values(self, fval1, fval2, bindings):\n",
    "        candidates = self.hierarchy[fval1].intersection(self.hierarchy[fval2])\n",
    "        score = {t: 0 for t in candidates}\n",
    "        for type1, type2 in itertools.product(candidates, candidates):\n",
    "            if type1 in self.hierarchy[type2]:\n",
    "                score[type1] += 1\n",
    "\n",
    "        return min(candidates, key=score.__getitem__, default=UnificationFailure)"
   ]
  },
  {
   "cell_type": "markdown",
   "metadata": {},
   "source": [
    "---\n",
    "\n",
    "[zurück zur Übersicht](#Übersicht)\n"
   ]
  },
  {
   "cell_type": "markdown",
   "metadata": {},
   "source": [
    "--- \n",
    "\n",
    "## 1. Konstituenten- und Adjunkttests"
   ]
  },
  {
   "cell_type": "markdown",
   "metadata": {},
   "source": [
    "## 1.1 Substitutionstest\n",
    "\n",
    "### Ersetzen Sie unter Erhalt der Wohlgeformtheit die verschiedenen Satzglieder des folgenden Satzes, so dass ein minimaler 2-Wort-Satz entsteht. Sie können alle Formen der Substitution anwenden, also auch Pronominalisierung oder Eliminierung (Ersatz mit leerem String).\n"
   ]
  },
  {
   "cell_type": "code",
   "execution_count": 2,
   "metadata": {},
   "outputs": [
    {
     "data": {
      "text/plain": [
       "['er', 'läuft', '', '']"
      ]
     },
     "execution_count": 2,
     "metadata": {},
     "output_type": "execute_result"
    }
   ],
   "source": [
    "#TO_DO:\n",
    "sentence = [\"der kleine Hund\", \"läuft\", \"den ganzen Tag\", \"im Park\"]\n",
    "sentence[0] = \"er\"\n",
    "sentence[1] = \"läuft\"\n",
    "sentence[2] = \"\"\n",
    "sentence[3] = \"\"\n",
    "sentence"
   ]
  },
  {
   "cell_type": "markdown",
   "metadata": {},
   "source": [
    "---\n",
    "\n",
    "[zurück zur Übersicht](#Übersicht)\n"
   ]
  },
  {
   "cell_type": "markdown",
   "metadata": {},
   "source": [
    "---\n",
    "\n",
    "## 1.2 Adjunkt-Test\n",
    "\n",
    "### Geben Sie über den Listenindex (`TODO`) ein Satzglied des folgenden Satzes an, das vom geschehens-Test als Adjunkt festgestellt wird."
   ]
  },
  {
   "cell_type": "code",
   "execution_count": 3,
   "metadata": {},
   "outputs": [
    {
     "name": "stdout",
     "output_type": "stream",
     "text": [
      "der Hund hört auf der Straße nicht , und das geschieht  auf seinen Besitzer\n"
     ]
    }
   ],
   "source": [
    "#TO_DO:\n",
    "sentence = [\"der Hund\", \"hört\", \"auf der Straße\", \"nicht\", \"auf seinen Besitzer\"]\n",
    "satzglied_index = 4\n",
    "satzglied = sentence.pop(satzglied_index)\n",
    "print(*sentence, \", und das geschieht \", satzglied)"
   ]
  },
  {
   "cell_type": "markdown",
   "metadata": {},
   "source": [
    "---\n",
    "\n",
    "[zurück zur Übersicht](#Übersicht)\n"
   ]
  },
  {
   "cell_type": "markdown",
   "metadata": {},
   "source": [
    "---\n",
    "\n",
    "## 2. Konstituentengrammatik"
   ]
  },
  {
   "cell_type": "markdown",
   "metadata": {},
   "source": [
    "### Schreiben Sie zu dem folgenden Beispielsatz für syntaktische Ambiguität ein minimale CFG, die die intendierte Struktur des Beispielsatzes erkennt. Testen Sie anschließend Ihre Grammatik (Ausgabe nur der intendierten Analyse).\n",
    "\n",
    "- *(time flies)`S` and (mosquitoes like an arrow)`S`*\n"
   ]
  },
  {
   "cell_type": "code",
   "execution_count": 5,
   "metadata": {},
   "outputs": [
    {
     "name": "stdout",
     "output_type": "stream",
     "text": [
      "                         S                            \n",
      "      ┌──────────┬───────┴────────────┐                \n",
      "      │          │                    S               \n",
      "      │          │       ┌────────────┴───┐            \n",
      "      S          │       │                VP          \n",
      " ┌────┴────┐     │       │       ┌────────┴───┐        \n",
      " NP        VP    │       NP      │            NP      \n",
      " │         │     │       │       │        ┌───┴────┐   \n",
      " N         V   CConj     N       V       DET       N  \n",
      " │         │     │       │       │        │        │   \n",
      "time     flies  and  mosquitoes like      an     arrow\n",
      "\n"
     ]
    }
   ],
   "source": [
    "#TO_DO:\n",
    "sentence = \"time flies and mosquitoes like an arrow\"\n",
    "\n",
    "grammar = nltk.CFG.fromstring(\"\"\"\n",
    "    S -> S CConj S\n",
    "    S -> NP VP\n",
    "    NP -> N | DET N\n",
    "    VP -> V | V NP\n",
    "\n",
    "    N -> \"time\" | \"mosquitoes\" | \"arrow\"\n",
    "    DET -> \"an\"\n",
    "    V -> \"flies\" | \"like\"\n",
    "    CConj -> \"and\"\n",
    "\"\"\")\n",
    "\n",
    "parser = nltk.ChartParser(grammar,trace=0)\n",
    "\n",
    "for tree in parser.parse(sentence.split()):\n",
    "    tree.pretty_print(unicodelines=True)    "
   ]
  },
  {
   "cell_type": "markdown",
   "metadata": {},
   "source": [
    "---\n",
    "\n",
    "[zurück zur Übersicht](#Übersicht)\n"
   ]
  },
  {
   "cell_type": "markdown",
   "metadata": {},
   "source": [
    "---\n",
    "\n",
    "## 3. X-Bar-Struktur\n",
    "\n",
    "### 3a) Gegeben sei folgende koordinierte NP. Schreiben Sie CFG-Regeln, die die hier auftrende Ambiguität im Skopus des Adjektivs über X-Bar-Struktur sichtbar machen.\n",
    "\n",
    "- *die alten Männer und Frauen*\n",
    "\n",
    "##### Verwenden Sie NP als Startsymbol in der ersten Zeile der Grammatik."
   ]
  },
  {
   "cell_type": "code",
   "execution_count": 56,
   "metadata": {},
   "outputs": [
    {
     "name": "stdout",
     "output_type": "stream",
     "text": [
      "      NP                         \n",
      " ┌────┴─────────┐                 \n",
      " │             NOM               \n",
      " │         ┌────┴──────┬─────┐    \n",
      " │        NOM          │     │   \n",
      " │    ┌────┴────┐      │     │    \n",
      " │    │        NOM     │    NOM  \n",
      " │    │         │      │     │    \n",
      "DET  ADJ        N    CCONJ   N   \n",
      " │    │         │      │     │    \n",
      "die alten     Männer  und  Frauen\n",
      "\n",
      "            NP                   \n",
      " ┌──────────┴─────┐               \n",
      " │               NOM             \n",
      " │    ┌───────────┴────┐          \n",
      " │    │               NOM        \n",
      " │    │     ┌──────────┼─────┐    \n",
      " │    │    NOM         │    NOM  \n",
      " │    │     │          │     │    \n",
      "DET  ADJ    N        CCONJ   N   \n",
      " │    │     │          │     │    \n",
      "die alten Männer      und  Frauen\n",
      "\n"
     ]
    }
   ],
   "source": [
    "#TO_DO:\n",
    "phrase = \"die alten Männer und Frauen\"\n",
    "\n",
    "grammar = nltk.CFG.fromstring(\n",
    "\"\"\"\n",
    "    NP -> DET NOM\n",
    "    NOM -> NOM CCONJ NOM | ADJ NOM | N\n",
    "\n",
    "    N -> 'Männer' | 'Frauen'\n",
    "    ADJ -> 'alten'\n",
    "    DET -> 'die'\n",
    "    CCONJ -> 'und'\n",
    "\"\"\")\n",
    "\n",
    "parser = nltk.ChartParser(grammar,trace=0)\n",
    "\n",
    "for tree in parser.parse(phrase.split()):\n",
    "    tree.pretty_print(unicodelines=True)    "
   ]
  },
  {
   "cell_type": "markdown",
   "metadata": {},
   "source": [
    "### 3b) Erweitern Sie Ihre Grammatik nun um lexikalische und syntaktische Regeln in X-Bar-Struktur für folgendes Genitiv-NP-Komplement:\n",
    "\n",
    "- *die alten Männer der Frauen*"
   ]
  },
  {
   "cell_type": "code",
   "execution_count": 58,
   "metadata": {},
   "outputs": [
    {
     "name": "stdout",
     "output_type": "stream",
     "text": [
      "                NP                 \n",
      "      ┌─────────┴─────────┐         \n",
      "      NP                  │        \n",
      " ┌────┴────┐              │         \n",
      " │        NOM             NP       \n",
      " │    ┌────┴────┐     ┌───┴────┐    \n",
      " │    │        NOM    │       NOM  \n",
      " │    │         │     │        │    \n",
      "DET  ADJ        N    DET       N   \n",
      " │    │         │     │        │    \n",
      "die alten     Männer der     Frauen\n",
      "\n"
     ]
    }
   ],
   "source": [
    "#TO_DO:\n",
    "phrase = \"die alten Männer der Frauen\"\n",
    "\n",
    "grammar = nltk.CFG.fromstring(\n",
    "\"\"\"\n",
    "### GRAMMATIK HERUNTERKOPIEREN!\n",
    "    NP -> DET NOM\n",
    "    NOM -> NOM CCONJ NOM | ADJ NOM | N\n",
    "\n",
    "    N -> 'Männer' | 'Frauen'\n",
    "    ADJ -> 'alten'\n",
    "    DET -> 'die'\n",
    "    CCONJ -> 'und'\n",
    "\n",
    "######NEUE REGELN:\n",
    "    NP -> NP NP\n",
    "\n",
    "    DET -> 'der'\n",
    "\"\"\")\n",
    "\n",
    "parser = nltk.ChartParser(grammar,trace=0)\n",
    "\n",
    "for tree in parser.parse(phrase.split()):\n",
    "    tree.pretty_print(unicodelines=True)    "
   ]
  },
  {
   "cell_type": "markdown",
   "metadata": {},
   "source": [
    "---\n",
    "\n",
    "[zurück zur Übersicht](#Übersicht)\n"
   ]
  },
  {
   "cell_type": "markdown",
   "metadata": {},
   "source": [
    "---\n",
    "\n",
    "## 4. Parsing-Algorithmen und Rekursionstypen\n"
   ]
  },
  {
   "cell_type": "markdown",
   "metadata": {},
   "source": [
    "### Geben Sie Regeln an, die ein rekursives center-embedding von Relativsätzen der folgenden Art ermöglichen:\n",
    "\n",
    "- *My brother opened the window the maid the janitor uncle bill had hired had married had closed.*\n",
    "\n",
    "##### Sie müssen dabei keine vollständige Grammatik schreiben, sondern nur die Regeln angeben, die die Rekursion ermöglichen. Verwenden Sie dabei nur die Nichtterminale `NP`, `VP`, `RELSATZ`."
   ]
  },
  {
   "cell_type": "code",
   "execution_count": 7,
   "metadata": {},
   "outputs": [
    {
     "name": "stdout",
     "output_type": "stream",
     "text": [
      "Grammar with 2 productions (start state = RELSATZ)\n",
      "    RELSATZ -> NP RELSATZ VP\n",
      "    RELSATZ -> NP VP\n"
     ]
    }
   ],
   "source": [
    "#TO_DO:\n",
    "grammar = nltk.CFG.fromstring(\"\"\"\n",
    "    RELSATZ -> NP RELSATZ VP | NP VP\n",
    "\"\"\")\n",
    "\n",
    "print(grammar)"
   ]
  },
  {
   "cell_type": "markdown",
   "metadata": {},
   "source": [
    "---\n",
    "\n",
    "[zurück zur Übersicht](#Übersicht)\n"
   ]
  },
  {
   "cell_type": "markdown",
   "metadata": {},
   "source": [
    "---\n",
    "\n",
    "## 5. Dependenzstruktur\n",
    "\n",
    "## 5.1 Dependenzgrammatik"
   ]
  },
  {
   "cell_type": "markdown",
   "metadata": {},
   "source": [
    "### Schreiben Sie zu dem folgenden Beispielsatz für syntaktische Ambiguität eine minimale ungelabelte Dependenzgrammatik, die die intendierte Struktur des Beispielsatzes erkennt. Testen Sie anschließend Ihre Grammatik (Ausgabe nur der intendierten Analyse).\n",
    "\n",
    "- *(time flies and mosquitoes)`NP` (like an arrow)`VP`*\n",
    "\n",
    "##### Verwenden Sie die UD-Dependenzregeln. Satzzeichen müssen nicht behandelt werden."
   ]
  },
  {
   "cell_type": "code",
   "execution_count": 9,
   "metadata": {},
   "outputs": [
    {
     "name": "stdout",
     "output_type": "stream",
     "text": [
      "(like (flies time (mosquitoes and)) (arrow an)) \n",
      "\n",
      "              like         \n",
      "       ┌───────┴────────┐   \n",
      "     flies              │  \n",
      " ┌─────┴───────┐        │   \n",
      " │         mosquitoes arrow\n",
      " │             │        │   \n",
      "time          and       an \n",
      "\n"
     ]
    }
   ],
   "source": [
    "#TO_DO:\n",
    "sentence = \"time flies and mosquitoes like an arrow\"\n",
    "\n",
    "grammar = nltk.DependencyGrammar.fromstring(\"\"\"\n",
    "    'like' -> 'flies' | 'arrow'\n",
    "    'arrow' -> 'an'\n",
    "    'mosquitoes' -> 'and'\n",
    "    'flies' -> 'time' | 'mosquitoes'\n",
    "\"\"\")\n",
    "\n",
    "parser = nltk.ProjectiveDependencyParser(grammar)\n",
    "for tree in parser.parse(sentence.split()):\n",
    "    print(tree, \"\\n\")\n",
    "    tree.pretty_print(unicodelines=True)"
   ]
  },
  {
   "cell_type": "markdown",
   "metadata": {},
   "source": [
    "---\n",
    "\n",
    "[zurück zur Übersicht](#Übersicht)\n"
   ]
  },
  {
   "cell_type": "markdown",
   "metadata": {},
   "source": [
    "---\n",
    "\n",
    "## 5.2 Übergangsbasierter Shift-Reduce-Dependency-Parser\n",
    "\n",
    "#### Gegeben sei folgender Dependenzgraph:"
   ]
  },
  {
   "cell_type": "code",
   "execution_count": 10,
   "metadata": {},
   "outputs": [
    {
     "data": {
      "text/html": [
       "<span class=\"tex2jax_ignore\"><svg xmlns=\"http://www.w3.org/2000/svg\" xmlns:xlink=\"http://www.w3.org/1999/xlink\" xml:lang=\"en\" id=\"03d1b50b4eff49f48c18acf657bb93e6-0\" class=\"displacy\" width=\"550\" height=\"287.0\" direction=\"ltr\" style=\"max-width: none; height: 287.0px; color: #000000; background: #ffffff; font-family: Arial; direction: ltr\">\n",
       "<text class=\"displacy-token\" fill=\"currentColor\" text-anchor=\"middle\" y=\"197.0\">\n",
       "    <tspan class=\"displacy-word\" fill=\"currentColor\" x=\"50\">weil</tspan>\n",
       "    <tspan class=\"displacy-tag\" dy=\"2em\" fill=\"currentColor\" x=\"50\"></tspan>\n",
       "</text>\n",
       "\n",
       "<text class=\"displacy-token\" fill=\"currentColor\" text-anchor=\"middle\" y=\"197.0\">\n",
       "    <tspan class=\"displacy-word\" fill=\"currentColor\" x=\"150\">er</tspan>\n",
       "    <tspan class=\"displacy-tag\" dy=\"2em\" fill=\"currentColor\" x=\"150\"></tspan>\n",
       "</text>\n",
       "\n",
       "<text class=\"displacy-token\" fill=\"currentColor\" text-anchor=\"middle\" y=\"197.0\">\n",
       "    <tspan class=\"displacy-word\" fill=\"currentColor\" x=\"250\">ein</tspan>\n",
       "    <tspan class=\"displacy-tag\" dy=\"2em\" fill=\"currentColor\" x=\"250\"></tspan>\n",
       "</text>\n",
       "\n",
       "<text class=\"displacy-token\" fill=\"currentColor\" text-anchor=\"middle\" y=\"197.0\">\n",
       "    <tspan class=\"displacy-word\" fill=\"currentColor\" x=\"350\">Elefant</tspan>\n",
       "    <tspan class=\"displacy-tag\" dy=\"2em\" fill=\"currentColor\" x=\"350\"></tspan>\n",
       "</text>\n",
       "\n",
       "<text class=\"displacy-token\" fill=\"currentColor\" text-anchor=\"middle\" y=\"197.0\">\n",
       "    <tspan class=\"displacy-word\" fill=\"currentColor\" x=\"450\">ist</tspan>\n",
       "    <tspan class=\"displacy-tag\" dy=\"2em\" fill=\"currentColor\" x=\"450\"></tspan>\n",
       "</text>\n",
       "\n",
       "<g class=\"displacy-arrow\">\n",
       "    <path class=\"displacy-arc\" id=\"arrow-03d1b50b4eff49f48c18acf657bb93e6-0-0\" stroke-width=\"2px\" d=\"M70,152.0 C70,2.0 350.0,2.0 350.0,152.0\" fill=\"none\" stroke=\"currentColor\"/>\n",
       "    <text dy=\"1.25em\" style=\"font-size: 0.8em; letter-spacing: 1px\">\n",
       "        <textPath xlink:href=\"#arrow-03d1b50b4eff49f48c18acf657bb93e6-0-0\" class=\"displacy-label\" startOffset=\"50%\" side=\"left\" fill=\"currentColor\" text-anchor=\"middle\">mark</textPath>\n",
       "    </text>\n",
       "    <path class=\"displacy-arrowhead\" d=\"M70,154.0 L62,142.0 78,142.0\" fill=\"currentColor\"/>\n",
       "</g>\n",
       "\n",
       "<g class=\"displacy-arrow\">\n",
       "    <path class=\"displacy-arc\" id=\"arrow-03d1b50b4eff49f48c18acf657bb93e6-0-1\" stroke-width=\"2px\" d=\"M170,152.0 C170,52.0 345.0,52.0 345.0,152.0\" fill=\"none\" stroke=\"currentColor\"/>\n",
       "    <text dy=\"1.25em\" style=\"font-size: 0.8em; letter-spacing: 1px\">\n",
       "        <textPath xlink:href=\"#arrow-03d1b50b4eff49f48c18acf657bb93e6-0-1\" class=\"displacy-label\" startOffset=\"50%\" side=\"left\" fill=\"currentColor\" text-anchor=\"middle\">nsubj</textPath>\n",
       "    </text>\n",
       "    <path class=\"displacy-arrowhead\" d=\"M170,154.0 L162,142.0 178,142.0\" fill=\"currentColor\"/>\n",
       "</g>\n",
       "\n",
       "<g class=\"displacy-arrow\">\n",
       "    <path class=\"displacy-arc\" id=\"arrow-03d1b50b4eff49f48c18acf657bb93e6-0-2\" stroke-width=\"2px\" d=\"M270,152.0 C270,102.0 340.0,102.0 340.0,152.0\" fill=\"none\" stroke=\"currentColor\"/>\n",
       "    <text dy=\"1.25em\" style=\"font-size: 0.8em; letter-spacing: 1px\">\n",
       "        <textPath xlink:href=\"#arrow-03d1b50b4eff49f48c18acf657bb93e6-0-2\" class=\"displacy-label\" startOffset=\"50%\" side=\"left\" fill=\"currentColor\" text-anchor=\"middle\">det</textPath>\n",
       "    </text>\n",
       "    <path class=\"displacy-arrowhead\" d=\"M270,154.0 L262,142.0 278,142.0\" fill=\"currentColor\"/>\n",
       "</g>\n",
       "\n",
       "<g class=\"displacy-arrow\">\n",
       "    <path class=\"displacy-arc\" id=\"arrow-03d1b50b4eff49f48c18acf657bb93e6-0-3\" stroke-width=\"2px\" d=\"M370,152.0 C370,102.0 440.0,102.0 440.0,152.0\" fill=\"none\" stroke=\"currentColor\"/>\n",
       "    <text dy=\"1.25em\" style=\"font-size: 0.8em; letter-spacing: 1px\">\n",
       "        <textPath xlink:href=\"#arrow-03d1b50b4eff49f48c18acf657bb93e6-0-3\" class=\"displacy-label\" startOffset=\"50%\" side=\"left\" fill=\"currentColor\" text-anchor=\"middle\">aux</textPath>\n",
       "    </text>\n",
       "    <path class=\"displacy-arrowhead\" d=\"M440.0,154.0 L448.0,142.0 432.0,142.0\" fill=\"currentColor\"/>\n",
       "</g>\n",
       "</svg></span>"
      ],
      "text/plain": [
       "<IPython.core.display.HTML object>"
      ]
     },
     "metadata": {},
     "output_type": "display_data"
    }
   ],
   "source": [
    "sent_nr = \"\"\"\n",
    "1 weil 4 mark \n",
    "2 er 4 nsubj\n",
    "3 ein 4 det\n",
    "4 Elefant 0 ROOT\n",
    "5 ist 4 aux\n",
    "\"\"\"\n",
    "\n",
    "sent = transform_nr_conll(sent_nr)\n",
    "dg = DependencyGraph(sent)\n",
    "\n",
    "ex = displacy_dep_input(sent)\n",
    "html = displacy.render(ex, style=\"dep\", manual=True, options={'distance':100})"
   ]
  },
  {
   "cell_type": "markdown",
   "metadata": {},
   "source": [
    "### Geben Sie den Typ der REDUCE-Übergänge (`LEFTARC`, `RIGHTARC`) sowie die Reihenfolge deren Durchführung bei Verarbeitung dieser Struktur mit einem Shift-Reduce-Dependency-Parser an."
   ]
  },
  {
   "cell_type": "code",
   "execution_count": 13,
   "metadata": {},
   "outputs": [
    {
     "data": {
      "text/html": [
       "<span class=\"tex2jax_ignore\"><svg xmlns=\"http://www.w3.org/2000/svg\" xmlns:xlink=\"http://www.w3.org/1999/xlink\" xml:lang=\"en\" id=\"b65ef23284094986aa97b7f24e38bd5b-0\" class=\"displacy\" width=\"550\" height=\"287.0\" direction=\"ltr\" style=\"max-width: none; height: 287.0px; color: #000000; background: #ffffff; font-family: Arial; direction: ltr\">\n",
       "<text class=\"displacy-token\" fill=\"currentColor\" text-anchor=\"middle\" y=\"197.0\">\n",
       "    <tspan class=\"displacy-word\" fill=\"currentColor\" x=\"50\">weil</tspan>\n",
       "    <tspan class=\"displacy-tag\" dy=\"2em\" fill=\"currentColor\" x=\"50\"></tspan>\n",
       "</text>\n",
       "\n",
       "<text class=\"displacy-token\" fill=\"currentColor\" text-anchor=\"middle\" y=\"197.0\">\n",
       "    <tspan class=\"displacy-word\" fill=\"currentColor\" x=\"150\">er</tspan>\n",
       "    <tspan class=\"displacy-tag\" dy=\"2em\" fill=\"currentColor\" x=\"150\"></tspan>\n",
       "</text>\n",
       "\n",
       "<text class=\"displacy-token\" fill=\"currentColor\" text-anchor=\"middle\" y=\"197.0\">\n",
       "    <tspan class=\"displacy-word\" fill=\"currentColor\" x=\"250\">ein</tspan>\n",
       "    <tspan class=\"displacy-tag\" dy=\"2em\" fill=\"currentColor\" x=\"250\"></tspan>\n",
       "</text>\n",
       "\n",
       "<text class=\"displacy-token\" fill=\"currentColor\" text-anchor=\"middle\" y=\"197.0\">\n",
       "    <tspan class=\"displacy-word\" fill=\"currentColor\" x=\"350\">Elefant</tspan>\n",
       "    <tspan class=\"displacy-tag\" dy=\"2em\" fill=\"currentColor\" x=\"350\"></tspan>\n",
       "</text>\n",
       "\n",
       "<text class=\"displacy-token\" fill=\"currentColor\" text-anchor=\"middle\" y=\"197.0\">\n",
       "    <tspan class=\"displacy-word\" fill=\"currentColor\" x=\"450\">ist</tspan>\n",
       "    <tspan class=\"displacy-tag\" dy=\"2em\" fill=\"currentColor\" x=\"450\"></tspan>\n",
       "</text>\n",
       "\n",
       "<g class=\"displacy-arrow\">\n",
       "    <path class=\"displacy-arc\" id=\"arrow-b65ef23284094986aa97b7f24e38bd5b-0-0\" stroke-width=\"2px\" d=\"M70,152.0 C70,2.0 350.0,2.0 350.0,152.0\" fill=\"none\" stroke=\"currentColor\"/>\n",
       "    <text dy=\"1.25em\" style=\"font-size: 0.8em; letter-spacing: 1px\">\n",
       "        <textPath xlink:href=\"#arrow-b65ef23284094986aa97b7f24e38bd5b-0-0\" class=\"displacy-label\" startOffset=\"50%\" side=\"left\" fill=\"currentColor\" text-anchor=\"middle\">LEFTARC-3</textPath>\n",
       "    </text>\n",
       "    <path class=\"displacy-arrowhead\" d=\"M70,154.0 L62,142.0 78,142.0\" fill=\"currentColor\"/>\n",
       "</g>\n",
       "\n",
       "<g class=\"displacy-arrow\">\n",
       "    <path class=\"displacy-arc\" id=\"arrow-b65ef23284094986aa97b7f24e38bd5b-0-1\" stroke-width=\"2px\" d=\"M170,152.0 C170,52.0 345.0,52.0 345.0,152.0\" fill=\"none\" stroke=\"currentColor\"/>\n",
       "    <text dy=\"1.25em\" style=\"font-size: 0.8em; letter-spacing: 1px\">\n",
       "        <textPath xlink:href=\"#arrow-b65ef23284094986aa97b7f24e38bd5b-0-1\" class=\"displacy-label\" startOffset=\"50%\" side=\"left\" fill=\"currentColor\" text-anchor=\"middle\">LEFTARC-2</textPath>\n",
       "    </text>\n",
       "    <path class=\"displacy-arrowhead\" d=\"M170,154.0 L162,142.0 178,142.0\" fill=\"currentColor\"/>\n",
       "</g>\n",
       "\n",
       "<g class=\"displacy-arrow\">\n",
       "    <path class=\"displacy-arc\" id=\"arrow-b65ef23284094986aa97b7f24e38bd5b-0-2\" stroke-width=\"2px\" d=\"M270,152.0 C270,102.0 340.0,102.0 340.0,152.0\" fill=\"none\" stroke=\"currentColor\"/>\n",
       "    <text dy=\"1.25em\" style=\"font-size: 0.8em; letter-spacing: 1px\">\n",
       "        <textPath xlink:href=\"#arrow-b65ef23284094986aa97b7f24e38bd5b-0-2\" class=\"displacy-label\" startOffset=\"50%\" side=\"left\" fill=\"currentColor\" text-anchor=\"middle\">LEFTARC-1</textPath>\n",
       "    </text>\n",
       "    <path class=\"displacy-arrowhead\" d=\"M270,154.0 L262,142.0 278,142.0\" fill=\"currentColor\"/>\n",
       "</g>\n",
       "\n",
       "<g class=\"displacy-arrow\">\n",
       "    <path class=\"displacy-arc\" id=\"arrow-b65ef23284094986aa97b7f24e38bd5b-0-3\" stroke-width=\"2px\" d=\"M370,152.0 C370,102.0 440.0,102.0 440.0,152.0\" fill=\"none\" stroke=\"currentColor\"/>\n",
       "    <text dy=\"1.25em\" style=\"font-size: 0.8em; letter-spacing: 1px\">\n",
       "        <textPath xlink:href=\"#arrow-b65ef23284094986aa97b7f24e38bd5b-0-3\" class=\"displacy-label\" startOffset=\"50%\" side=\"left\" fill=\"currentColor\" text-anchor=\"middle\">RIGHTARC-4</textPath>\n",
       "    </text>\n",
       "    <path class=\"displacy-arrowhead\" d=\"M440.0,154.0 L448.0,142.0 432.0,142.0\" fill=\"currentColor\"/>\n",
       "</g>\n",
       "</svg></span>"
      ],
      "text/plain": [
       "<IPython.core.display.HTML object>"
      ]
     },
     "metadata": {},
     "output_type": "display_data"
    }
   ],
   "source": [
    "#TO_DO:\n",
    "sent_nr = \"\"\"\n",
    "1 weil 4 LEFTARC-3 \n",
    "2 er 4 LEFTARC-2\n",
    "3 ein 4 LEFTARC-1\n",
    "4 Elefant 0 ROOT\n",
    "5 ist 4 RIGHTARC-4\n",
    "\"\"\"\n",
    "\n",
    "sent = transform_nr_conll(sent_nr)\n",
    "dg = DependencyGraph(sent)\n",
    "\n",
    "ex = displacy_dep_input(sent)\n",
    "html = displacy.render(ex, style=\"dep\", manual=True, options={'distance':100})"
   ]
  },
  {
   "cell_type": "markdown",
   "metadata": {},
   "source": [
    "---\n",
    "\n",
    "[zurück zur Übersicht](#Übersicht)\n"
   ]
  },
  {
   "cell_type": "markdown",
   "metadata": {},
   "source": [
    "---\n",
    "\n",
    "## 6. Syntaktische Funktion\n",
    "\n",
    "### Analysieren Sie die Dependenzbeziehungen des folgenden Satzes im UD-Schema:\n",
    "\n",
    "- *Des alten Mannes großer Hund lief gestern bei Rot über die Straße.*\n",
    "\n",
    "#### Verwenden Sie das aus der Vorlesung bekannte Format: \n",
    "\n",
    "- pro Zeile: `Position, Wort, Position des Kopfes, Dependenzrelation`\n",
    "- Wurzelknoten: `Position des Kopfes` = 0, `Dependenzrelation` = ROOT\n",
    "\n",
    "##### Wie in der Angabe bereits vorgegeben, können Sie auf die Analyse von Satzzeichen verzichten.\n"
   ]
  },
  {
   "cell_type": "code",
   "execution_count": 59,
   "metadata": {},
   "outputs": [
    {
     "name": "stdout",
     "output_type": "stream",
     "text": [
      "                                                       lief(ROOT)                                          \n",
      "       ┌──────────────────────────┬────────────────────────┴──────────┬─────────────────────┐               \n",
      "       │                     Hund(nsubj)                              │                     │              \n",
      "       │             ┌────────────┴───────────┐                       │                     │               \n",
      "       │             │                   Mannes(nmod)              Rot(obl)            Straße(obl)         \n",
      "       │             │            ┌───────────┴────────────┐          │         ┌───────────┴─────────┐     \n",
      "gestern(advmod) großer(amod)   Des(det)               alten(amod) bei(case) über(case)             die(det)\n",
      "\n"
     ]
    },
    {
     "data": {
      "text/html": [
       "<span class=\"tex2jax_ignore\"><svg xmlns=\"http://www.w3.org/2000/svg\" xmlns:xlink=\"http://www.w3.org/1999/xlink\" xml:lang=\"en\" id=\"9b8900fcd23547c5898aefee73bc2a57-0\" class=\"displacy\" width=\"1250\" height=\"287.0\" direction=\"ltr\" style=\"max-width: none; height: 287.0px; color: #000000; background: #ffffff; font-family: Arial; direction: ltr\">\n",
       "<text class=\"displacy-token\" fill=\"currentColor\" text-anchor=\"middle\" y=\"197.0\">\n",
       "    <tspan class=\"displacy-word\" fill=\"currentColor\" x=\"50\">Des</tspan>\n",
       "    <tspan class=\"displacy-tag\" dy=\"2em\" fill=\"currentColor\" x=\"50\"></tspan>\n",
       "</text>\n",
       "\n",
       "<text class=\"displacy-token\" fill=\"currentColor\" text-anchor=\"middle\" y=\"197.0\">\n",
       "    <tspan class=\"displacy-word\" fill=\"currentColor\" x=\"150\">alten</tspan>\n",
       "    <tspan class=\"displacy-tag\" dy=\"2em\" fill=\"currentColor\" x=\"150\"></tspan>\n",
       "</text>\n",
       "\n",
       "<text class=\"displacy-token\" fill=\"currentColor\" text-anchor=\"middle\" y=\"197.0\">\n",
       "    <tspan class=\"displacy-word\" fill=\"currentColor\" x=\"250\">Mannes</tspan>\n",
       "    <tspan class=\"displacy-tag\" dy=\"2em\" fill=\"currentColor\" x=\"250\"></tspan>\n",
       "</text>\n",
       "\n",
       "<text class=\"displacy-token\" fill=\"currentColor\" text-anchor=\"middle\" y=\"197.0\">\n",
       "    <tspan class=\"displacy-word\" fill=\"currentColor\" x=\"350\">großer</tspan>\n",
       "    <tspan class=\"displacy-tag\" dy=\"2em\" fill=\"currentColor\" x=\"350\"></tspan>\n",
       "</text>\n",
       "\n",
       "<text class=\"displacy-token\" fill=\"currentColor\" text-anchor=\"middle\" y=\"197.0\">\n",
       "    <tspan class=\"displacy-word\" fill=\"currentColor\" x=\"450\">Hund</tspan>\n",
       "    <tspan class=\"displacy-tag\" dy=\"2em\" fill=\"currentColor\" x=\"450\"></tspan>\n",
       "</text>\n",
       "\n",
       "<text class=\"displacy-token\" fill=\"currentColor\" text-anchor=\"middle\" y=\"197.0\">\n",
       "    <tspan class=\"displacy-word\" fill=\"currentColor\" x=\"550\">lief</tspan>\n",
       "    <tspan class=\"displacy-tag\" dy=\"2em\" fill=\"currentColor\" x=\"550\"></tspan>\n",
       "</text>\n",
       "\n",
       "<text class=\"displacy-token\" fill=\"currentColor\" text-anchor=\"middle\" y=\"197.0\">\n",
       "    <tspan class=\"displacy-word\" fill=\"currentColor\" x=\"650\">gestern</tspan>\n",
       "    <tspan class=\"displacy-tag\" dy=\"2em\" fill=\"currentColor\" x=\"650\"></tspan>\n",
       "</text>\n",
       "\n",
       "<text class=\"displacy-token\" fill=\"currentColor\" text-anchor=\"middle\" y=\"197.0\">\n",
       "    <tspan class=\"displacy-word\" fill=\"currentColor\" x=\"750\">bei</tspan>\n",
       "    <tspan class=\"displacy-tag\" dy=\"2em\" fill=\"currentColor\" x=\"750\"></tspan>\n",
       "</text>\n",
       "\n",
       "<text class=\"displacy-token\" fill=\"currentColor\" text-anchor=\"middle\" y=\"197.0\">\n",
       "    <tspan class=\"displacy-word\" fill=\"currentColor\" x=\"850\">Rot</tspan>\n",
       "    <tspan class=\"displacy-tag\" dy=\"2em\" fill=\"currentColor\" x=\"850\"></tspan>\n",
       "</text>\n",
       "\n",
       "<text class=\"displacy-token\" fill=\"currentColor\" text-anchor=\"middle\" y=\"197.0\">\n",
       "    <tspan class=\"displacy-word\" fill=\"currentColor\" x=\"950\">über</tspan>\n",
       "    <tspan class=\"displacy-tag\" dy=\"2em\" fill=\"currentColor\" x=\"950\"></tspan>\n",
       "</text>\n",
       "\n",
       "<text class=\"displacy-token\" fill=\"currentColor\" text-anchor=\"middle\" y=\"197.0\">\n",
       "    <tspan class=\"displacy-word\" fill=\"currentColor\" x=\"1050\">die</tspan>\n",
       "    <tspan class=\"displacy-tag\" dy=\"2em\" fill=\"currentColor\" x=\"1050\"></tspan>\n",
       "</text>\n",
       "\n",
       "<text class=\"displacy-token\" fill=\"currentColor\" text-anchor=\"middle\" y=\"197.0\">\n",
       "    <tspan class=\"displacy-word\" fill=\"currentColor\" x=\"1150\">Straße</tspan>\n",
       "    <tspan class=\"displacy-tag\" dy=\"2em\" fill=\"currentColor\" x=\"1150\"></tspan>\n",
       "</text>\n",
       "\n",
       "<g class=\"displacy-arrow\">\n",
       "    <path class=\"displacy-arc\" id=\"arrow-9b8900fcd23547c5898aefee73bc2a57-0-0\" stroke-width=\"2px\" d=\"M70,152.0 C70,52.0 245.0,52.0 245.0,152.0\" fill=\"none\" stroke=\"currentColor\"/>\n",
       "    <text dy=\"1.25em\" style=\"font-size: 0.8em; letter-spacing: 1px\">\n",
       "        <textPath xlink:href=\"#arrow-9b8900fcd23547c5898aefee73bc2a57-0-0\" class=\"displacy-label\" startOffset=\"50%\" side=\"left\" fill=\"currentColor\" text-anchor=\"middle\">det</textPath>\n",
       "    </text>\n",
       "    <path class=\"displacy-arrowhead\" d=\"M70,154.0 L62,142.0 78,142.0\" fill=\"currentColor\"/>\n",
       "</g>\n",
       "\n",
       "<g class=\"displacy-arrow\">\n",
       "    <path class=\"displacy-arc\" id=\"arrow-9b8900fcd23547c5898aefee73bc2a57-0-1\" stroke-width=\"2px\" d=\"M170,152.0 C170,102.0 240.0,102.0 240.0,152.0\" fill=\"none\" stroke=\"currentColor\"/>\n",
       "    <text dy=\"1.25em\" style=\"font-size: 0.8em; letter-spacing: 1px\">\n",
       "        <textPath xlink:href=\"#arrow-9b8900fcd23547c5898aefee73bc2a57-0-1\" class=\"displacy-label\" startOffset=\"50%\" side=\"left\" fill=\"currentColor\" text-anchor=\"middle\">amod</textPath>\n",
       "    </text>\n",
       "    <path class=\"displacy-arrowhead\" d=\"M170,154.0 L162,142.0 178,142.0\" fill=\"currentColor\"/>\n",
       "</g>\n",
       "\n",
       "<g class=\"displacy-arrow\">\n",
       "    <path class=\"displacy-arc\" id=\"arrow-9b8900fcd23547c5898aefee73bc2a57-0-2\" stroke-width=\"2px\" d=\"M270,152.0 C270,52.0 445.0,52.0 445.0,152.0\" fill=\"none\" stroke=\"currentColor\"/>\n",
       "    <text dy=\"1.25em\" style=\"font-size: 0.8em; letter-spacing: 1px\">\n",
       "        <textPath xlink:href=\"#arrow-9b8900fcd23547c5898aefee73bc2a57-0-2\" class=\"displacy-label\" startOffset=\"50%\" side=\"left\" fill=\"currentColor\" text-anchor=\"middle\">nmod</textPath>\n",
       "    </text>\n",
       "    <path class=\"displacy-arrowhead\" d=\"M270,154.0 L262,142.0 278,142.0\" fill=\"currentColor\"/>\n",
       "</g>\n",
       "\n",
       "<g class=\"displacy-arrow\">\n",
       "    <path class=\"displacy-arc\" id=\"arrow-9b8900fcd23547c5898aefee73bc2a57-0-3\" stroke-width=\"2px\" d=\"M370,152.0 C370,102.0 440.0,102.0 440.0,152.0\" fill=\"none\" stroke=\"currentColor\"/>\n",
       "    <text dy=\"1.25em\" style=\"font-size: 0.8em; letter-spacing: 1px\">\n",
       "        <textPath xlink:href=\"#arrow-9b8900fcd23547c5898aefee73bc2a57-0-3\" class=\"displacy-label\" startOffset=\"50%\" side=\"left\" fill=\"currentColor\" text-anchor=\"middle\">amod</textPath>\n",
       "    </text>\n",
       "    <path class=\"displacy-arrowhead\" d=\"M370,154.0 L362,142.0 378,142.0\" fill=\"currentColor\"/>\n",
       "</g>\n",
       "\n",
       "<g class=\"displacy-arrow\">\n",
       "    <path class=\"displacy-arc\" id=\"arrow-9b8900fcd23547c5898aefee73bc2a57-0-4\" stroke-width=\"2px\" d=\"M470,152.0 C470,102.0 540.0,102.0 540.0,152.0\" fill=\"none\" stroke=\"currentColor\"/>\n",
       "    <text dy=\"1.25em\" style=\"font-size: 0.8em; letter-spacing: 1px\">\n",
       "        <textPath xlink:href=\"#arrow-9b8900fcd23547c5898aefee73bc2a57-0-4\" class=\"displacy-label\" startOffset=\"50%\" side=\"left\" fill=\"currentColor\" text-anchor=\"middle\">nsubj</textPath>\n",
       "    </text>\n",
       "    <path class=\"displacy-arrowhead\" d=\"M470,154.0 L462,142.0 478,142.0\" fill=\"currentColor\"/>\n",
       "</g>\n",
       "\n",
       "<g class=\"displacy-arrow\">\n",
       "    <path class=\"displacy-arc\" id=\"arrow-9b8900fcd23547c5898aefee73bc2a57-0-5\" stroke-width=\"2px\" d=\"M570,152.0 C570,102.0 640.0,102.0 640.0,152.0\" fill=\"none\" stroke=\"currentColor\"/>\n",
       "    <text dy=\"1.25em\" style=\"font-size: 0.8em; letter-spacing: 1px\">\n",
       "        <textPath xlink:href=\"#arrow-9b8900fcd23547c5898aefee73bc2a57-0-5\" class=\"displacy-label\" startOffset=\"50%\" side=\"left\" fill=\"currentColor\" text-anchor=\"middle\">advmod</textPath>\n",
       "    </text>\n",
       "    <path class=\"displacy-arrowhead\" d=\"M640.0,154.0 L648.0,142.0 632.0,142.0\" fill=\"currentColor\"/>\n",
       "</g>\n",
       "\n",
       "<g class=\"displacy-arrow\">\n",
       "    <path class=\"displacy-arc\" id=\"arrow-9b8900fcd23547c5898aefee73bc2a57-0-6\" stroke-width=\"2px\" d=\"M770,152.0 C770,102.0 840.0,102.0 840.0,152.0\" fill=\"none\" stroke=\"currentColor\"/>\n",
       "    <text dy=\"1.25em\" style=\"font-size: 0.8em; letter-spacing: 1px\">\n",
       "        <textPath xlink:href=\"#arrow-9b8900fcd23547c5898aefee73bc2a57-0-6\" class=\"displacy-label\" startOffset=\"50%\" side=\"left\" fill=\"currentColor\" text-anchor=\"middle\">case</textPath>\n",
       "    </text>\n",
       "    <path class=\"displacy-arrowhead\" d=\"M770,154.0 L762,142.0 778,142.0\" fill=\"currentColor\"/>\n",
       "</g>\n",
       "\n",
       "<g class=\"displacy-arrow\">\n",
       "    <path class=\"displacy-arc\" id=\"arrow-9b8900fcd23547c5898aefee73bc2a57-0-7\" stroke-width=\"2px\" d=\"M570,152.0 C570,52.0 845.0,52.0 845.0,152.0\" fill=\"none\" stroke=\"currentColor\"/>\n",
       "    <text dy=\"1.25em\" style=\"font-size: 0.8em; letter-spacing: 1px\">\n",
       "        <textPath xlink:href=\"#arrow-9b8900fcd23547c5898aefee73bc2a57-0-7\" class=\"displacy-label\" startOffset=\"50%\" side=\"left\" fill=\"currentColor\" text-anchor=\"middle\">obl</textPath>\n",
       "    </text>\n",
       "    <path class=\"displacy-arrowhead\" d=\"M845.0,154.0 L853.0,142.0 837.0,142.0\" fill=\"currentColor\"/>\n",
       "</g>\n",
       "\n",
       "<g class=\"displacy-arrow\">\n",
       "    <path class=\"displacy-arc\" id=\"arrow-9b8900fcd23547c5898aefee73bc2a57-0-8\" stroke-width=\"2px\" d=\"M970,152.0 C970,52.0 1145.0,52.0 1145.0,152.0\" fill=\"none\" stroke=\"currentColor\"/>\n",
       "    <text dy=\"1.25em\" style=\"font-size: 0.8em; letter-spacing: 1px\">\n",
       "        <textPath xlink:href=\"#arrow-9b8900fcd23547c5898aefee73bc2a57-0-8\" class=\"displacy-label\" startOffset=\"50%\" side=\"left\" fill=\"currentColor\" text-anchor=\"middle\">case</textPath>\n",
       "    </text>\n",
       "    <path class=\"displacy-arrowhead\" d=\"M970,154.0 L962,142.0 978,142.0\" fill=\"currentColor\"/>\n",
       "</g>\n",
       "\n",
       "<g class=\"displacy-arrow\">\n",
       "    <path class=\"displacy-arc\" id=\"arrow-9b8900fcd23547c5898aefee73bc2a57-0-9\" stroke-width=\"2px\" d=\"M1070,152.0 C1070,102.0 1140.0,102.0 1140.0,152.0\" fill=\"none\" stroke=\"currentColor\"/>\n",
       "    <text dy=\"1.25em\" style=\"font-size: 0.8em; letter-spacing: 1px\">\n",
       "        <textPath xlink:href=\"#arrow-9b8900fcd23547c5898aefee73bc2a57-0-9\" class=\"displacy-label\" startOffset=\"50%\" side=\"left\" fill=\"currentColor\" text-anchor=\"middle\">det</textPath>\n",
       "    </text>\n",
       "    <path class=\"displacy-arrowhead\" d=\"M1070,154.0 L1062,142.0 1078,142.0\" fill=\"currentColor\"/>\n",
       "</g>\n",
       "\n",
       "<g class=\"displacy-arrow\">\n",
       "    <path class=\"displacy-arc\" id=\"arrow-9b8900fcd23547c5898aefee73bc2a57-0-10\" stroke-width=\"2px\" d=\"M570,152.0 C570,2.0 1150.0,2.0 1150.0,152.0\" fill=\"none\" stroke=\"currentColor\"/>\n",
       "    <text dy=\"1.25em\" style=\"font-size: 0.8em; letter-spacing: 1px\">\n",
       "        <textPath xlink:href=\"#arrow-9b8900fcd23547c5898aefee73bc2a57-0-10\" class=\"displacy-label\" startOffset=\"50%\" side=\"left\" fill=\"currentColor\" text-anchor=\"middle\">obl</textPath>\n",
       "    </text>\n",
       "    <path class=\"displacy-arrowhead\" d=\"M1150.0,154.0 L1158.0,142.0 1142.0,142.0\" fill=\"currentColor\"/>\n",
       "</g>\n",
       "</svg></span>"
      ],
      "text/plain": [
       "<IPython.core.display.HTML object>"
      ]
     },
     "metadata": {},
     "output_type": "display_data"
    }
   ],
   "source": [
    "#TO_DO:\n",
    "sent_nr = \"\"\"\n",
    "1 Des 3 det\n",
    "2 alten 3 amod\n",
    "3 Mannes 5 nmod\n",
    "4 großer 5 amod\n",
    "5 Hund 6 nsubj\n",
    "6 lief 0 ROOT\n",
    "7 gestern 6 advmod\n",
    "8 bei 9 case\n",
    "9 Rot 6 obl\n",
    "10 über 12 case\n",
    "11 die 12 det\n",
    "12 Straße 6 obl\n",
    "\"\"\"\n",
    "\n",
    "sent = transform_nr_conll(sent_nr)\n",
    "dg = DependencyGraph(sent)\n",
    "\n",
    "tree_labeled = dg.tree_labeled()\n",
    "tree_labeled.pretty_print(unicodelines=True)  \n",
    "\n",
    "ex = displacy_dep_input(sent)\n",
    "html = displacy.render(ex, style=\"dep\", manual=True, options={'distance':100})"
   ]
  },
  {
   "cell_type": "markdown",
   "metadata": {},
   "source": [
    "--- \n",
    "\n",
    "[zurück zur Übersicht](#Übersicht)\n"
   ]
  },
  {
   "cell_type": "markdown",
   "metadata": {},
   "source": [
    "---\n",
    "\n",
    "## 7. Komplexer Satz"
   ]
  },
  {
   "cell_type": "markdown",
   "metadata": {},
   "source": [
    "## 7.1 Analysieren Sie die Dependenzbeziehungen des folgenden Satzes im UD-Schema:\n",
    "\n",
    "- *Zur selben Zeit wurde Joyce gebissen, weshalb er eine Furcht vor Hunden entwickelte.*\n",
    "\n",
    "##### Wie in der Angabe bereits vorgegeben, können Sie auf die Analyse von Satzzeichen verzichten.\n"
   ]
  },
  {
   "cell_type": "code",
   "execution_count": 18,
   "metadata": {},
   "outputs": [
    {
     "name": "stdout",
     "output_type": "stream",
     "text": [
      "                                               gebissen(ROOT)                                                              \n",
      "    ┌───────────┬──────────────────────┬─────────────┴───────────────────────────┐                                          \n",
      "    │           │                      │                                    entwickelte(                                   \n",
      "    │           │                      │                                       advcl)                                      \n",
      "    │           │                      │                            ┌────────────┼──────────────────────┐                   \n",
      "    │           │                      │                            │            │                 Furcht(obj)             \n",
      "    │           │                      │                            │            │           ┌──────────┴───────────┐       \n",
      "    │           │                 Zeit(advmod)                      │            │           │                 Hunden(nmod)\n",
      "    │           │           ┌──────────┴─────────────┐              │            │           │                      │       \n",
      "wurde(aux) Joyce(nsubj) Zur(case)               selben(amod)  weshalb(mark)  er(nsubj)   eine(det)              vor(case)  \n",
      "\n"
     ]
    },
    {
     "data": {
      "text/html": [
       "<span class=\"tex2jax_ignore\"><svg xmlns=\"http://www.w3.org/2000/svg\" xmlns:xlink=\"http://www.w3.org/1999/xlink\" xml:lang=\"en\" id=\"a42651ba7f1e4be28a0df86011e254f4-0\" class=\"displacy\" width=\"1350\" height=\"437.0\" direction=\"ltr\" style=\"max-width: none; height: 437.0px; color: #000000; background: #ffffff; font-family: Arial; direction: ltr\">\n",
       "<text class=\"displacy-token\" fill=\"currentColor\" text-anchor=\"middle\" y=\"347.0\">\n",
       "    <tspan class=\"displacy-word\" fill=\"currentColor\" x=\"50\">Zur</tspan>\n",
       "    <tspan class=\"displacy-tag\" dy=\"2em\" fill=\"currentColor\" x=\"50\"></tspan>\n",
       "</text>\n",
       "\n",
       "<text class=\"displacy-token\" fill=\"currentColor\" text-anchor=\"middle\" y=\"347.0\">\n",
       "    <tspan class=\"displacy-word\" fill=\"currentColor\" x=\"150\">selben</tspan>\n",
       "    <tspan class=\"displacy-tag\" dy=\"2em\" fill=\"currentColor\" x=\"150\"></tspan>\n",
       "</text>\n",
       "\n",
       "<text class=\"displacy-token\" fill=\"currentColor\" text-anchor=\"middle\" y=\"347.0\">\n",
       "    <tspan class=\"displacy-word\" fill=\"currentColor\" x=\"250\">Zeit</tspan>\n",
       "    <tspan class=\"displacy-tag\" dy=\"2em\" fill=\"currentColor\" x=\"250\"></tspan>\n",
       "</text>\n",
       "\n",
       "<text class=\"displacy-token\" fill=\"currentColor\" text-anchor=\"middle\" y=\"347.0\">\n",
       "    <tspan class=\"displacy-word\" fill=\"currentColor\" x=\"350\">wurde</tspan>\n",
       "    <tspan class=\"displacy-tag\" dy=\"2em\" fill=\"currentColor\" x=\"350\"></tspan>\n",
       "</text>\n",
       "\n",
       "<text class=\"displacy-token\" fill=\"currentColor\" text-anchor=\"middle\" y=\"347.0\">\n",
       "    <tspan class=\"displacy-word\" fill=\"currentColor\" x=\"450\">Joyce</tspan>\n",
       "    <tspan class=\"displacy-tag\" dy=\"2em\" fill=\"currentColor\" x=\"450\"></tspan>\n",
       "</text>\n",
       "\n",
       "<text class=\"displacy-token\" fill=\"currentColor\" text-anchor=\"middle\" y=\"347.0\">\n",
       "    <tspan class=\"displacy-word\" fill=\"currentColor\" x=\"550\">gebissen</tspan>\n",
       "    <tspan class=\"displacy-tag\" dy=\"2em\" fill=\"currentColor\" x=\"550\"></tspan>\n",
       "</text>\n",
       "\n",
       "<text class=\"displacy-token\" fill=\"currentColor\" text-anchor=\"middle\" y=\"347.0\">\n",
       "    <tspan class=\"displacy-word\" fill=\"currentColor\" x=\"650\">weshalb</tspan>\n",
       "    <tspan class=\"displacy-tag\" dy=\"2em\" fill=\"currentColor\" x=\"650\"></tspan>\n",
       "</text>\n",
       "\n",
       "<text class=\"displacy-token\" fill=\"currentColor\" text-anchor=\"middle\" y=\"347.0\">\n",
       "    <tspan class=\"displacy-word\" fill=\"currentColor\" x=\"750\">er</tspan>\n",
       "    <tspan class=\"displacy-tag\" dy=\"2em\" fill=\"currentColor\" x=\"750\"></tspan>\n",
       "</text>\n",
       "\n",
       "<text class=\"displacy-token\" fill=\"currentColor\" text-anchor=\"middle\" y=\"347.0\">\n",
       "    <tspan class=\"displacy-word\" fill=\"currentColor\" x=\"850\">eine</tspan>\n",
       "    <tspan class=\"displacy-tag\" dy=\"2em\" fill=\"currentColor\" x=\"850\"></tspan>\n",
       "</text>\n",
       "\n",
       "<text class=\"displacy-token\" fill=\"currentColor\" text-anchor=\"middle\" y=\"347.0\">\n",
       "    <tspan class=\"displacy-word\" fill=\"currentColor\" x=\"950\">Furcht</tspan>\n",
       "    <tspan class=\"displacy-tag\" dy=\"2em\" fill=\"currentColor\" x=\"950\"></tspan>\n",
       "</text>\n",
       "\n",
       "<text class=\"displacy-token\" fill=\"currentColor\" text-anchor=\"middle\" y=\"347.0\">\n",
       "    <tspan class=\"displacy-word\" fill=\"currentColor\" x=\"1050\">vor</tspan>\n",
       "    <tspan class=\"displacy-tag\" dy=\"2em\" fill=\"currentColor\" x=\"1050\"></tspan>\n",
       "</text>\n",
       "\n",
       "<text class=\"displacy-token\" fill=\"currentColor\" text-anchor=\"middle\" y=\"347.0\">\n",
       "    <tspan class=\"displacy-word\" fill=\"currentColor\" x=\"1150\">Hunden</tspan>\n",
       "    <tspan class=\"displacy-tag\" dy=\"2em\" fill=\"currentColor\" x=\"1150\"></tspan>\n",
       "</text>\n",
       "\n",
       "<text class=\"displacy-token\" fill=\"currentColor\" text-anchor=\"middle\" y=\"347.0\">\n",
       "    <tspan class=\"displacy-word\" fill=\"currentColor\" x=\"1250\">entwickelte</tspan>\n",
       "    <tspan class=\"displacy-tag\" dy=\"2em\" fill=\"currentColor\" x=\"1250\"></tspan>\n",
       "</text>\n",
       "\n",
       "<g class=\"displacy-arrow\">\n",
       "    <path class=\"displacy-arc\" id=\"arrow-a42651ba7f1e4be28a0df86011e254f4-0-0\" stroke-width=\"2px\" d=\"M70,302.0 C70,202.0 230.0,202.0 230.0,302.0\" fill=\"none\" stroke=\"currentColor\"/>\n",
       "    <text dy=\"1.25em\" style=\"font-size: 0.8em; letter-spacing: 1px\">\n",
       "        <textPath xlink:href=\"#arrow-a42651ba7f1e4be28a0df86011e254f4-0-0\" class=\"displacy-label\" startOffset=\"50%\" side=\"left\" fill=\"currentColor\" text-anchor=\"middle\">case</textPath>\n",
       "    </text>\n",
       "    <path class=\"displacy-arrowhead\" d=\"M70,304.0 L62,292.0 78,292.0\" fill=\"currentColor\"/>\n",
       "</g>\n",
       "\n",
       "<g class=\"displacy-arrow\">\n",
       "    <path class=\"displacy-arc\" id=\"arrow-a42651ba7f1e4be28a0df86011e254f4-0-1\" stroke-width=\"2px\" d=\"M170,302.0 C170,252.0 225.0,252.0 225.0,302.0\" fill=\"none\" stroke=\"currentColor\"/>\n",
       "    <text dy=\"1.25em\" style=\"font-size: 0.8em; letter-spacing: 1px\">\n",
       "        <textPath xlink:href=\"#arrow-a42651ba7f1e4be28a0df86011e254f4-0-1\" class=\"displacy-label\" startOffset=\"50%\" side=\"left\" fill=\"currentColor\" text-anchor=\"middle\">amod</textPath>\n",
       "    </text>\n",
       "    <path class=\"displacy-arrowhead\" d=\"M170,304.0 L162,292.0 178,292.0\" fill=\"currentColor\"/>\n",
       "</g>\n",
       "\n",
       "<g class=\"displacy-arrow\">\n",
       "    <path class=\"displacy-arc\" id=\"arrow-a42651ba7f1e4be28a0df86011e254f4-0-2\" stroke-width=\"2px\" d=\"M270,302.0 C270,152.0 535.0,152.0 535.0,302.0\" fill=\"none\" stroke=\"currentColor\"/>\n",
       "    <text dy=\"1.25em\" style=\"font-size: 0.8em; letter-spacing: 1px\">\n",
       "        <textPath xlink:href=\"#arrow-a42651ba7f1e4be28a0df86011e254f4-0-2\" class=\"displacy-label\" startOffset=\"50%\" side=\"left\" fill=\"currentColor\" text-anchor=\"middle\">advmod</textPath>\n",
       "    </text>\n",
       "    <path class=\"displacy-arrowhead\" d=\"M270,304.0 L262,292.0 278,292.0\" fill=\"currentColor\"/>\n",
       "</g>\n",
       "\n",
       "<g class=\"displacy-arrow\">\n",
       "    <path class=\"displacy-arc\" id=\"arrow-a42651ba7f1e4be28a0df86011e254f4-0-3\" stroke-width=\"2px\" d=\"M370,302.0 C370,202.0 530.0,202.0 530.0,302.0\" fill=\"none\" stroke=\"currentColor\"/>\n",
       "    <text dy=\"1.25em\" style=\"font-size: 0.8em; letter-spacing: 1px\">\n",
       "        <textPath xlink:href=\"#arrow-a42651ba7f1e4be28a0df86011e254f4-0-3\" class=\"displacy-label\" startOffset=\"50%\" side=\"left\" fill=\"currentColor\" text-anchor=\"middle\">aux</textPath>\n",
       "    </text>\n",
       "    <path class=\"displacy-arrowhead\" d=\"M370,304.0 L362,292.0 378,292.0\" fill=\"currentColor\"/>\n",
       "</g>\n",
       "\n",
       "<g class=\"displacy-arrow\">\n",
       "    <path class=\"displacy-arc\" id=\"arrow-a42651ba7f1e4be28a0df86011e254f4-0-4\" stroke-width=\"2px\" d=\"M470,302.0 C470,252.0 525.0,252.0 525.0,302.0\" fill=\"none\" stroke=\"currentColor\"/>\n",
       "    <text dy=\"1.25em\" style=\"font-size: 0.8em; letter-spacing: 1px\">\n",
       "        <textPath xlink:href=\"#arrow-a42651ba7f1e4be28a0df86011e254f4-0-4\" class=\"displacy-label\" startOffset=\"50%\" side=\"left\" fill=\"currentColor\" text-anchor=\"middle\">nsubj</textPath>\n",
       "    </text>\n",
       "    <path class=\"displacy-arrowhead\" d=\"M470,304.0 L462,292.0 478,292.0\" fill=\"currentColor\"/>\n",
       "</g>\n",
       "\n",
       "<g class=\"displacy-arrow\">\n",
       "    <path class=\"displacy-arc\" id=\"arrow-a42651ba7f1e4be28a0df86011e254f4-0-5\" stroke-width=\"2px\" d=\"M670,302.0 C670,52.0 1245.0,52.0 1245.0,302.0\" fill=\"none\" stroke=\"currentColor\"/>\n",
       "    <text dy=\"1.25em\" style=\"font-size: 0.8em; letter-spacing: 1px\">\n",
       "        <textPath xlink:href=\"#arrow-a42651ba7f1e4be28a0df86011e254f4-0-5\" class=\"displacy-label\" startOffset=\"50%\" side=\"left\" fill=\"currentColor\" text-anchor=\"middle\">mark</textPath>\n",
       "    </text>\n",
       "    <path class=\"displacy-arrowhead\" d=\"M670,304.0 L662,292.0 678,292.0\" fill=\"currentColor\"/>\n",
       "</g>\n",
       "\n",
       "<g class=\"displacy-arrow\">\n",
       "    <path class=\"displacy-arc\" id=\"arrow-a42651ba7f1e4be28a0df86011e254f4-0-6\" stroke-width=\"2px\" d=\"M770,302.0 C770,102.0 1240.0,102.0 1240.0,302.0\" fill=\"none\" stroke=\"currentColor\"/>\n",
       "    <text dy=\"1.25em\" style=\"font-size: 0.8em; letter-spacing: 1px\">\n",
       "        <textPath xlink:href=\"#arrow-a42651ba7f1e4be28a0df86011e254f4-0-6\" class=\"displacy-label\" startOffset=\"50%\" side=\"left\" fill=\"currentColor\" text-anchor=\"middle\">nsubj</textPath>\n",
       "    </text>\n",
       "    <path class=\"displacy-arrowhead\" d=\"M770,304.0 L762,292.0 778,292.0\" fill=\"currentColor\"/>\n",
       "</g>\n",
       "\n",
       "<g class=\"displacy-arrow\">\n",
       "    <path class=\"displacy-arc\" id=\"arrow-a42651ba7f1e4be28a0df86011e254f4-0-7\" stroke-width=\"2px\" d=\"M870,302.0 C870,252.0 925.0,252.0 925.0,302.0\" fill=\"none\" stroke=\"currentColor\"/>\n",
       "    <text dy=\"1.25em\" style=\"font-size: 0.8em; letter-spacing: 1px\">\n",
       "        <textPath xlink:href=\"#arrow-a42651ba7f1e4be28a0df86011e254f4-0-7\" class=\"displacy-label\" startOffset=\"50%\" side=\"left\" fill=\"currentColor\" text-anchor=\"middle\">det</textPath>\n",
       "    </text>\n",
       "    <path class=\"displacy-arrowhead\" d=\"M870,304.0 L862,292.0 878,292.0\" fill=\"currentColor\"/>\n",
       "</g>\n",
       "\n",
       "<g class=\"displacy-arrow\">\n",
       "    <path class=\"displacy-arc\" id=\"arrow-a42651ba7f1e4be28a0df86011e254f4-0-8\" stroke-width=\"2px\" d=\"M970,302.0 C970,152.0 1235.0,152.0 1235.0,302.0\" fill=\"none\" stroke=\"currentColor\"/>\n",
       "    <text dy=\"1.25em\" style=\"font-size: 0.8em; letter-spacing: 1px\">\n",
       "        <textPath xlink:href=\"#arrow-a42651ba7f1e4be28a0df86011e254f4-0-8\" class=\"displacy-label\" startOffset=\"50%\" side=\"left\" fill=\"currentColor\" text-anchor=\"middle\">obj</textPath>\n",
       "    </text>\n",
       "    <path class=\"displacy-arrowhead\" d=\"M970,304.0 L962,292.0 978,292.0\" fill=\"currentColor\"/>\n",
       "</g>\n",
       "\n",
       "<g class=\"displacy-arrow\">\n",
       "    <path class=\"displacy-arc\" id=\"arrow-a42651ba7f1e4be28a0df86011e254f4-0-9\" stroke-width=\"2px\" d=\"M1070,302.0 C1070,252.0 1125.0,252.0 1125.0,302.0\" fill=\"none\" stroke=\"currentColor\"/>\n",
       "    <text dy=\"1.25em\" style=\"font-size: 0.8em; letter-spacing: 1px\">\n",
       "        <textPath xlink:href=\"#arrow-a42651ba7f1e4be28a0df86011e254f4-0-9\" class=\"displacy-label\" startOffset=\"50%\" side=\"left\" fill=\"currentColor\" text-anchor=\"middle\">case</textPath>\n",
       "    </text>\n",
       "    <path class=\"displacy-arrowhead\" d=\"M1070,304.0 L1062,292.0 1078,292.0\" fill=\"currentColor\"/>\n",
       "</g>\n",
       "\n",
       "<g class=\"displacy-arrow\">\n",
       "    <path class=\"displacy-arc\" id=\"arrow-a42651ba7f1e4be28a0df86011e254f4-0-10\" stroke-width=\"2px\" d=\"M970,302.0 C970,202.0 1130.0,202.0 1130.0,302.0\" fill=\"none\" stroke=\"currentColor\"/>\n",
       "    <text dy=\"1.25em\" style=\"font-size: 0.8em; letter-spacing: 1px\">\n",
       "        <textPath xlink:href=\"#arrow-a42651ba7f1e4be28a0df86011e254f4-0-10\" class=\"displacy-label\" startOffset=\"50%\" side=\"left\" fill=\"currentColor\" text-anchor=\"middle\">nmod</textPath>\n",
       "    </text>\n",
       "    <path class=\"displacy-arrowhead\" d=\"M1130.0,304.0 L1138.0,292.0 1122.0,292.0\" fill=\"currentColor\"/>\n",
       "</g>\n",
       "\n",
       "<g class=\"displacy-arrow\">\n",
       "    <path class=\"displacy-arc\" id=\"arrow-a42651ba7f1e4be28a0df86011e254f4-0-11\" stroke-width=\"2px\" d=\"M570,302.0 C570,2.0 1250.0,2.0 1250.0,302.0\" fill=\"none\" stroke=\"currentColor\"/>\n",
       "    <text dy=\"1.25em\" style=\"font-size: 0.8em; letter-spacing: 1px\">\n",
       "        <textPath xlink:href=\"#arrow-a42651ba7f1e4be28a0df86011e254f4-0-11\" class=\"displacy-label\" startOffset=\"50%\" side=\"left\" fill=\"currentColor\" text-anchor=\"middle\">advcl</textPath>\n",
       "    </text>\n",
       "    <path class=\"displacy-arrowhead\" d=\"M1250.0,304.0 L1258.0,292.0 1242.0,292.0\" fill=\"currentColor\"/>\n",
       "</g>\n",
       "</svg></span>"
      ],
      "text/plain": [
       "<IPython.core.display.HTML object>"
      ]
     },
     "metadata": {},
     "output_type": "display_data"
    }
   ],
   "source": [
    "#TO_DO:\n",
    "sent_nr = \"\"\"\n",
    "1 Zur 3 case\n",
    "2 selben 3 amod\n",
    "3 Zeit 6 advmod\n",
    "4 wurde 6 aux\n",
    "5 Joyce 6 nsubj\n",
    "6 gebissen 0 ROOT\n",
    "7 weshalb 13 mark\n",
    "8 er 13 nsubj\n",
    "9 eine 10 det\n",
    "10 Furcht 13 obj\n",
    "11 vor 12 case\n",
    "12 Hunden 10 nmod\n",
    "13 entwickelte 6 advcl\n",
    "\"\"\"\n",
    "\n",
    "sent = transform_nr_conll(sent_nr)\n",
    "dg = DependencyGraph(sent)\n",
    "\n",
    "tree_labeled = dg.tree_labeled()\n",
    "tree_labeled.pretty_print(unicodelines=True)  \n",
    "\n",
    "ex = displacy_dep_input(sent)\n",
    "html = displacy.render(ex, style=\"dep\", manual=True, options={'distance':100})"
   ]
  },
  {
   "cell_type": "markdown",
   "metadata": {},
   "source": [
    "--- \n",
    "\n",
    "[zurück zur Übersicht](#Übersicht)\n"
   ]
  },
  {
   "cell_type": "markdown",
   "metadata": {},
   "source": [
    "## 7.2 Ergänzen Sie die unten gegebene CFG-Grammatik um syntaktische Regeln für den Beispielsatz:\n",
    "\n",
    "- *Zur selben Zeit wurde Joyce gebissen, weshalb er eine Furcht vor Hunden entwickelte.*\n",
    "\n",
    "##### Sie können wieder auf die Analyse von Satzzeichen verzichten.\n",
    "\n",
    "##### Die Verwendung des X-Bar-Schemas ist nicht notwendig (orientieren Sie sich an den Penn-Treebank-Regeln für komplexe Sätze).  Für den Hauptsatz mit Auxiliarkonstruktion ist bereits eine flache Satzregel vorgegeben, die sie für die Einbettung des Nebensatzes erweitern sollen."
   ]
  },
  {
   "cell_type": "code",
   "execution_count": 22,
   "metadata": {},
   "outputs": [
    {
     "name": "stdout",
     "output_type": "stream",
     "text": [
      "                                            S                                                   \n",
      "      ┌───────────────┬─────┬──────┬────────┴────────────────────┐                               \n",
      "      │               │     │      │                            SBAR                            \n",
      "      │               │     │      │        ┌─────┬─────────┬────┴─────────┬──────────────┐      \n",
      "      PP              │     │      │        │     │         │              PP             │     \n",
      " ┌────┴─────┐         │     │      │        │     │         │          ┌───┴────┐         │      \n",
      " │          NP        │     NP     VP       │     NP        NP         │        NP        VP    \n",
      " │    ┌─────┴───┐     │     │      │        │     │    ┌────┴────┐     │        │         │      \n",
      " P   DET        N    AUX  PROPN    V       COMP  PRON DET        N     P        N         V     \n",
      " │    │         │     │     │      │        │     │    │         │     │        │         │      \n",
      "zur selben     Zeit wurde Joyce gebissen weshalb  er  eine     Furcht vor     Hunden entwickelte\n",
      "\n"
     ]
    }
   ],
   "source": [
    "#TO_DO:\n",
    "sentence = \"zur selben Zeit wurde Joyce gebissen weshalb er eine Furcht vor Hunden entwickelte\"\n",
    "\n",
    "grammar = nltk.CFG.fromstring(\n",
    "    \"\"\"\n",
    "    S -> PP AUX NP VP SBAR\n",
    "\n",
    "###########ERGAENZTE REGELN:\n",
    "    PP -> P NP\n",
    "    NP -> DET N | PROPN | PRON | N\n",
    "    VP -> V\n",
    "    SBAR -> COMP NP NP PP VP\n",
    "\n",
    "\n",
    "##Lexikalische Regeln:\n",
    "    P -> 'zur'\n",
    "    DET -> 'selben'\n",
    "    N -> 'Zeit'\n",
    "    AUX -> 'wurde'\n",
    "    PROPN -> 'Joyce'\n",
    "    V -> 'gebissen'\n",
    "    COMP -> 'weshalb'\n",
    "    PRON -> 'er'\n",
    "    DET -> 'eine'\n",
    "    N -> 'Furcht'\n",
    "    P -> 'vor'\n",
    "    N -> 'Hunden'\n",
    "    V -> 'entwickelte'\n",
    "\"\"\")\n",
    "\n",
    "parser = nltk.ChartParser(grammar,trace=0)\n",
    "\n",
    "for tree in parser.parse(sentence.split()):\n",
    "    tree.pretty_print(unicodelines=True)    "
   ]
  },
  {
   "cell_type": "markdown",
   "metadata": {},
   "source": [
    "---\n",
    "\n",
    "[zurück zur Übersicht](#Übersicht)\n"
   ]
  },
  {
   "cell_type": "markdown",
   "metadata": {},
   "source": [
    "---\n",
    "\n",
    "## 8. Unifikation und Subsumption\n"
   ]
  },
  {
   "cell_type": "markdown",
   "metadata": {},
   "source": [
    "\n",
    "## 8.1 Unifikation von Merkmalsstrukturen\n",
    "\n",
    "### Gegeben seien folgende unifizierende Merkmalsstrukturen:"
   ]
  },
  {
   "cell_type": "code",
   "execution_count": 23,
   "metadata": {},
   "outputs": [
    {
     "name": "stdout",
     "output_type": "stream",
     "text": [
      "[ FEAT_a = 'x' ]\n",
      "[ FEAT_b = 'y' ]\n",
      "[ FEAT_c = 'z' ]\n"
     ]
    }
   ],
   "source": [
    "f1 = FeatStruct(\"[FEAT_a=x,FEAT_b=y]\")\n",
    "f2 = FeatStruct(\"[FEAT_a=x,FEAT_c=z]\")\n",
    "print(f1.unify(f2))"
   ]
  },
  {
   "cell_type": "markdown",
   "metadata": {},
   "source": [
    "### Fügen Sie zu der Merkmalsstruktur `f2` ein Feature-Value-Paar hinzu, sodass folgende beide Bedingungen erfüllt sind:\n",
    "\n",
    "- `f2` unifiziert mit `f1` \n",
    "- `f1` subsumiert `f2`."
   ]
  },
  {
   "cell_type": "code",
   "execution_count": 24,
   "metadata": {},
   "outputs": [
    {
     "name": "stdout",
     "output_type": "stream",
     "text": [
      "[ FEAT_a = 'x' ]\n",
      "[ FEAT_b = 'y' ]\n",
      "[ FEAT_c = 'z' ]\n"
     ]
    },
    {
     "data": {
      "text/plain": [
       "True"
      ]
     },
     "execution_count": 24,
     "metadata": {},
     "output_type": "execute_result"
    }
   ],
   "source": [
    "#TO_DO:\n",
    "f1 = FeatStruct(\"[FEAT_a=x,FEAT_b=y]\")\n",
    "f2 = FeatStruct(\"[FEAT_a=x,FEAT_b=y,FEAT_c=z]\")\n",
    "print(f2.unify(f1))\n",
    "f1.subsumes(f2)"
   ]
  },
  {
   "cell_type": "markdown",
   "metadata": {},
   "source": [
    "---\n",
    "\n",
    "[zurück zur Übersicht](#Übersicht)\n"
   ]
  },
  {
   "cell_type": "markdown",
   "metadata": {},
   "source": [
    "---\n",
    "\n",
    "## 8.2 Unifikation mit Typen\n",
    "\n",
    "### Gegeben sei folgende Agreement-Typhierarchie, die (mit abgekürzten Typnamen) durch das `*AGR*`-Feature implementiert wird:"
   ]
  },
  {
   "cell_type": "code",
   "execution_count": 25,
   "metadata": {},
   "outputs": [],
   "source": [
    "#RUN:\n",
    "type_hierarchy = {\n",
    "    \"1\": [\"1sg\", \"1du\", \"1pl\"],\n",
    "    \"2\": [\"2sg\", \"2pl\"],\n",
    "    \"sg\": [\"1sg\", \"2sg\"],\n",
    "    \"du\": [\"1du\"],\n",
    "    \"pl\": [\"1pl\", \"2pl\"],\n",
    "    \"1sg\": [],\n",
    "    \"1du\": [],\n",
    "    \"1pl\": [],\n",
    "    \"2sg\": [],\n",
    "    \"2pl\": []\n",
    "}\n",
    "AGR = HierarchicalFeature(\"AGR\", type_hierarchy)\n",
    "reader = FeatStructReader(features=(AGR,))"
   ]
  },
  {
   "cell_type": "markdown",
   "metadata": {},
   "source": [
    "### Führen Sie obenstehende Codezelle aus, um die Typhierarchie zu laden.\n",
    "\n",
    "### Geben Sie eine nicht-leere, von `f1` verschiedene  Merkmalstruktur `f2` an, sodass gilt:\n",
    "\n",
    "`f1` subsumiert `f2`."
   ]
  },
  {
   "cell_type": "code",
   "execution_count": 27,
   "metadata": {},
   "outputs": [
    {
     "data": {
      "text/plain": [
       "True"
      ]
     },
     "execution_count": 27,
     "metadata": {},
     "output_type": "execute_result"
    }
   ],
   "source": [
    "#TO_DO:\n",
    "f1 = reader.fromstring(\"[*AGR*='du']\")\n",
    "f2 = reader.fromstring(\"[*AGR*='1du']\")\n",
    "f1.subsumes(f2)"
   ]
  },
  {
   "cell_type": "markdown",
   "metadata": {},
   "source": [
    "---\n",
    "\n",
    "[zurück zur Übersicht](#Übersicht)\n"
   ]
  },
  {
   "cell_type": "markdown",
   "metadata": {},
   "source": [
    "---\n",
    "\n",
    "## 9. Feature-based-Grammar"
   ]
  },
  {
   "cell_type": "markdown",
   "metadata": {},
   "source": [
    "\n",
    "### Gegeben sei folgende CFG-Grammatik:"
   ]
  },
  {
   "cell_type": "code",
   "execution_count": 68,
   "metadata": {},
   "outputs": [],
   "source": [
    "#RUN (Führen Sie zunächst diese Code-Zelle aus):\n",
    "grammar = nltk.CFG.fromstring(\"\"\"\n",
    "    S   -> NP VP\n",
    "    VP  -> V NP\n",
    "    VP  -> V\n",
    "    NP  -> DET N\n",
    "    NP  -> PRON\n",
    "\n",
    "    PRON -> 'ich'\n",
    "    DET -> 'der'\n",
    "    DET -> 'den'\n",
    "    N   -> 'Tiger'\n",
    "    V   -> 'jage'\n",
    "    V   -> 'jagt'\n",
    "\"\"\")\n",
    "\n",
    "parser = nltk.ChartParser(grammar,trace=0)"
   ]
  },
  {
   "cell_type": "markdown",
   "metadata": {},
   "source": [
    "### Die Grammatik erkennt u.a. folgende, grammatisch korrekte Sätze:"
   ]
  },
  {
   "cell_type": "code",
   "execution_count": 69,
   "metadata": {},
   "outputs": [
    {
     "name": "stdout",
     "output_type": "stream",
     "text": [
      "           S               \n",
      " ┌─────────┴───┐            \n",
      " │             VP          \n",
      " │    ┌────────┴───┐        \n",
      " NP   │            NP      \n",
      " │    │        ┌───┴────┐   \n",
      "PRON  V       DET       N  \n",
      " │    │        │        │   \n",
      "ich  jage     den     Tiger\n",
      "\n"
     ]
    }
   ],
   "source": [
    "sentence = \"ich jage den Tiger\"\n",
    "for tree in parser.parse(sentence.split()):\n",
    "    tree.pretty_print(unicodelines=True)    "
   ]
  },
  {
   "cell_type": "code",
   "execution_count": 70,
   "metadata": {},
   "outputs": [
    {
     "name": "stdout",
     "output_type": "stream",
     "text": [
      "          S       \n",
      "     ┌────┴────┐   \n",
      "     NP        VP \n",
      " ┌───┴────┐    │   \n",
      "DET       N    V  \n",
      " │        │    │   \n",
      "der     Tiger jagt\n",
      "\n"
     ]
    }
   ],
   "source": [
    "sentence = \"der Tiger jagt\"\n",
    "for tree in parser.parse(sentence.split()):\n",
    "    tree.pretty_print(unicodelines=True)    "
   ]
  },
  {
   "cell_type": "markdown",
   "metadata": {},
   "source": [
    "### 9a) Geben Sie einen nach den Regeln der deutschen Grammatik nicht-wohlgeformten Satz an, der fälschlicherweise von der oben angegebenen Grammatik erkannt wird, obwohl er gegen folgendes Constraint verstößt:\n",
    "\n",
    "- **Subjekt-Verb-Agreement**"
   ]
  },
  {
   "cell_type": "code",
   "execution_count": 71,
   "metadata": {},
   "outputs": [
    {
     "name": "stdout",
     "output_type": "stream",
     "text": [
      "          S       \n",
      "     ┌────┴────┐   \n",
      "     NP        VP \n",
      " ┌───┴────┐    │   \n",
      "DET       N    V  \n",
      " │        │    │   \n",
      "der     Tiger jage\n",
      "\n"
     ]
    }
   ],
   "source": [
    "#TO_DO:\n",
    "neg_sentence = \"der Tiger jage\"\n",
    "for tree in parser.parse(neg_sentence.split()):\n",
    "    tree.pretty_print(unicodelines=True)"
   ]
  },
  {
   "cell_type": "markdown",
   "metadata": {},
   "source": [
    "### 9b) Erweitern Sie die angegebene Grammatik um die notwendigen Merkmale, um die Überproduktion aus 9a) zu verhindern.\n"
   ]
  },
  {
   "cell_type": "code",
   "execution_count": 72,
   "metadata": {},
   "outputs": [
    {
     "name": "stdout",
     "output_type": "stream",
     "text": [
      "|.der .Tige.jage.|\n",
      "|[----]    .    .| [0:1] 'der'\n",
      "|.    [----]    .| [1:2] 'Tiger'\n",
      "|.    .    [----]| [2:3] 'jage'\n",
      "|[----]    .    .| [0:1] DET[] -> 'der' *\n",
      "|[---->    .    .| [0:1] NP[PER=?x] -> DET[] * N[PER=?x] {}\n",
      "|.    [----]    .| [1:2] N[PER=3] -> 'Tiger' *\n",
      "|[---------]    .| [0:2] NP[PER=3] -> DET[] N[PER=3] *\n",
      "|[--------->    .| [0:2] S[] -> NP[PER=?x] * VP[PER=?x] {?x: 3}\n",
      "|.    .    [----]| [2:3] V[PER=1] -> 'jage' *\n",
      "|.    .    [---->| [2:3] VP[PER=?x] -> V[PER=?x] * NP[] {?x: 1}\n",
      "|.    .    [----]| [2:3] VP[PER=1] -> V[PER=1] *\n"
     ]
    }
   ],
   "source": [
    "#TO_DO:\n",
    "gramstring = r\"\"\"\n",
    "% start S\n",
    "    S   -> NP[PER=?x] VP[PER=?x]\n",
    "    VP[PER=?x]  -> V[PER=?x] NP\n",
    "    VP[PER=?x]  -> V[PER=?x]\n",
    "    NP[PER=?x]  -> DET N[PER=?x]\n",
    "    NP[PER=?x]  -> PRON[PER=?X]\n",
    "\n",
    "    PRON[PER=1] -> 'ich'\n",
    "    DET -> 'der'\n",
    "    DET -> 'den'\n",
    "    N[PER=3]   -> 'Tiger'\n",
    "    V[PER=1]   -> 'jage'\n",
    "    V[PER=3]   -> 'jagt'\n",
    "\"\"\"\n",
    "\n",
    "grammar = nltk.grammar.FeatureGrammar.fromstring(gramstring)\n",
    "parser = nltk.parse.FeatureChartParser(grammar,trace=1)\n",
    "\n",
    "for tree in parser.parse(neg_sentence.split()):\n",
    "    tree = Tree.fromstring(str(tree).replace(\", \",\",\"))\n",
    "    tree.pretty_print(unicodelines=True)"
   ]
  },
  {
   "cell_type": "markdown",
   "metadata": {},
   "source": [
    "---\n",
    "\n",
    "[zurück zur Übersicht](#Übersicht)\n"
   ]
  },
  {
   "cell_type": "markdown",
   "metadata": {},
   "source": [
    "---\n",
    "## 10. Statistisches Parsing"
   ]
  },
  {
   "cell_type": "markdown",
   "metadata": {},
   "source": [
    "## 10.1 PCFG-Gewichte\n",
    "\n",
    "### Ergänzen Sie in folgender (unvollständigen) PCFG die fehlenden (mit ** markierten) Gewichte:"
   ]
  },
  {
   "cell_type": "code",
   "execution_count": 44,
   "metadata": {},
   "outputs": [
    {
     "name": "stdout",
     "output_type": "stream",
     "text": [
      "          S          \n",
      "     ┌────┴──────┐    \n",
      "     NP          VP  \n",
      " ┌───┴────┐      │    \n",
      "DET       N      V   \n",
      " │        │      │    \n",
      "die     Katze schläft\n",
      "\n",
      "(S (NP (DET die) (N Katze)) (VP (V schläft))) (p=0.166666)\n"
     ]
    }
   ],
   "source": [
    "#TO_DO:\n",
    "grammar = nltk.PCFG.fromstring(\"\"\"\n",
    "    S -> NP VP [0.5]\n",
    "    S -> VP [0.5]\n",
    "    NP -> NP SBAR [0.333333]\n",
    "    NP -> PROPN [0.333333]\n",
    "    NP -> DET N [0.333333]\n",
    "    VP -> V [1]\n",
    "    DET -> 'die' [1]\n",
    "    N -> 'Katze' [1]\n",
    "    V -> 'schläft' [1]\n",
    "\"\"\")\n",
    "\n",
    "sentence = \"die Katze schläft\"\n",
    "\n",
    "viterbi_parser = nltk.ViterbiParser(grammar)\n",
    "for tree in viterbi_parser.parse(sentence.split()):\n",
    "    tree.pretty_print(unicodelines=True)\n",
    "    print(tree)"
   ]
  },
  {
   "cell_type": "markdown",
   "metadata": {},
   "source": [
    "---\n",
    "\n",
    "[zurück zur Übersicht](#Übersicht)\n"
   ]
  },
  {
   "cell_type": "markdown",
   "metadata": {},
   "source": [
    "---\n",
    "\n",
    "## 10.2 Anpassung von PCFG-Gewichten\n",
    "\n",
    "### In folgender PCFG wird durch teilweise Annotation von Vorfahr-Knoten zwischen NP / DET unter S-Knoten vs. unter VP-Knoten unterschieden.\n",
    "\n",
    "### Passen Sie die Gewichte im entsprechenden Bereich der PCFG so an, dass die Ableitungswahrscheinlichkeit für die Akkusativ-NP unter S-Knoten minimal wird."
   ]
  },
  {
   "cell_type": "code",
   "execution_count": 73,
   "metadata": {},
   "outputs": [
    {
     "name": "stdout",
     "output_type": "stream",
     "text": [
      "                  S                     \n",
      "       ┌──────────┴─────┐                \n",
      "       │                VP              \n",
      "       │          ┌─────┴──────┐         \n",
      "      NP^S        │          NP^VP      \n",
      "  ┌────┴─────┐    │     ┌──────┴─────┐   \n",
      "DET^S        N    V   DET^VP         N  \n",
      "  │          │    │     │            │   \n",
      " der       Tiger jagt  den         Tiger\n",
      "\n",
      "(S\n",
      "  (NP^S (DET^S der) (N Tiger))\n",
      "  (VP (V jagt) (NP^VP (DET^VP den) (N Tiger)))) (p=0.495)\n",
      "                  S                     \n",
      "       ┌──────────┴─────┐                \n",
      "       │                VP              \n",
      "       │          ┌─────┴──────┐         \n",
      "      NP^S        │          NP^VP      \n",
      "  ┌────┴─────┐    │     ┌──────┴─────┐   \n",
      "DET^S        N    V   DET^VP         N  \n",
      "  │          │    │     │            │   \n",
      " den       Tiger jagt  der         Tiger\n",
      "\n",
      "(S\n",
      "  (NP^S (DET^S den) (N Tiger))\n",
      "  (VP (V jagt) (NP^VP (DET^VP der) (N Tiger)))) (p=0.005)\n"
     ]
    }
   ],
   "source": [
    "#TO_DO:\n",
    "grammar = nltk.PCFG.fromstring(\n",
    "    \"\"\"\n",
    "    S   -> NP^S VP [1.0]\n",
    "    VP  -> V NP^VP [1.0]\n",
    "    N   -> 'Tiger' [1.0]\n",
    "    V   -> 'jagt' [1.0]\n",
    "\n",
    "#AB HIER GEWICHTE ANPASSEN:\n",
    "\n",
    "    NP^S  -> DET^S N [1.0]\n",
    "    NP^VP  -> DET^VP N [1.0]\n",
    "\n",
    "    DET^S -> 'der' [0.99]\n",
    "    DET^S -> 'den' [0.01]\n",
    "\n",
    "    DET^VP -> 'den' [0.5]\n",
    "    DET^VP -> 'der' [0.5]\n",
    "\"\"\")\n",
    "\n",
    "sents = [\n",
    "    \"der Tiger jagt den Tiger\",\n",
    "    \"den Tiger jagt der Tiger\"\n",
    "]\n",
    "\n",
    "viterbi_parser = nltk.ViterbiParser(grammar)\n",
    "for sent in sents:\n",
    "    trees = list(viterbi_parser.parse(sent.split()))\n",
    "    if trees: [[tree.pretty_print(unicodelines=True), print(tree)] for tree in trees]"
   ]
  },
  {
   "cell_type": "markdown",
   "metadata": {},
   "source": [
    "---\n",
    "\n",
    "[zurück zur Übersicht](#Übersicht)\n"
   ]
  },
  {
   "cell_type": "markdown",
   "metadata": {},
   "source": [
    "---\n",
    "\n",
    "## 11. Datengestuetzte Syntaxanalyse\n",
    "   "
   ]
  },
  {
   "cell_type": "markdown",
   "metadata": {},
   "source": [
    "## 11.1 Lexikalisierte CFG (mit Merkmalen)\n",
    "\n",
    "### Gegeben sei folgende CFG, die genau eine der möglichen Lesarten dieses ambigen Beispielsatzes erkennt:\n",
    "\n",
    "- *time flies like an arrow*"
   ]
  },
  {
   "cell_type": "code",
   "execution_count": 47,
   "metadata": {},
   "outputs": [
    {
     "name": "stdout",
     "output_type": "stream",
     "text": [
      "            S                \n",
      "            │                 \n",
      "            VP               \n",
      " ┌─────┬────┴────┐            \n",
      " │     │         PP          \n",
      " │     │    ┌────┴───┐        \n",
      " │     NP   │        NP      \n",
      " │     │    │    ┌───┴────┐   \n",
      " V     N    P   DET       N  \n",
      " │     │    │    │        │   \n",
      "time flies like  an     arrow\n",
      "\n"
     ]
    }
   ],
   "source": [
    "sentence = \"time flies like an arrow\"\n",
    "\n",
    "grammar = nltk.CFG.fromstring(\"\"\"\n",
    "    S -> VP\n",
    "    NP -> DET N\n",
    "    NP -> N\n",
    "    VP -> V NP PP\n",
    "    PP -> P NP\n",
    "    \n",
    "    V -> 'time'\n",
    "    N -> 'flies'\n",
    "    P -> 'like'\n",
    "    DET -> 'an'\n",
    "    N -> 'arrow'\n",
    "\"\"\")\n",
    "\n",
    "parser = nltk.ChartParser(grammar,trace=0)\n",
    "\n",
    "for tree in parser.parse(sentence.split()):\n",
    "    tree.pretty_print(unicodelines=True)"
   ]
  },
  {
   "cell_type": "markdown",
   "metadata": {},
   "source": [
    "### Führen Sie eine entsprechende Kopfannotation über ein `HEAD`-Merkmal durch, die dieser Lesart entspricht.\n",
    "\n",
    "##### Halten Sie sich dabei an die UD-Dependenzregeln.\n"
   ]
  },
  {
   "cell_type": "code",
   "execution_count": 49,
   "metadata": {},
   "outputs": [
    {
     "name": "stdout",
     "output_type": "stream",
     "text": [
      "(S[HEAD='time']\n",
      "  (VP[HEAD='time']\n",
      "    (V[HEAD='time'] time)\n",
      "    (NP[HEAD='flies'] (N[HEAD='flies'] flies))\n",
      "    (PP[HEAD='arrow']\n",
      "      (P[HEAD='like'] like)\n",
      "      (NP[HEAD='arrow'] (DET[HEAD='an'] an) (N[HEAD='arrow'] arrow)))))\n",
      "                                 S[HEAD='time']                                                  \n",
      "                                       │                                                          \n",
      "                                VP[HEAD='time']                                                  \n",
      "      ┌───────────────┬────────────────┴───────────────┐                                          \n",
      "      │               │                         PP[HEAD='arrow']                                 \n",
      "      │               │                ┌───────────────┴────────────────┐                         \n",
      "      │        NP[HEAD='flies']        │                         NP[HEAD='arrow']                \n",
      "      │               │                │               ┌────────────────┴────────────────┐        \n",
      "V[HEAD='time'] N[HEAD='flies']   P[HEAD='like']  DET[HEAD='an']                   N[HEAD='arrow']\n",
      "      │               │                │               │                                 │        \n",
      "     time           flies             like             an                              arrow     \n",
      "\n"
     ]
    }
   ],
   "source": [
    "#TO_DO:\n",
    "sentence = \"time flies like an arrow\"\n",
    "\n",
    "gramstring = r\"\"\"\n",
    "% start S\n",
    "    S[HEAD=?v] -> VP[HEAD=?v]\n",
    "    NP[HEAD=?n] -> DET[]  N[HEAD=?n]\n",
    "    NP[HEAD=?n] -> N[HEAD=?n]\n",
    "    VP[HEAD=?v] -> V[HEAD=?v]  NP[]  PP[]\n",
    "    PP[HEAD=?n] -> P[]  NP[HEAD=?n]\n",
    "    \n",
    "    V[HEAD=\"time\"] -> 'time'\n",
    "    N[HEAD=\"flies\"] -> 'flies'\n",
    "    P[HEAD=\"like\"] -> 'like'\n",
    "    DET[HEAD=\"an\"] -> 'an'\n",
    "    N[HEAD=\"arrow\"] -> 'arrow'\n",
    "\"\"\"\n",
    "\n",
    "grammar = nltk.grammar.FeatureGrammar.fromstring(gramstring)\n",
    "parser = nltk.parse.FeatureChartParser(grammar,trace=0)\n",
    "\n",
    "for tree in parser.parse(sentence.split()):\n",
    "    print(tree)\n",
    "    tree = Tree.fromstring(str(tree).replace(\", \",\",\"))\n",
    "    tree.pretty_print(unicodelines=True)\n",
    "    #display(tree)"
   ]
  },
  {
   "cell_type": "markdown",
   "metadata": {},
   "source": [
    "---\n",
    "\n",
    "[zurück zur Übersicht](#Übersicht)\n"
   ]
  },
  {
   "cell_type": "markdown",
   "metadata": {},
   "source": [
    "---\n",
    "\n",
    "## 11.2 Parent Annotation (mit Symbolerweiterung)"
   ]
  },
  {
   "cell_type": "markdown",
   "metadata": {},
   "source": [
    "### Führen Sie in der CFG aus der vorherigen Aufgabe über Symbolerweiterung (mit `^` als Trennerzeichen) eine vollständige *Parent Annotation* durch, wie sie durch die Regelanwendungen im Syntaxbaum der Angabe impliziert ist. Falls notwendig, ergänzen Sie Regeln."
   ]
  },
  {
   "cell_type": "code",
   "execution_count": 52,
   "metadata": {},
   "outputs": [
    {
     "name": "stdout",
     "output_type": "stream",
     "text": [
      "            S                     \n",
      "            │                      \n",
      "           VP^S                   \n",
      " ┌─────┬────┴─────┐                \n",
      " │     │        PP^VP             \n",
      " │     │    ┌─────┴──────┐         \n",
      " │   NP^VP  │          NP^PP      \n",
      " │     │    │     ┌──────┴─────┐   \n",
      "V^VP  N^NP P^PP DET^NP        N^NP\n",
      " │     │    │     │            │   \n",
      "time flies like   an         arrow\n",
      "\n"
     ]
    }
   ],
   "source": [
    "#TO_DO:\n",
    "sentence = \"time flies like an arrow\"\n",
    "\n",
    "grammar = nltk.CFG.fromstring(\"\"\"\n",
    "    S -> VP^S\n",
    "    NP^PP -> DET^NP  N^NP\n",
    "    NP^VP -> N^NP\n",
    "    VP^S -> V^VP  NP^VP  PP^VP\n",
    "    PP^VP -> P^PP  NP^PP\n",
    "    \n",
    "    V^VP -> 'time'\n",
    "    N^NP -> 'flies'\n",
    "    P^PP -> 'like'\n",
    "    DET^NP -> 'an'\n",
    "    N^NP -> 'arrow'\n",
    "\n",
    "###########ERGAENZTE REGELN:    \n",
    "  \n",
    "\"\"\")\n",
    "\n",
    "parser = nltk.ChartParser(grammar,trace=0)\n",
    "\n",
    "for tree in parser.parse(sentence.split()):\n",
    "    tree.pretty_print(unicodelines=True)    "
   ]
  },
  {
   "cell_type": "markdown",
   "metadata": {},
   "source": [
    "---\n",
    "\n",
    "[zurück zur Übersicht](#Übersicht)\n"
   ]
  },
  {
   "cell_type": "markdown",
   "metadata": {},
   "source": [
    "---\n",
    "\n",
    "## 12. Chunk-Analysen\n",
    "\n",
    "### Geben Sie die *IOB-Tag-Sequenz* und *POS-Label* einer NP-PP-VP-Chunk-Analyse für den folgenden Satz an:\n",
    "\n",
    "- *Ulysses gilt als der bedeutendste Roman des irischen Schriftstellers James Joyce und als richtungsweisend für den modernen Roman.*"
   ]
  },
  {
   "cell_type": "code",
   "execution_count": 74,
   "metadata": {},
   "outputs": [
    {
     "name": "stdout",
     "output_type": "stream",
     "text": [
      "(S\n",
      "  (NP Ulysses/PROPN)\n",
      "  (VP gilt/V)\n",
      "  als/CCONJ\n",
      "  (NP der/DET bedeutendste/ADJ Roman/N)\n",
      "  (NP des/DET irischen/ADJ Schriftstellers/N)\n",
      "  (NP James/PROPN Joyce/PROPN)\n",
      "  und/CCONJ\n",
      "  als/CCONJ\n",
      "  richtungsweisend/ADJ\n",
      "  (PP für/P)\n",
      "  (NP den/DET modernen/ADJ Roman/N)\n",
      "  ./PUNCT)\n"
     ]
    }
   ],
   "source": [
    "#TO_DO:\n",
    "iob_list = [\n",
    "(\"Ulysses\", \"PROPN\", \"B-NP\"),\n",
    "(\"gilt\", \"V\", \"B-VP\"),\n",
    "(\"als\", \"CCONJ\", \"O\"),\n",
    "(\"der\", \"DET\", \"B-NP\"),\n",
    "(\"bedeutendste\", \"ADJ\", \"I-NP\"),\n",
    "(\"Roman\", \"N\", \"I-NP\"),\n",
    "(\"des\", \"DET\", \"B-NP\"),\n",
    "(\"irischen\", \"ADJ\", \"I-NP\"),\n",
    "(\"Schriftstellers\", \"N\", \"I-NP\"),\n",
    "(\"James\", \"PROPN\", \"B-NP\"),\n",
    "(\"Joyce\", \"PROPN\", \"I-NP\"),\n",
    "(\"und\", \"CCONJ\", \"O\"),\n",
    "(\"als\", \"CCONJ\", \"O\"),\n",
    "(\"richtungsweisend\", \"ADJ\", \"O\"),\n",
    "(\"für\", \"P\", \"B-PP\"),\n",
    "(\"den\", \"DET\", \"B-NP\"),\n",
    "(\"modernen\", \"ADJ\", \"I-NP\"),\n",
    "(\"Roman\", \"N\", \"I-NP\"),\n",
    "(\".\", \"PUNCT\", \"O\")\n",
    "]\n",
    "\n",
    "from nltk import conlltags2tree\n",
    "tree = conlltags2tree(iob_list)\n",
    "print(tree)"
   ]
  },
  {
   "cell_type": "markdown",
   "metadata": {},
   "source": [
    "---\n",
    "\n",
    "[zurück zur Übersicht](#Übersicht)\n"
   ]
  }
 ],
 "metadata": {
  "kernelspec": {
   "display_name": "Python 3 (ipykernel)",
   "language": "python",
   "name": "python3"
  },
  "language_info": {
   "codemirror_mode": {
    "name": "ipython",
    "version": 3
   },
   "file_extension": ".py",
   "mimetype": "text/x-python",
   "name": "python",
   "nbconvert_exporter": "python",
   "pygments_lexer": "ipython3",
   "version": "3.12.1"
  }
 },
 "nbformat": 4,
 "nbformat_minor": 4
}
