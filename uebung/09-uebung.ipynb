{
 "cells": [
  {
   "cell_type": "markdown",
   "metadata": {},
   "source": [
    "Syntax natürlicher Sprachen, WS 2023/24\n",
    "\n",
    "# 09 - Übung"
   ]
  },
  {
   "cell_type": "code",
   "execution_count": 18,
   "metadata": {},
   "outputs": [],
   "source": [
    "import nltk\n",
    "import svgling\n",
    "from nltk import Tree\n",
    "from nltk import parse\n",
    "from nltk.grammar import FeatureGrammar"
   ]
  },
  {
   "cell_type": "code",
   "execution_count": 19,
   "metadata": {},
   "outputs": [],
   "source": [
    "def show_FeatTree(tree, style=0, draw=1):\n",
    "    if draw:\n",
    "        tree = Tree.fromstring(str(tree).replace(\", \",\",\"))\n",
    "        if style: \n",
    "            display(tree)\n",
    "        else: \n",
    "            tree.pretty_print(unicodelines=True)\n",
    "    else: print(\"FOUND PARSE:\\n\", str(tree).replace(\"\\n\",\" \"))"
   ]
  },
  {
   "cell_type": "markdown",
   "metadata": {},
   "source": [
    "## Aufgabe 1 - FCFG-Erweiterung (Kasus, Agreement, Subkategorisierung)"
   ]
  },
  {
   "cell_type": "markdown",
   "metadata": {},
   "source": [
    "### a) Übergenerierende CFG\n",
    "\n",
    "#### Betrachten Sie die Parsingergebnisse untenstehender Sätze mit der folgenden einfachen CFG-Grammatik und geben Sie an, welches grammatikalische Constraint jeweils verletzt ist (Kasus, Agreement, Subkategorisierung)."
   ]
  },
  {
   "cell_type": "code",
   "execution_count": 20,
   "metadata": {},
   "outputs": [],
   "source": [
    "grammar = nltk.CFG.fromstring(\"\"\"\n",
    "S -> NP VP\n",
    "NP -> DET N\n",
    "VP -> V\n",
    "VP -> V NP\n",
    "\n",
    "DET -> 'der' | 'dem' | 'den' | 'die'\n",
    "N -> 'Hund' | 'Hunde' |'Hunden' |'Katze' |'Katzen'\n",
    "V -> 'sieht' | 'sehen' | 'hilft' | 'helfen' | 'läuft' | 'laufen'\n",
    "\"\"\")"
   ]
  },
  {
   "cell_type": "code",
   "execution_count": 21,
   "metadata": {},
   "outputs": [],
   "source": [
    "pos_sent = \"der Hund sieht die Katze\""
   ]
  },
  {
   "cell_type": "code",
   "execution_count": 22,
   "metadata": {},
   "outputs": [
    {
     "name": "stdout",
     "output_type": "stream",
     "text": [
      "               S                \n",
      "     ┌─────────┴────┐            \n",
      "     │              VP          \n",
      "     │         ┌────┴───┐        \n",
      "     NP        │        NP      \n",
      " ┌───┴───┐     │    ┌───┴────┐   \n",
      "DET      N     V   DET       N  \n",
      " │       │     │    │        │   \n",
      "der     Hund sieht die     Katze\n",
      "\n"
     ]
    }
   ],
   "source": [
    "parser = nltk.ChartParser(grammar)\n",
    "trees = list(parser.parse(pos_sent.split()))\n",
    "if trees: [tree.pretty_print(unicodelines=True) for tree in trees]\n",
    "else: print(f\"no parse found for: {sent}\")"
   ]
  },
  {
   "cell_type": "code",
   "execution_count": 23,
   "metadata": {},
   "outputs": [],
   "source": [
    "neg_sents = [\n",
    "    \"der Hund sieht\", #Subkategorisierung\n",
    "    \"dem Hund sieht der Katze\", #Kasus\n",
    "    \"der Hund sehen die Katze\", #Agreement\n",
    "]"
   ]
  },
  {
   "cell_type": "code",
   "execution_count": 24,
   "metadata": {},
   "outputs": [
    {
     "name": "stdout",
     "output_type": "stream",
     "text": [
      "         S        \n",
      "     ┌───┴─────┐   \n",
      "     NP        VP \n",
      " ┌───┴───┐     │   \n",
      "DET      N     V  \n",
      " │       │     │   \n",
      "der     Hund sieht\n",
      "\n",
      "               S                \n",
      "     ┌─────────┴────┐            \n",
      "     │              VP          \n",
      "     │         ┌────┴───┐        \n",
      "     NP        │        NP      \n",
      " ┌───┴───┐     │    ┌───┴────┐   \n",
      "DET      N     V   DET       N  \n",
      " │       │     │    │        │   \n",
      "dem     Hund sieht der     Katze\n",
      "\n",
      "               S                \n",
      "     ┌─────────┴────┐            \n",
      "     │              VP          \n",
      "     │         ┌────┴───┐        \n",
      "     NP        │        NP      \n",
      " ┌───┴───┐     │    ┌───┴────┐   \n",
      "DET      N     V   DET       N  \n",
      " │       │     │    │        │   \n",
      "der     Hund sehen die     Katze\n",
      "\n"
     ]
    }
   ],
   "source": [
    "parser = nltk.ChartParser(grammar)\n",
    "for sent in neg_sents:\n",
    "    trees = list(parser.parse(sent.split()))\n",
    "    if trees: [tree.pretty_print(unicodelines=True) for tree in trees]\n",
    "    else: print(f\"no parse found for: {sent}\")"
   ]
  },
  {
   "cell_type": "markdown",
   "metadata": {},
   "source": [
    "### b) Fügen Sie schrittweise Constraints hinzu um diese drei Überproduktionen zu verhindern.\n"
   ]
  },
  {
   "cell_type": "code",
   "execution_count": 36,
   "metadata": {},
   "outputs": [],
   "source": [
    "## nur Subkategorisierung und Kasus. AGR --> Lösung\n",
    "grammar = FeatureGrammar.fromstring(r\"\"\"\n",
    "% start S\n",
    "\n",
    "S -> NP[CASE=nom] VP\n",
    "NP[CASE=?x] -> DET[CASE=?x] N[CASE=?x]\n",
    "VP -> V[SUBCAT=0]\n",
    "VP -> V[SUBCAT=1, OBJCASE=?x] NP[CASE=?x]\n",
    "\n",
    "DET[CASE=nom] -> 'der' | 'die'\n",
    "DET[CASE=dat] -> 'dem'\n",
    "DET[CASE=akk] -> 'den'\n",
    "N[CASE=nom] -> 'Hund' | 'Hunde' |'Katze' |'Katzen'\n",
    "N[CASE=akk] -> 'Hunden'\n",
    "V[SUBCAT=0] -> 'läuft' | 'laufen'\n",
    "V[SUBCAT=1] -> 'sieht' | 'sehen' | 'hilft' | 'helfen' \n",
    "\"\"\")"
   ]
  },
  {
   "cell_type": "code",
   "execution_count": 37,
   "metadata": {},
   "outputs": [
    {
     "name": "stdout",
     "output_type": "stream",
     "text": [
      "no parse found for: der Hund sieht\n",
      "no parse found for: dem Hund sieht der Katze\n"
     ]
    },
    {
     "data": {
      "image/svg+xml": [
       "<svg baseProfile=\"full\" height=\"216px\" preserveAspectRatio=\"xMidYMid meet\" style=\"font-family: times, serif; font-weight: normal; font-style: normal; font-size: 16px;\" version=\"1.1\" viewBox=\"0,0,616.0,216.0\" width=\"616px\" xmlns=\"http://www.w3.org/2000/svg\" xmlns:ev=\"http://www.w3.org/2001/xml-events\" xmlns:xlink=\"http://www.w3.org/1999/xlink\"><defs /><svg width=\"100%\" x=\"0\" y=\"0px\"><defs /><text text-anchor=\"middle\" x=\"50%\" y=\"16px\">S[]</text></svg><svg width=\"41.5584%\" x=\"0%\" y=\"48px\"><defs /><svg width=\"100%\" x=\"0\" y=\"0px\"><defs /><text text-anchor=\"middle\" x=\"50%\" y=\"16px\">NP[CASE='nom']</text></svg><svg width=\"53.125%\" x=\"0%\" y=\"48px\"><defs /><svg width=\"100%\" x=\"0\" y=\"0px\"><defs /><text text-anchor=\"middle\" x=\"50%\" y=\"16px\">DET[CASE='nom']</text></svg><svg width=\"100%\" x=\"0%\" y=\"48px\"><defs /><svg width=\"100%\" x=\"0\" y=\"0px\"><defs /><text text-anchor=\"middle\" x=\"50%\" y=\"16px\">der</text></svg></svg><line stroke=\"black\" x1=\"50%\" x2=\"50%\" y1=\"19.2px\" y2=\"48px\" /></svg><line stroke=\"black\" x1=\"50%\" x2=\"26.5625%\" y1=\"19.2px\" y2=\"48px\" /><svg width=\"46.875%\" x=\"53.125%\" y=\"48px\"><defs /><svg width=\"100%\" x=\"0\" y=\"0px\"><defs /><text text-anchor=\"middle\" x=\"50%\" y=\"16px\">N[CASE='nom']</text></svg><svg width=\"100%\" x=\"0%\" y=\"48px\"><defs /><svg width=\"100%\" x=\"0\" y=\"0px\"><defs /><text text-anchor=\"middle\" x=\"50%\" y=\"16px\">Hund</text></svg></svg><line stroke=\"black\" x1=\"50%\" x2=\"50%\" y1=\"19.2px\" y2=\"48px\" /></svg><line stroke=\"black\" x1=\"50%\" x2=\"76.5625%\" y1=\"19.2px\" y2=\"48px\" /></svg><line stroke=\"black\" x1=\"50%\" x2=\"20.7792%\" y1=\"19.2px\" y2=\"48px\" /><svg width=\"58.4416%\" x=\"41.5584%\" y=\"48px\"><defs /><svg width=\"100%\" x=\"0\" y=\"0px\"><defs /><text text-anchor=\"middle\" x=\"50%\" y=\"16px\">VP[]</text></svg><svg width=\"28.8889%\" x=\"0%\" y=\"48px\"><defs /><svg width=\"100%\" x=\"0\" y=\"0px\"><defs /><text text-anchor=\"middle\" x=\"50%\" y=\"16px\">V[SUBCAT=1]</text></svg><svg width=\"100%\" x=\"0%\" y=\"48px\"><defs /><svg width=\"100%\" x=\"0\" y=\"0px\"><defs /><text text-anchor=\"middle\" x=\"50%\" y=\"16px\">sehen</text></svg></svg><line stroke=\"black\" x1=\"50%\" x2=\"50%\" y1=\"19.2px\" y2=\"48px\" /></svg><line stroke=\"black\" x1=\"50%\" x2=\"14.4444%\" y1=\"19.2px\" y2=\"48px\" /><svg width=\"71.1111%\" x=\"28.8889%\" y=\"48px\"><defs /><svg width=\"100%\" x=\"0\" y=\"0px\"><defs /><text text-anchor=\"middle\" x=\"50%\" y=\"16px\">NP[CASE='nom']</text></svg><svg width=\"53.125%\" x=\"0%\" y=\"48px\"><defs /><svg width=\"100%\" x=\"0\" y=\"0px\"><defs /><text text-anchor=\"middle\" x=\"50%\" y=\"16px\">DET[CASE='nom']</text></svg><svg width=\"100%\" x=\"0%\" y=\"48px\"><defs /><svg width=\"100%\" x=\"0\" y=\"0px\"><defs /><text text-anchor=\"middle\" x=\"50%\" y=\"16px\">die</text></svg></svg><line stroke=\"black\" x1=\"50%\" x2=\"50%\" y1=\"19.2px\" y2=\"48px\" /></svg><line stroke=\"black\" x1=\"50%\" x2=\"26.5625%\" y1=\"19.2px\" y2=\"48px\" /><svg width=\"46.875%\" x=\"53.125%\" y=\"48px\"><defs /><svg width=\"100%\" x=\"0\" y=\"0px\"><defs /><text text-anchor=\"middle\" x=\"50%\" y=\"16px\">N[CASE='nom']</text></svg><svg width=\"100%\" x=\"0%\" y=\"48px\"><defs /><svg width=\"100%\" x=\"0\" y=\"0px\"><defs /><text text-anchor=\"middle\" x=\"50%\" y=\"16px\">Katze</text></svg></svg><line stroke=\"black\" x1=\"50%\" x2=\"50%\" y1=\"19.2px\" y2=\"48px\" /></svg><line stroke=\"black\" x1=\"50%\" x2=\"76.5625%\" y1=\"19.2px\" y2=\"48px\" /></svg><line stroke=\"black\" x1=\"50%\" x2=\"64.4444%\" y1=\"19.2px\" y2=\"48px\" /></svg><line stroke=\"black\" x1=\"50%\" x2=\"70.7792%\" y1=\"19.2px\" y2=\"48px\" /></svg>"
      ],
      "text/plain": [
       "Tree('S[]', [Tree(\"NP[CASE='nom']\", [Tree(\"DET[CASE='nom']\", ['der']), Tree(\"N[CASE='nom']\", ['Hund'])]), Tree('VP[]', [Tree('V[SUBCAT=1]', ['sehen']), Tree(\"NP[CASE='nom']\", [Tree(\"DET[CASE='nom']\", ['die']), Tree(\"N[CASE='nom']\", ['Katze'])])])])"
      ]
     },
     "metadata": {},
     "output_type": "display_data"
    }
   ],
   "source": [
    "parser = nltk.FeatureChartParser(grammar)\n",
    "for sent in neg_sents:\n",
    "    trees = list(parser.parse(sent.split()))\n",
    "    if trees: [show_FeatTree(tree, style=1) for tree in trees]\n",
    "    else: print(f\"no parse found for: {sent}\")"
   ]
  },
  {
   "cell_type": "markdown",
   "metadata": {},
   "source": [
    "### c) Testen Sie abschließend, ob folgende Sätze weiterhin erkannt werden:"
   ]
  },
  {
   "cell_type": "code",
   "execution_count": 38,
   "metadata": {},
   "outputs": [],
   "source": [
    "pos_sents = [\n",
    "    \"der Hund sieht die Katze\", \n",
    "    \"die Hunde laufen\",\n",
    "    \"der Hund läuft\"\n",
    "]"
   ]
  },
  {
   "cell_type": "code",
   "execution_count": 39,
   "metadata": {},
   "outputs": [
    {
     "name": "stdout",
     "output_type": "stream",
     "text": [
      "FOUND PARSE:\n",
      " (S[]   (NP[CASE='nom'] (DET[CASE='nom'] der) (N[CASE='nom'] Hund))   (VP[]     (V[SUBCAT=1] sieht)     (NP[CASE='nom'] (DET[CASE='nom'] die) (N[CASE='nom'] Katze))))\n",
      "FOUND PARSE:\n",
      " (S[]   (NP[CASE='nom'] (DET[CASE='nom'] die) (N[CASE='nom'] Hunde))   (VP[] (V[SUBCAT=0] laufen)))\n",
      "FOUND PARSE:\n",
      " (S[]   (NP[CASE='nom'] (DET[CASE='nom'] der) (N[CASE='nom'] Hund))   (VP[] (V[SUBCAT=0] läuft)))\n"
     ]
    }
   ],
   "source": [
    "parser = nltk.FeatureChartParser(grammar)\n",
    "for sent in pos_sents:\n",
    "    trees = list(parser.parse(sent.split()))\n",
    "    if trees: [show_FeatTree(tree, draw=0) for tree in trees]\n",
    "    else: print(f\"no parse found for: {sent}\")"
   ]
  },
  {
   "cell_type": "code",
   "execution_count": 40,
   "metadata": {},
   "outputs": [
    {
     "name": "stdout",
     "output_type": "stream",
     "text": [
      "|.der .Hund.läuf.|\n",
      "Leaf Init Rule:\n",
      "|[----]    .    .| [0:1] 'der'\n",
      "|.    [----]    .| [1:2] 'Hund'\n",
      "|.    .    [----]| [2:3] 'läuft'\n",
      "Feature Bottom Up Predict Combine Rule:\n",
      "|[----]    .    .| [0:1] DET[CASE='nom'] -> 'der' *\n",
      "Feature Bottom Up Predict Combine Rule:\n",
      "|[---->    .    .| [0:1] NP[CASE=?x] -> DET[CASE=?x] * N[CASE=?x] {?x: 'nom'}\n",
      "Feature Bottom Up Predict Combine Rule:\n",
      "|.    [----]    .| [1:2] N[CASE='nom'] -> 'Hund' *\n",
      "Feature Single Edge Fundamental Rule:\n",
      "|[---------]    .| [0:2] NP[CASE='nom'] -> DET[CASE='nom'] N[CASE='nom'] *\n",
      "Feature Bottom Up Predict Combine Rule:\n",
      "|[--------->    .| [0:2] S[] -> NP[CASE='nom'] * VP[] {}\n",
      "Feature Bottom Up Predict Combine Rule:\n",
      "|.    .    [----]| [2:3] V[SUBCAT=0] -> 'läuft' *\n",
      "Feature Bottom Up Predict Combine Rule:\n",
      "|.    .    [----]| [2:3] VP[] -> V[SUBCAT=0] *\n",
      "Feature Single Edge Fundamental Rule:\n",
      "|[==============]| [0:3] S[] -> NP[CASE='nom'] VP[] *\n"
     ]
    },
    {
     "data": {
      "text/plain": [
       "<generator object FeatureChart.parses at 0x1053aee30>"
      ]
     },
     "execution_count": 40,
     "metadata": {},
     "output_type": "execute_result"
    }
   ],
   "source": [
    "# Tracing-Beispiel\n",
    "parser = nltk.FeatureChartParser(grammar, trace=2)\n",
    "parser.parse(pos_sents[2].split())"
   ]
  },
  {
   "cell_type": "markdown",
   "metadata": {},
   "source": [
    "## Aufgabe 2 - FCFG-Erweiterungen (Agreement, Kasus und Subkategorisierung)\n",
    "\n",
    "#### Gegeben sei folgende Grammatik, die in den folgenden Teilaufgaben schrittweise um verschiedenen grammatikalische Constraints erweitert werden soll, um Überproduktion zu verhindern."
   ]
  },
  {
   "cell_type": "code",
   "execution_count": 41,
   "metadata": {},
   "outputs": [],
   "source": [
    "grammar = \"\"\"\n",
    "S -> NP VP\n",
    "\n",
    "NP -> DET NOM\n",
    "NOM -> N\n",
    "VP -> V NP NP | V NP | V\n",
    "\n",
    "DET -> \"der\" | \"die\" | \"das\"\n",
    "N -> \"Mann\" | \"Frau\" | \"Buch\"\n",
    "\n",
    "V -> \"gibt\" | \"schenkt\" | \"schlaeft\" | \"gefaellt\" | \"kennt\"\n",
    "\"\"\""
   ]
  },
  {
   "cell_type": "markdown",
   "metadata": {},
   "source": [
    "### a) Kongruenz in der Nominalphrase\n",
    "\n",
    "#### Orientieren Sie sich an folgender Tabelle zur Mehrdeutigkeit der Formen des bestimmen Artikels im Deutschen und passen Sie die Grammatik unten so an, dass sie nur noch grammatikalisch korrekte Nominalphrasen als Teil von Sätzen akzeptiert. Konzentrieren Sie sich auf die Kongruenz von Artikel und Nomen im Genus.\n",
    "\n",
    "|Form|mögliche Merkmale|\n",
    "|----|-----------------|\n",
    "|der|[NUM=sg, GEN=mask, CASE=nom]|\n",
    "|&nbsp;|[NUM=sg, GEN=fem, CASE=dat]|\n",
    "|&nbsp;|[NUM=sg, GEN=fem, CASE=GEN]|\n",
    "|&nbsp;|[NUM=pl, CASE=GEN]|\n",
    "|die|[NUM=sg, GEN=fem, CASE=nom]|\n",
    "|&nbsp;|[NUM=sg, GEN=fem, CASE=akk]|\n",
    "|&nbsp;|[NUM=pl, CASE=nom]|\n",
    "|&nbsp;|[NUM=pl, CASE=akk]|\n",
    "|das|[NUM=sg, GEN=neut, CASE=nom]|\n",
    "|&nbsp;|[NUM=sg, GEN=neut, CASE=akk]|"
   ]
  },
  {
   "cell_type": "code",
   "execution_count": 48,
   "metadata": {},
   "outputs": [],
   "source": [
    "grammar = FeatureGrammar.fromstring(r\"\"\"\n",
    "S -> NP VP\n",
    "\n",
    "NP[GEN=?x] -> DET[GEN=?x] NOM[GEN=?x]\n",
    "NOM[GEN=?x] -> N[GEN=?x]\n",
    "VP -> V NP NP | V NP | V\n",
    "\n",
    "DET[GEN=mask] -> \"der\"\n",
    "DET[GEN=fem] -> \"die\"\n",
    "DET[GEN=neut] -> \"das\"\n",
    "N[GEN=mask] -> \"Mann\"\n",
    "N[GEN=fem] -> \"Frau\"\n",
    "N[GEN=neut] -> \"Buch\"\n",
    "\n",
    "V -> \"gibt\" | \"schenkt\" | \"schlaeft\" | \"gefaellt\" | \"kennt\"\n",
    "\"\"\")"
   ]
  },
  {
   "cell_type": "code",
   "execution_count": 49,
   "metadata": {},
   "outputs": [],
   "source": [
    "pos_neg_sents = [\n",
    "    \"der Mann schlaeft\", \n",
    "    \"das Mann schlaeft\"\n",
    "]"
   ]
  },
  {
   "cell_type": "code",
   "execution_count": 50,
   "metadata": {},
   "outputs": [
    {
     "data": {
      "image/svg+xml": [
       "<svg baseProfile=\"full\" height=\"216px\" preserveAspectRatio=\"xMidYMid meet\" style=\"font-family: times, serif; font-weight: normal; font-style: normal; font-size: 16px;\" version=\"1.1\" viewBox=\"0,0,352.0,216.0\" width=\"352px\" xmlns=\"http://www.w3.org/2000/svg\" xmlns:ev=\"http://www.w3.org/2001/xml-events\" xmlns:xlink=\"http://www.w3.org/1999/xlink\"><defs /><svg width=\"100%\" x=\"0\" y=\"0px\"><defs /><text text-anchor=\"middle\" x=\"50%\" y=\"16px\">S[]</text></svg><svg width=\"77.2727%\" x=\"0%\" y=\"48px\"><defs /><svg width=\"100%\" x=\"0\" y=\"0px\"><defs /><text text-anchor=\"middle\" x=\"50%\" y=\"16px\">NP[GEN='mask']</text></svg><svg width=\"50%\" x=\"0%\" y=\"48px\"><defs /><svg width=\"100%\" x=\"0\" y=\"0px\"><defs /><text text-anchor=\"middle\" x=\"50%\" y=\"16px\">DET[GEN='mask']</text></svg><svg width=\"100%\" x=\"0%\" y=\"48px\"><defs /><svg width=\"100%\" x=\"0\" y=\"0px\"><defs /><text text-anchor=\"middle\" x=\"50%\" y=\"16px\">der</text></svg></svg><line stroke=\"black\" x1=\"50%\" x2=\"50%\" y1=\"19.2px\" y2=\"48px\" /></svg><line stroke=\"black\" x1=\"50%\" x2=\"25%\" y1=\"19.2px\" y2=\"48px\" /><svg width=\"50%\" x=\"50%\" y=\"48px\"><defs /><svg width=\"100%\" x=\"0\" y=\"0px\"><defs /><text text-anchor=\"middle\" x=\"50%\" y=\"16px\">NOM[GEN='mask']</text></svg><svg width=\"100%\" x=\"0%\" y=\"48px\"><defs /><svg width=\"100%\" x=\"0\" y=\"0px\"><defs /><text text-anchor=\"middle\" x=\"50%\" y=\"16px\">N[GEN='mask']</text></svg><svg width=\"100%\" x=\"0%\" y=\"48px\"><defs /><svg width=\"100%\" x=\"0\" y=\"0px\"><defs /><text text-anchor=\"middle\" x=\"50%\" y=\"16px\">Mann</text></svg></svg><line stroke=\"black\" x1=\"50%\" x2=\"50%\" y1=\"19.2px\" y2=\"48px\" /></svg><line stroke=\"black\" x1=\"50%\" x2=\"50%\" y1=\"19.2px\" y2=\"48px\" /></svg><line stroke=\"black\" x1=\"50%\" x2=\"75%\" y1=\"19.2px\" y2=\"48px\" /></svg><line stroke=\"black\" x1=\"50%\" x2=\"38.6364%\" y1=\"19.2px\" y2=\"48px\" /><svg width=\"22.7273%\" x=\"77.2727%\" y=\"48px\"><defs /><svg width=\"100%\" x=\"0\" y=\"0px\"><defs /><text text-anchor=\"middle\" x=\"50%\" y=\"16px\">VP[]</text></svg><svg width=\"100%\" x=\"0%\" y=\"48px\"><defs /><svg width=\"100%\" x=\"0\" y=\"0px\"><defs /><text text-anchor=\"middle\" x=\"50%\" y=\"16px\">V[]</text></svg><svg width=\"100%\" x=\"0%\" y=\"48px\"><defs /><svg width=\"100%\" x=\"0\" y=\"0px\"><defs /><text text-anchor=\"middle\" x=\"50%\" y=\"16px\">schlaeft</text></svg></svg><line stroke=\"black\" x1=\"50%\" x2=\"50%\" y1=\"19.2px\" y2=\"48px\" /></svg><line stroke=\"black\" x1=\"50%\" x2=\"50%\" y1=\"19.2px\" y2=\"48px\" /></svg><line stroke=\"black\" x1=\"50%\" x2=\"88.6364%\" y1=\"19.2px\" y2=\"48px\" /></svg>"
      ],
      "text/plain": [
       "Tree('S[]', [Tree(\"NP[GEN='mask']\", [Tree(\"DET[GEN='mask']\", ['der']), Tree(\"NOM[GEN='mask']\", [Tree(\"N[GEN='mask']\", ['Mann'])])]), Tree('VP[]', [Tree('V[]', ['schlaeft'])])])"
      ]
     },
     "metadata": {},
     "output_type": "display_data"
    },
    {
     "name": "stdout",
     "output_type": "stream",
     "text": [
      "no parse found for: das Mann schlaeft\n"
     ]
    }
   ],
   "source": [
    "parser = nltk.FeatureChartParser(grammar)\n",
    "for sent in pos_neg_sents:\n",
    "    trees = list(parser.parse(sent.split()))\n",
    "    if trees: [show_FeatTree(tree, style=1) for tree in trees]\n",
    "    else: print(f\"no parse found for: {sent}\")"
   ]
  },
  {
   "cell_type": "markdown",
   "metadata": {},
   "source": [
    "#### Optional können Sie auch folgende NP-Grammatik, die die Features aus der Tabelle oben enthält, um syntaktische Constraints erweitern und testen:"
   ]
  },
  {
   "cell_type": "code",
   "execution_count": 53,
   "metadata": {},
   "outputs": [],
   "source": [
    "grammar = FeatureGrammar.fromstring(r\"\"\"\n",
    "\n",
    "NP[AGR=?X] -> DET[AGR=?x] NOM[AGR=?x]\n",
    "NOM[AGR=?x] -> N[AGR=?x]\n",
    "\n",
    "DET[AGR=[NUM=sg, GEN=mask, CASE=nom]] -> \"der\"\n",
    "DET[AGR=[NUM=sg, GEN=fem, CASE=dat]] -> \"der\"\n",
    "DET[AGR=[NUM=sg, GEN=fem, CASE=gen]] -> \"der\"\n",
    "DET[AGR=[NUM=pl, CASE=gen]] -> \"der\"\n",
    "\n",
    "DET[AGR=[NUM=sg, GEN=fem, CASE=nom]] -> \"die\"\n",
    "DET[AGR=[NUM=sg, GEN=fem, CASE=akk]] -> \"die\"\n",
    "DET[AGR=[NUM=pl, CASE=nom]] -> \"die\"\n",
    "DET[AGR=[NUM=pl, CASE=akk]] -> \"die\"\n",
    "\n",
    "DET[AGR=[NUM=sg, GEN=neut, CASE=nom]] -> \"das\"\n",
    "DET[AGR=[NUM=sg, GEN=neut, CASE=akk]] -> \"das\"\n",
    "\n",
    "N[AGR=[NUM=sg, GEN=mask, CASE=nom]] -> \"Mann\"\n",
    "N[AGR=[NUM=sg, GEN=fem, CASE=nom]] -> \"Frau\"\n",
    "N[AGR=[NUM=sg, GEN=neut, CASE=nom]] -> \"Buch\"\n",
    "\"\"\")"
   ]
  },
  {
   "cell_type": "code",
   "execution_count": 54,
   "metadata": {},
   "outputs": [],
   "source": [
    "pos_sg_NPs = [\"der Mann\", \"der Frau\", \"die Frau\", \"das Buch\"]\n",
    "neg_sg_NPs = [\"das Mann\", \"die Mann\", \"das Frau\", \"der Buch\", \"die Buch\"]"
   ]
  },
  {
   "cell_type": "code",
   "execution_count": 55,
   "metadata": {},
   "outputs": [
    {
     "name": "stdout",
     "output_type": "stream",
     "text": [
      "no parse found for: das Mann\n",
      "no parse found for: die Mann\n",
      "no parse found for: das Frau\n",
      "no parse found for: der Buch\n",
      "no parse found for: die Buch\n"
     ]
    }
   ],
   "source": [
    "parser = nltk.FeatureChartParser(grammar)\n",
    "for sent in neg_sg_NPs:\n",
    "    trees = list(parser.parse(sent.split()))\n",
    "    if trees: [show_FeatTree(tree, draw=0) for tree in trees]\n",
    "    else: print(f\"no parse found for: {sent}\")"
   ]
  },
  {
   "cell_type": "code",
   "execution_count": 56,
   "metadata": {},
   "outputs": [
    {
     "name": "stdout",
     "output_type": "stream",
     "text": [
      "FOUND PARSE:\n",
      " (NP[AGR=?X]   (DET[AGR=[CASE='nom', GEN='mask', NUM='sg']] der)   (NOM[AGR=[CASE='nom', GEN='mask', NUM='sg']]     (N[AGR=[CASE='nom', GEN='mask', NUM='sg']] Mann)))\n",
      "no parse found for: der Frau\n",
      "FOUND PARSE:\n",
      " (NP[AGR=?X]   (DET[AGR=[CASE='nom', GEN='fem', NUM='sg']] die)   (NOM[AGR=[CASE='nom', GEN='fem', NUM='sg']]     (N[AGR=[CASE='nom', GEN='fem', NUM='sg']] Frau)))\n",
      "FOUND PARSE:\n",
      " (NP[AGR=?X]   (DET[AGR=[CASE='nom', GEN='neut', NUM='sg']] das)   (NOM[AGR=[CASE='nom', GEN='neut', NUM='sg']]     (N[AGR=[CASE='nom', GEN='neut', NUM='sg']] Buch)))\n"
     ]
    }
   ],
   "source": [
    "parser = nltk.FeatureChartParser(grammar)\n",
    "for sent in pos_sg_NPs:\n",
    "    trees = list(parser.parse(sent.split()))\n",
    "    if trees: [show_FeatTree(tree, draw=0) for tree in trees]\n",
    "    else: print(f\"no parse found for: {sent}\")"
   ]
  },
  {
   "cell_type": "markdown",
   "metadata": {},
   "source": [
    "### b) Kasus und Subkategorisierung\n",
    "\n",
    "#### Als nächstes sollen Kasusbedingungen in die Grammatik integriert werden (fügen Sie ggf. neue lexikalische Regeln für die Beispielsätze hinzu):\n",
    "\n",
    "1. Es gibt nur eine Nominalphrase im Nominativ (Subjekt).\n",
    "1. Je nach Valenzstellen des Verbes sollen nur Nominalphrasen in den korrekten Kasus akzeptiert werden.\n",
    "1. *Optional:* Versuchen Sie die freie Satzstellung des Deutschen zu berücksichtigen. (Sie können dazu die VP-Struktur auflösen, also flachere Satzregeln verwenden, und ein zusätzliches SBJCASE-Merkmal verwenden.)"
   ]
  },
  {
   "cell_type": "code",
   "execution_count": 16,
   "metadata": {},
   "outputs": [],
   "source": [
    "pos_sents = [   \n",
    "    \"das Buch gefaellt der Frau\",\n",
    "    \"das Buch kennt die Frau\",\n",
    "    \"der Mann gibt der Frau das Buch\"\n",
    "]\n",
    "\n",
    "neg_sents = [\n",
    "    \"das Mann schlaeft\",\n",
    "    \"der Mann schlaeft das Buch\",  #Verletzung Subkategorisierung-Constraint\n",
    "    \"die Frau gefaellt das Buch\",  #Verletzung Objektkasus-Constraint\n",
    "    \"den Mann schlaeft\",  #Verletzung Subjektkasus-Constraint\n",
    "    \"die Frau gibt das Buch\"  #Verletzung Subkategorisierung-Constraint\n",
    "]"
   ]
  },
  {
   "cell_type": "code",
   "execution_count": null,
   "metadata": {},
   "outputs": [],
   "source": [
    "grammar = FeatureGrammar.fromstring(r\"\"\"\n",
    "#Grammatik von oben herunterkopieren\n",
    "\"\"\")\n",
    "\n",
    "parser = nltk.FeatureChartParser(grammar)"
   ]
  },
  {
   "cell_type": "code",
   "execution_count": null,
   "metadata": {},
   "outputs": [],
   "source": [
    "for sent in neg_sents:\n",
    "    trees = list(parser.parse(sent.split()))\n",
    "    if trees: [show_FeatTree(tree, style=1) for tree in trees]\n",
    "    else: print(f\"no parse found for: {sent}\")"
   ]
  },
  {
   "cell_type": "code",
   "execution_count": null,
   "metadata": {},
   "outputs": [],
   "source": [
    "for sent in pos_sents:\n",
    "    trees = list(parser.parse(sent.split()))\n",
    "    if trees: [show_FeatTree(tree, style=1, draw=0) for tree in trees]\n",
    "    else: print(f\"no parse found for: {sent}\")"
   ]
  },
  {
   "cell_type": "markdown",
   "metadata": {},
   "source": [
    "#### Testsätze für invertierte Wortstellung (Bedingung 3):"
   ]
  },
  {
   "cell_type": "code",
   "execution_count": 17,
   "metadata": {},
   "outputs": [],
   "source": [
    "pos_inv_sents = [\n",
    "    \"den Mann kennt die Frau\",\n",
    "    \"die Frau kennt der Mann\",\n",
    "    \"der Frau gibt der Mann das Buch\",\n",
    "    \"das Buch gibt der Mann der Frau\"\n",
    "]"
   ]
  },
  {
   "cell_type": "code",
   "execution_count": null,
   "metadata": {},
   "outputs": [],
   "source": [
    "for sent in pos_inv_sents:\n",
    "    trees = list(parser.parse(sent.split()))\n",
    "    if trees: [show_FeatTree(tree, style=1, draw=0) for tree in trees]\n",
    "    else: print(f\"no parse found for: {sent}\")"
   ]
  },
  {
   "cell_type": "markdown",
   "metadata": {},
   "source": [
    "### c) Kasus und Subkategorisierung mit Slash-Kategorie\n",
    "\n",
    "#### Wiederholen Sie die Modellierung für Kasusbedingungen über ein INV-Feature für die invertierte VP bei transitiven Verben und eines Gap-Features (Slash-Kategorie) für die an das Satzende gestellte Objekt-NP.\n"
   ]
  },
  {
   "cell_type": "code",
   "execution_count": null,
   "metadata": {},
   "outputs": [],
   "source": [
    "grammar = FeatureGrammar.fromstring(r\"\"\"\n",
    "#Grammatik von oben herunterkopieren\n",
    "\"\"\")\n",
    "\n",
    "parser = nltk.FeatureChartParser(grammar)"
   ]
  },
  {
   "cell_type": "code",
   "execution_count": null,
   "metadata": {
    "scrolled": true
   },
   "outputs": [],
   "source": [
    "for sent in pos_inv_sents:\n",
    "    trees = list(parser.parse(sent.split()))\n",
    "    if trees: [show_FeatTree(tree, style=1, draw=0) for tree in trees]\n",
    "    else: print(f\"no parse found for: {sent}\")"
   ]
  },
  {
   "cell_type": "code",
   "execution_count": null,
   "metadata": {},
   "outputs": [],
   "source": [
    "for sent in neg_sents:\n",
    "    trees = list(parser.parse(sent.split()))\n",
    "    if trees: [show_FeatTree(tree, style=1) for tree in trees]\n",
    "    else: print(f\"no parse found for: {sent}\")"
   ]
  },
  {
   "cell_type": "code",
   "execution_count": null,
   "metadata": {},
   "outputs": [],
   "source": [
    "for sent in pos_sents:\n",
    "    trees = list(parser.parse(sent.split()))\n",
    "    if trees: [show_FeatTree(tree, style=1, draw=0) for tree in trees]\n",
    "    else: print(f\"no parse found for: {sent}\")"
   ]
  },
  {
   "cell_type": "markdown",
   "metadata": {},
   "source": [
    "### d) Plural-Agreement für Subjekt und Verb\n",
    "\n",
    "#### Ergänzen Sie die Grammatik aus b) um die Möglichkeit, das Subjekt in den Plural zu setzen.\n",
    "\n",
    "#### Dafür müssen Sie folgendes tun:\n",
    "  1. Erstellen Sie lexikalische Regeln für Pluralformen der Verben und Substantive (Nominativ ist ausreichend.).\n",
    "  1. Vervollständigen Sie die lexikalischen Regeln für die Form des Artikels *die* um die korrekte Merkmalstruktur für den Plural.\n",
    "  1. Formulieren Sie eine Kongruenzbedingung in Numerus zwischen Verb und Subjekt."
   ]
  },
  {
   "cell_type": "code",
   "execution_count": 18,
   "metadata": {},
   "outputs": [],
   "source": [
    "pos_sents = [   \n",
    "    \"das Buch gefaellt der Frau\",\n",
    "    \"das Buch kennt die Frau\",\n",
    "    \"der Mann gibt der Frau das Buch\",\n",
    "    \n",
    "    \"die Maenner geben der Frau das Buch\",\n",
    "    \"die Bücher gefallen der Frau\",\n",
    "    \"die Frauen schlafen\"\n",
    "]\n",
    "\n",
    "neg_sents = [\n",
    "    \"das Mann schlaeft\",\n",
    "    \"der Mann schlaeft das Buch\",\n",
    "    \"die Frau gefaellt das Buch\",\n",
    "    \"den Mann schlaeft\",\n",
    "    \"die Frau gibt das Buch\",\n",
    "    \n",
    "    \"der Mann geben der Frau das Buch\",\n",
    "    \"das Buch gefaellt der Frauen\",\n",
    "    \"die Frauen schlaeft\"\n",
    "]"
   ]
  },
  {
   "cell_type": "code",
   "execution_count": null,
   "metadata": {},
   "outputs": [],
   "source": [
    "grammar = FeatureGrammar.fromstring(r\"\"\"\n",
    "    #von oben herunterkopieren\n",
    "\"\"\")\n",
    "\n",
    "parser = nltk.FeatureChartParser(grammar)"
   ]
  },
  {
   "cell_type": "code",
   "execution_count": null,
   "metadata": {},
   "outputs": [],
   "source": [
    "for sent in neg_sents:\n",
    "    trees = list(parser.parse(sent.split()))\n",
    "    if trees: [show_FeatTree(tree, style=1) for tree in trees]\n",
    "    else: print(f\"no parse found for: {sent}\")"
   ]
  },
  {
   "cell_type": "code",
   "execution_count": null,
   "metadata": {},
   "outputs": [],
   "source": [
    "for sent in pos_sents:\n",
    "    trees = list(parser.parse(sent.split()))\n",
    "    if trees: [show_FeatTree(tree, style=1, draw=0) for tree in trees]\n",
    "    else: print(f\"no parse found for: {sent}\")"
   ]
  },
  {
   "cell_type": "markdown",
   "metadata": {},
   "source": [
    "### e) Adverben und Verbzweitstellung\n",
    "\n",
    "#### Fügen Sie der untenstehende Grammatik die zwei Adverben *heute* und *morgen* hinzu. Adverben können prinzipiell sehr frei im Satz platziert werden. Eine Besonderheit des Deutschen ist aber die sog. Verbzweitstellung, wie sie z. B. in Sätzen wie *Heute schlaeft der Mann* deutlich wird.\n",
    "#### Versuchen Sie alle Möglichkeiten zu implementieren:"
   ]
  },
  {
   "cell_type": "code",
   "execution_count": 19,
   "metadata": {},
   "outputs": [],
   "source": [
    "pos_sents = [\n",
    "  \"heute gibt der Mann der Frau das Buch\",\n",
    "  \"der Mann gibt heute der Frau das Buch\",\n",
    "  \"der Mann gibt der Frau heute das Buch\",\n",
    "  \"der Mann gibt der Frau das Buch heute\"\n",
    "]\n",
    "\n",
    "neg_sents = [\n",
    "    \"heute der Mann gibt der Frau das Buch\"\n",
    "]"
   ]
  },
  {
   "cell_type": "code",
   "execution_count": null,
   "metadata": {},
   "outputs": [],
   "source": [
    "grammar = FeatureGrammar.fromstring(r\"\"\"\n",
    "    #von oben herunterkopieren\n",
    "\"\"\")\n",
    "\n",
    "parser = nltk.FeatureChartParser(grammar)"
   ]
  },
  {
   "cell_type": "code",
   "execution_count": null,
   "metadata": {},
   "outputs": [],
   "source": [
    "for sent in neg_sents:\n",
    "    trees = list(parser.parse(sent.split()))\n",
    "    if trees: [show_FeatTree(tree, style=1) for tree in trees]\n",
    "    else: print(f\"no parse found for: {sent}\")"
   ]
  },
  {
   "cell_type": "code",
   "execution_count": null,
   "metadata": {},
   "outputs": [],
   "source": [
    "for sent in pos_sents:\n",
    "    trees = list(parser.parse(sent.split()))\n",
    "    if trees: [show_FeatTree(tree, style=1, draw=0) for tree in trees]\n",
    "    else: print(f\"no parse found for: {sent}\")"
   ]
  }
 ],
 "metadata": {
  "kernelspec": {
   "display_name": "Python 3 (ipykernel)",
   "language": "python",
   "name": "python3"
  },
  "language_info": {
   "codemirror_mode": {
    "name": "ipython",
    "version": 3
   },
   "file_extension": ".py",
   "mimetype": "text/x-python",
   "name": "python",
   "nbconvert_exporter": "python",
   "pygments_lexer": "ipython3",
   "version": "3.12.1"
  }
 },
 "nbformat": 4,
 "nbformat_minor": 4
}
