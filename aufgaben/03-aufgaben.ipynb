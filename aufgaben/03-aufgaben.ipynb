{
 "cells": [
  {
   "cell_type": "markdown",
   "metadata": {},
   "source": [
    "Syntax natürlicher Sprachen, WS 2023/24\n",
    "\n",
    "# 03 - Aufgabenblatt"
   ]
  },
  {
   "cell_type": "code",
   "execution_count": 1,
   "metadata": {},
   "outputs": [],
   "source": [
    "import nltk\n",
    "from nltk.tree import Tree\n",
    "from nltk import CFG, Production, Nonterminal\n",
    "import copy"
   ]
  },
  {
   "cell_type": "markdown",
   "metadata": {},
   "source": [
    "## Aufgabe 1 - Phrasenstrukturgrammatik in X-Bar-Struktur\n",
    "\n",
    "#### Wandeln Sie die gegebene minimale CFG mit flachen Regeln gemäß den folgenden Anweisungen schrittweise in X-Bar-Struktur um. Kopieren Sie jeweils die Grammatik von der vorherigen Teilaufgabe.\n"
   ]
  },
  {
   "cell_type": "code",
   "execution_count": 2,
   "metadata": {},
   "outputs": [],
   "source": [
    "sent = 'der Hund jagt den langsamen Briefträger'"
   ]
  },
  {
   "cell_type": "code",
   "execution_count": 3,
   "metadata": {},
   "outputs": [
    {
     "name": "stdout",
     "output_type": "stream",
     "text": [
      "              S                                \n",
      "     ┌────────┴────────┐                        \n",
      "     │                 VP                      \n",
      "     │        ┌────────┴──────┐                 \n",
      "     NP       │               NP               \n",
      " ┌───┴───┐    │    ┌──────────┼──────────┐      \n",
      "DET      N    V   DET        ADJ         N     \n",
      " │       │    │    │          │          │      \n",
      "der     Hund jagt den     langsamen Briefträger\n",
      "\n"
     ]
    }
   ],
   "source": [
    "grammar = nltk.CFG.fromstring(\"\"\"\n",
    "    S   -> NP VP\n",
    "    VP  -> V NP\n",
    "    NP  -> DET N\n",
    "    NP  -> DET ADJ N\n",
    "\n",
    "    DET -> \"der\" | \"den\"\n",
    "    N   -> \"Hund\" | \"Briefträger\"\n",
    "    ADJ -> \"langsamen\"\n",
    "    V   -> \"jagt\"\n",
    "\"\"\")\n",
    "\n",
    "parser = nltk.ChartParser(grammar)\n",
    "for tree in parser.parse(sent.split()):\n",
    "    tree.pretty_print(unicodelines=True)"
   ]
  },
  {
   "cell_type": "markdown",
   "metadata": {},
   "source": [
    "### a) NP-Adjunkt (ADJ) und NP-Spezifizierer (DET)\n",
    "\n",
    "#### Wandeln Sie die NP-Regeln in X-Bar-Struktur um, um rekursive Erweiterung um Adjektive zu ermöglichen.\n"
   ]
  },
  {
   "cell_type": "code",
   "execution_count": 4,
   "metadata": {},
   "outputs": [],
   "source": [
    "sent = 'der Hund jagt den langsamen schreienden Briefträger'"
   ]
  },
  {
   "cell_type": "code",
   "execution_count": 5,
   "metadata": {},
   "outputs": [
    {
     "name": "stdout",
     "output_type": "stream",
     "text": [
      "              S                                    \n",
      "     ┌────────┴────────┐                            \n",
      "     │                 VP                          \n",
      "     │        ┌────────┴──────┐                     \n",
      "     │        │               NP                   \n",
      "     │        │    ┌──────────┴──────┐              \n",
      "     NP       │    │                NOM            \n",
      " ┌───┴───┐    │    │          ┌──────┴───────┐      \n",
      " │      NOM   │    │          │             NOM    \n",
      " │       │    │    │          │              │      \n",
      "DET      N    V   DET        ADJ             N     \n",
      " │       │    │    │          │              │      \n",
      "der     Hund jagt den     langsamen     Briefträger\n",
      "\n"
     ]
    }
   ],
   "source": [
    "grammar = nltk.CFG.fromstring(\"\"\"\n",
    "    S   -> NP VP\n",
    "    VP  -> V NP\n",
    "    NP  -> DET NOM\n",
    "    NOM -> ADJ NOM| N\n",
    "\n",
    "    DET -> \"der\" | \"den\"\n",
    "    N   -> \"Hund\" | \"Briefträger\"\n",
    "    ADJ -> \"langsamen\" | \"schreienden\"\n",
    "    V   -> \"jagt\"\n",
    "\"\"\")\n",
    "\n",
    "parser = nltk.ChartParser(grammar)\n",
    "trees = list(parser.parse(sent.split()))\n",
    "if trees: [tree.pretty_print(unicodelines=True) for tree in trees]\n",
    "else: print(f\"no parse found for: {sent}\")"
   ]
  },
  {
   "cell_type": "markdown",
   "metadata": {},
   "source": [
    "#### Gleichzeitig sollen (durch Verwendung einer nominalen X-Bar-Zwischenebene NOM) Überproduktionen folgender Art vermieden werden:"
   ]
  },
  {
   "cell_type": "code",
   "execution_count": 6,
   "metadata": {},
   "outputs": [],
   "source": [
    "neg_sent = 'der Hund jagt den langsamen schreienden den Briefträger'"
   ]
  },
  {
   "cell_type": "code",
   "execution_count": 7,
   "metadata": {},
   "outputs": [
    {
     "name": "stdout",
     "output_type": "stream",
     "text": [
      "no parse found for: der Hund jagt den langsamen schreienden den Briefträger\n"
     ]
    }
   ],
   "source": [
    "parser = nltk.ChartParser(grammar)\n",
    "trees = list(parser.parse(neg_sent.split()))\n",
    "if trees: [tree.pretty_print(unicodelines=True) for tree in trees]\n",
    "else: print(f\"no parse found for: {neg_sent}\")"
   ]
  },
  {
   "cell_type": "markdown",
   "metadata": {},
   "source": [
    "### b) VP-Komplement (Objekt-NP) und NP-Komplement (Genitiv-NP)\n",
    "\n",
    "#### Wandeln Sie die VP-Regeln in X-Bar-Struktur um. \n",
    "\n",
    "#### Ergänzen Sie außerdem eine NP-Regel in X-Bar-Struktur für eine Genitiv-NP als Komplement der NP."
   ]
  },
  {
   "cell_type": "code",
   "execution_count": 8,
   "metadata": {},
   "outputs": [],
   "source": [
    "sent = 'der Hund jagt den Briefträger der Stadt der Briefträger'"
   ]
  },
  {
   "cell_type": "code",
   "execution_count": 13,
   "metadata": {},
   "outputs": [
    {
     "name": "stdout",
     "output_type": "stream",
     "text": [
      "         S                                                            \n",
      "     ┌───┴──────────┐                                                  \n",
      "     │              VP                                                \n",
      "     │              │                                                  \n",
      "     │            VERBAL                                              \n",
      "     │        ┌─────┴─────────────────┐                                \n",
      "     │        │                       NP                              \n",
      "     │        │     ┌─────────────────┴────┐                           \n",
      "     │        │     │                     NOM                         \n",
      "     │        │     │         ┌────────────┴────┐                      \n",
      "     │        │     │         │                 NP                    \n",
      "     │        │     │         │       ┌─────────┴───┐                  \n",
      "     │        │     │         │       │            NOM                \n",
      "     │        │     │         │       │    ┌────────┴───┐              \n",
      "     NP       │     │         │       │    │            NP            \n",
      " ┌───┴───┐    │     │         │       │    │        ┌───┴───────┐      \n",
      " │      NOM   │     │         │       │    │        │          NOM    \n",
      " │       │    │     │         │       │    │        │           │      \n",
      "DET      N    V    DET        N      DET   N       DET          N     \n",
      " │       │    │     │         │       │    │        │           │      \n",
      "der     Hund jagt  den   Briefträger der Stadt     der     Briefträger\n",
      "\n"
     ]
    }
   ],
   "source": [
    "grammar = nltk.CFG.fromstring(\"\"\"\n",
    "    S   -> NP VP\n",
    "    \n",
    "    VP  -> VERBAL\n",
    "    VERBAL -> V NP\n",
    "    \n",
    "    NP  -> DET NOM\n",
    "    NOM -> ADJ NOM | N NP| N\n",
    "\n",
    "    DET -> \"der\" | \"den\"\n",
    "    N   -> \"Hund\" | \"Briefträger\" | \"Stadt\"\n",
    "    ADJ -> \"langsamen\" | \"schreienden\"\n",
    "    V   -> \"jagt\"\n",
    "\"\"\")\n",
    "\n",
    "parser = nltk.ChartParser(grammar)\n",
    "trees = list(parser.parse(sent.split()))\n",
    "if trees: [tree.pretty_print(unicodelines=True) for tree in trees]\n",
    "else: print(f\"no parse found for: {sent}\")"
   ]
  },
  {
   "cell_type": "markdown",
   "metadata": {},
   "source": [
    "### c) mehr VP-Komplemente (Objekt und indirektes Objekt)\n",
    "\n",
    "#### Ergänzen Sie eine VP-Komplement-Regel für das (fakultativ) ditransitive Verb *jemandem etwas übergeben*.\n",
    "\n",
    "##### Beachten Sie, dass die hier auftretende Ambiguität (*der Stadt* als Dativ-VP-Komplement bzw. als Genitiv-NP-Komplement) auch in Ihrem Parsingresultat sichtbar wird (2 Ableitungsbäume)."
   ]
  },
  {
   "cell_type": "code",
   "execution_count": 15,
   "metadata": {},
   "outputs": [],
   "source": [
    "sent = 'der Briefträger übergibt den Hund der Stadt'"
   ]
  },
  {
   "cell_type": "code",
   "execution_count": 17,
   "metadata": {},
   "outputs": [
    {
     "name": "stdout",
     "output_type": "stream",
     "text": [
      "                              S                          \n",
      "     ┌────────────────────────┴────────┐                  \n",
      "     │                                 VP                \n",
      "     │                                 │                  \n",
      "     │                               VERBAL              \n",
      "     │                 ┌──────────┬────┴─────────┐        \n",
      "     NP                │          NP             NP      \n",
      " ┌───┴───────┐         │      ┌───┴────┐     ┌───┴────┐   \n",
      " │          NOM        │      │       NOM    │       NOM \n",
      " │           │         │      │        │     │        │   \n",
      "DET          N         V     DET       N    DET       N  \n",
      " │           │         │      │        │     │        │   \n",
      "der     Briefträger übergibt den      Hund  der     Stadt\n",
      "\n",
      "                              S                          \n",
      "     ┌────────────────────────┴────┐                      \n",
      "     │                             VP                    \n",
      "     │                             │                      \n",
      "     │                           VERBAL                  \n",
      "     │                 ┌───────────┴─────┐                \n",
      "     │                 │                 NP              \n",
      "     │                 │      ┌──────────┴───┐            \n",
      "     │                 │      │             NOM          \n",
      "     │                 │      │    ┌─────────┴───┐        \n",
      "     NP                │      │    │             NP      \n",
      " ┌───┴───────┐         │      │    │         ┌───┴────┐   \n",
      " │          NOM        │      │    │         │       NOM \n",
      " │           │         │      │    │         │        │   \n",
      "DET          N         V     DET   N        DET       N  \n",
      " │           │         │      │    │         │        │   \n",
      "der     Briefträger übergibt den  Hund      der     Stadt\n",
      "\n"
     ]
    }
   ],
   "source": [
    "grammar = nltk.CFG.fromstring(\"\"\"\n",
    "    S   -> NP VP\n",
    "    \n",
    "    VP  -> VERBAL\n",
    "    VERBAL -> V NP | V NP NP\n",
    "    \n",
    "    NP  -> DET NOM\n",
    "    NOM -> ADJ NOM | N NP| N\n",
    "\n",
    "    DET -> \"der\" | \"den\"\n",
    "    N   -> \"Hund\" | \"Briefträger\" | \"Stadt\"\n",
    "    ADJ -> \"langsamen\" | \"schreienden\"\n",
    "    V   -> \"jagt\" | \"übergibt\"\n",
    "\"\"\")\n",
    "\n",
    "parser = nltk.ChartParser(grammar)\n",
    "trees = list(parser.parse(sent.split()))\n",
    "if trees: [tree.pretty_print(unicodelines=True) for tree in trees]\n",
    "else: print(f\"no parse found for: {sent}\")"
   ]
  },
  {
   "cell_type": "markdown",
   "metadata": {},
   "source": [
    "### d) VP-Spezifizierer (AUX) mit Zusatzregel für invertiertes Komplement\n",
    "\n",
    "#### Ergänzen Sie Regeln für ein Auxiliar als Spezifizierer der VP sowie für die dann notwendige invertierte Wortstellung von Objekt-NP und Vollverb.\n"
   ]
  },
  {
   "cell_type": "code",
   "execution_count": 18,
   "metadata": {},
   "outputs": [],
   "source": [
    "sent = 'der Briefträger hat den Hund übergeben'"
   ]
  },
  {
   "cell_type": "code",
   "execution_count": 19,
   "metadata": {},
   "outputs": [
    {
     "name": "stdout",
     "output_type": "stream",
     "text": [
      "                     S                          \n",
      "     ┌───────────────┴───────┐                   \n",
      "     │                       VP                 \n",
      "     │               ┌───────┴────┐              \n",
      "     │               │          VERBAL          \n",
      "     │               │       ┌────┴────────┐     \n",
      "     NP              │       NP            │    \n",
      " ┌───┴───────┐       │   ┌───┴────┐        │     \n",
      " │          NOM      │   │       NOM       │    \n",
      " │           │       │   │        │        │     \n",
      "DET          N      AUX DET       N        V    \n",
      " │           │       │   │        │        │     \n",
      "der     Briefträger hat den      Hund  übergeben\n",
      "\n"
     ]
    }
   ],
   "source": [
    "grammar = nltk.CFG.fromstring(\"\"\"\n",
    "    S   -> NP VP\n",
    "    \n",
    "    VP  -> VERBAL | AUX VERBAL\n",
    "    VERBAL -> V NP | V NP NP | NP V\n",
    "    \n",
    "    \n",
    "    NP  -> DET NOM\n",
    "    NOM -> ADJ NOM | N NP| N\n",
    "\n",
    "    DET -> \"der\" | \"den\"\n",
    "    N   -> \"Hund\" | \"Briefträger\" | \"Stadt\"\n",
    "    ADJ -> \"langsamen\" | \"schreienden\"\n",
    "    V   -> \"jagt\" | \"übergibt\" | \"übergeben\"\n",
    "    AUX -> \"hat\"\n",
    "\"\"\")\n",
    "\n",
    "parser = nltk.ChartParser(grammar)\n",
    "trees = list(parser.parse(sent.split()))\n",
    "if trees: [tree.pretty_print(unicodelines=True) for tree in trees]\n",
    "else: print(f\"no parse found for: {sent}\")"
   ]
  },
  {
   "cell_type": "markdown",
   "metadata": {},
   "source": [
    "## Aufgabe 2 - Transformation in X-Bar-Struktur\n",
    "\n",
    "### a) Transformieren Sie die Grammatik von Aufgabenblatt 02 im nominale Bereich in X-Bar-Struktur und testen Sie anschließend mit den Positiv- und Negativ-Sätzen. Geben Sie dabei jeweils den X-Bar-Regeltyp an.\n",
    "\n",
    "#### HINWEIS: Alle PP-Attribute (inkl. *von*-PPs, die man - analog zu den  Genitiv-NPs - auch als Komplement auffassen kann) sollen hier vereinfacht als rekursive Adjunkte modelliert werden."
   ]
  },
  {
   "cell_type": "code",
   "execution_count": 28,
   "metadata": {},
   "outputs": [],
   "source": [
    "grammar = nltk.CFG.fromstring(\"\"\"\n",
    "    S -> NP VP\n",
    "    VP -> V NP NP\n",
    "    \n",
    "    PP -> P NP\n",
    "    \n",
    "    NP -> PRON | PROPN | PROPN PROPN | DET NOM\n",
    "    NOM -> N PP | N\n",
    "\n",
    "    DET -> \"die\" | \"ein\"\n",
    "    PROPN -> \"Chomsky\" | \"Noam\" | \"Maria\" | \"Moritz\"\n",
    "    N -> \"Studierende\" | \"Buch\"\n",
    "    PRON -> \"ihnen\"\n",
    "    V -> \"schenkte\"\n",
    "    P -> \"von\"\n",
    "\"\"\")"
   ]
  },
  {
   "cell_type": "code",
   "execution_count": 29,
   "metadata": {},
   "outputs": [
    {
     "name": "stdout",
     "output_type": "stream",
     "text": [
      "                       S                       \n",
      "     ┌─────────────────┴───────┐                \n",
      "     │                         VP              \n",
      "     │                 ┌───────┼────────┐       \n",
      "     NP                │       │        NP     \n",
      " ┌───┴───────┐         │       │    ┌───┴───┐   \n",
      " │          NOM        │       NP   │      NOM \n",
      " │           │         │       │    │       │   \n",
      "DET          N         V      PRON DET      N  \n",
      " │           │         │       │    │       │   \n",
      "die     Studierende schenkte ihnen ein     Buch\n",
      "\n",
      "                      S                                \n",
      "  ┌───────────────────┴───┐                             \n",
      "  │                       VP                           \n",
      "  │      ┌───────┬────────┴────┐                        \n",
      "  │      │       │             NP                      \n",
      "  │      │       │    ┌────────┴───┐                    \n",
      "  │      │       │    │           NOM                  \n",
      "  │      │       │    │   ┌────────┴────┐               \n",
      "  │      │       │    │   │             PP             \n",
      "  │      │       │    │   │    ┌────────┴────┐          \n",
      "  NP     │       NP   │   │    │             NP        \n",
      "  │      │       │    │   │    │        ┌────┴─────┐    \n",
      "PROPN    V      PRON DET  N    P      PROPN      PROPN \n",
      "  │      │       │    │   │    │        │          │    \n",
      "Maria schenkte ihnen ein Buch von      Noam     Chomsky\n",
      "\n"
     ]
    }
   ],
   "source": [
    "sents = [\n",
    "    \"die Studierende schenkte ihnen ein Buch\",\n",
    "    \"Maria schenkte ihnen ein Buch von Noam Chomsky\"\n",
    "]\n",
    "\n",
    "parser = nltk.ChartParser(grammar)\n",
    "for sent in sents:\n",
    "    trees = list(parser.parse(sent.split()))\n",
    "    if trees: [tree.pretty_print(unicodelines=True) for tree in trees]\n",
    "    else: print(f\"no parse found for: {sent}\")"
   ]
  },
  {
   "cell_type": "code",
   "execution_count": 30,
   "metadata": {},
   "outputs": [
    {
     "name": "stdout",
     "output_type": "stream",
     "text": [
      "no parse found for: Studierende schenkte ihnen ein Buch\n",
      "no parse found for: die Maria schenkte ihnen ein Buch\n"
     ]
    }
   ],
   "source": [
    "neg_sents = [\n",
    "    \"Studierende schenkte ihnen ein Buch\",\n",
    "    \"die Maria schenkte ihnen ein Buch\"\n",
    "]\n",
    "\n",
    "parser = nltk.ChartParser(grammar)\n",
    "for sent in neg_sents:\n",
    "    trees = list(parser.parse(sent.split()))\n",
    "    if trees: [tree.pretty_print(unicodelines=True) for tree in trees]\n",
    "    else: print(f\"no parse found for: {sent}\")"
   ]
  },
  {
   "cell_type": "markdown",
   "metadata": {},
   "source": [
    "### b) Ergänzen Sie die lexikalischen Regeln für einen entsprechenden Beispielsatz mit mehreren PP-Adjunkten. Erklären Sie die Ambiguität des Parsing-Ergebnisses.\n",
    "\n",
    "#### Wählen Sie die PPs in Ihrem Beispielsatz so, dass die aus den syntaktischen Regeln folgende Ambiguität auch eine semantisch sinnvolle Interpretation hat."
   ]
  },
  {
   "cell_type": "code",
   "execution_count": null,
   "metadata": {},
   "outputs": [],
   "source": [
    "sent = \"TODO\""
   ]
  },
  {
   "cell_type": "code",
   "execution_count": null,
   "metadata": {},
   "outputs": [],
   "source": [
    "new_productions = [\n",
    "    Production(Nonterminal('P'), ['TODO']),\n",
    "]\n",
    "\n",
    "productions = copy.copy(grammar.productions())\n",
    "\n",
    "for new_production in new_productions:\n",
    "    productions.append(new_production)\n",
    "    grammar_b = nltk.grammar.CFG(grammar.start(), productions)\n",
    "\n",
    "print(grammar_b)"
   ]
  },
  {
   "cell_type": "code",
   "execution_count": null,
   "metadata": {},
   "outputs": [],
   "source": [
    "parser = nltk.ChartParser(grammar_b)\n",
    "trees = list(parser.parse(sent.split()))\n",
    "if trees: [tree.pretty_print(unicodelines=True) for tree in trees]\n",
    "else: print(f\"no parse found for: {sent}\")"
   ]
  },
  {
   "cell_type": "markdown",
   "metadata": {},
   "source": [
    "### c) Erweitern Sie die Grammatik abschließend um Regeln für rekursive PP-Adjunkte an die VP, um folgenden Beispielsatz parsen zu können. Halten Sie sich dabei an das X-Bar-Schema."
   ]
  },
  {
   "cell_type": "code",
   "execution_count": 31,
   "metadata": {},
   "outputs": [],
   "source": [
    "sent = \"Maria schickte ihnen ein Buch aus München\""
   ]
  },
  {
   "cell_type": "code",
   "execution_count": 32,
   "metadata": {},
   "outputs": [
    {
     "ename": "TypeError",
     "evalue": "'Nonterminal' object is not iterable",
     "output_type": "error",
     "traceback": [
      "\u001b[0;31m---------------------------------------------------------------------------\u001b[0m",
      "\u001b[0;31mTypeError\u001b[0m                                 Traceback (most recent call last)",
      "Cell \u001b[0;32mIn[32], line 8\u001b[0m\n\u001b[1;32m      1\u001b[0m new_productions \u001b[38;5;241m=\u001b[39m [\n\u001b[1;32m      2\u001b[0m     Production(Nonterminal(\u001b[38;5;124m'\u001b[39m\u001b[38;5;124mV\u001b[39m\u001b[38;5;124m'\u001b[39m), [\u001b[38;5;124m'\u001b[39m\u001b[38;5;124mschickte\u001b[39m\u001b[38;5;124m'\u001b[39m]),\n\u001b[1;32m      3\u001b[0m     Production(Nonterminal(\u001b[38;5;124m'\u001b[39m\u001b[38;5;124mP\u001b[39m\u001b[38;5;124m'\u001b[39m), [\u001b[38;5;124m'\u001b[39m\u001b[38;5;124maus\u001b[39m\u001b[38;5;124m'\u001b[39m]),\n\u001b[1;32m      4\u001b[0m     Production(Nonterminal(\u001b[38;5;124m'\u001b[39m\u001b[38;5;124mPROPN\u001b[39m\u001b[38;5;124m'\u001b[39m), [\u001b[38;5;124m'\u001b[39m\u001b[38;5;124mMünchen\u001b[39m\u001b[38;5;124m'\u001b[39m]),\n\u001b[1;32m      5\u001b[0m     Production(Nonterminal(\u001b[38;5;124m'\u001b[39m\u001b[38;5;124mVP\u001b[39m\u001b[38;5;124m'\u001b[39m), [Nonterminal(\u001b[38;5;124m'\u001b[39m\u001b[38;5;124mVERBAL\u001b[39m\u001b[38;5;124m'\u001b[39m)]),\n\u001b[1;32m      6\u001b[0m     Production(Nonterminal(\u001b[38;5;124m'\u001b[39m\u001b[38;5;124mVERBAL\u001b[39m\u001b[38;5;124m'\u001b[39m), [Nonterminal(\u001b[38;5;124m'\u001b[39m\u001b[38;5;124mVERBAL\u001b[39m\u001b[38;5;124m'\u001b[39m), Nonterminal(\u001b[38;5;124m'\u001b[39m\u001b[38;5;124mPP\u001b[39m\u001b[38;5;124m'\u001b[39m)]),\n\u001b[1;32m      7\u001b[0m     Production(Nonterminal(\u001b[38;5;124m'\u001b[39m\u001b[38;5;124mVERBAL\u001b[39m\u001b[38;5;124m'\u001b[39m), [Nonterminal(\u001b[38;5;124m'\u001b[39m\u001b[38;5;124mV\u001b[39m\u001b[38;5;124m'\u001b[39m), Nonterminal(\u001b[38;5;124m'\u001b[39m\u001b[38;5;124mNP\u001b[39m\u001b[38;5;124m'\u001b[39m), Nonterminal(\u001b[38;5;124m'\u001b[39m\u001b[38;5;124mNP\u001b[39m\u001b[38;5;124m'\u001b[39m)]),\n\u001b[0;32m----> 8\u001b[0m     \u001b[43mProduction\u001b[49m\u001b[43m(\u001b[49m\u001b[43mNonterminal\u001b[49m\u001b[43m(\u001b[49m\u001b[38;5;124;43m'\u001b[39;49m\u001b[38;5;124;43mVERBAL\u001b[39;49m\u001b[38;5;124;43m'\u001b[39;49m\u001b[43m)\u001b[49m\u001b[43m,\u001b[49m\u001b[43m \u001b[49m\u001b[43mNonterminal\u001b[49m\u001b[43m(\u001b[49m\u001b[38;5;124;43m'\u001b[39;49m\u001b[38;5;124;43mV\u001b[39;49m\u001b[38;5;124;43m'\u001b[39;49m\u001b[43m)\u001b[49m\u001b[43m)\u001b[49m\n\u001b[1;32m      9\u001b[0m ]\n\u001b[1;32m     11\u001b[0m productions \u001b[38;5;241m=\u001b[39m copy\u001b[38;5;241m.\u001b[39mcopy(grammar_b\u001b[38;5;241m.\u001b[39mproductions())\n\u001b[1;32m     13\u001b[0m \u001b[38;5;28;01mfor\u001b[39;00m new_production \u001b[38;5;129;01min\u001b[39;00m new_productions:\n",
      "File \u001b[0;32m~/Library/Python/3.11/lib/python/site-packages/nltk/grammar.py:288\u001b[0m, in \u001b[0;36mProduction.__init__\u001b[0;34m(self, lhs, rhs)\u001b[0m\n\u001b[1;32m    284\u001b[0m     \u001b[38;5;28;01mraise\u001b[39;00m \u001b[38;5;167;01mTypeError\u001b[39;00m(\n\u001b[1;32m    285\u001b[0m         \u001b[38;5;124m\"\u001b[39m\u001b[38;5;124mproduction right hand side should be a list, \u001b[39m\u001b[38;5;124m\"\u001b[39m \u001b[38;5;124m\"\u001b[39m\u001b[38;5;124mnot a string\u001b[39m\u001b[38;5;124m\"\u001b[39m\n\u001b[1;32m    286\u001b[0m     )\n\u001b[1;32m    287\u001b[0m \u001b[38;5;28mself\u001b[39m\u001b[38;5;241m.\u001b[39m_lhs \u001b[38;5;241m=\u001b[39m lhs\n\u001b[0;32m--> 288\u001b[0m \u001b[38;5;28mself\u001b[39m\u001b[38;5;241m.\u001b[39m_rhs \u001b[38;5;241m=\u001b[39m \u001b[38;5;28mtuple\u001b[39m(rhs)\n",
      "\u001b[0;31mTypeError\u001b[0m: 'Nonterminal' object is not iterable"
     ]
    }
   ],
   "source": [
    "new_productions = [\n",
    "    Production(Nonterminal('V'), ['schickte']),\n",
    "    Production(Nonterminal('P'), ['aus']),\n",
    "    Production(Nonterminal('PROPN'), ['München']),\n",
    "    Production(Nonterminal('VP'), [Nonterminal('VERBAL')]),\n",
    "    Production(Nonterminal('VERBAL'), [Nonterminal('VERBAL'), Nonterminal('PP')]),\n",
    "    Production(Nonterminal('VERBAL'), [Nonterminal('V'), Nonterminal('NP'), Nonterminal('NP')]),\n",
    "    Production(Nonterminal('VERBAL'), Nonterminal('V'))\n",
    "]\n",
    "\n",
    "productions = copy.copy(grammar_b.productions())\n",
    "\n",
    "for new_production in new_productions:\n",
    "    productions.append(new_production)\n",
    "    grammar_c = nltk.grammar.CFG(grammar.start(), productions)\n",
    "\n",
    "print(grammar_c)"
   ]
  },
  {
   "cell_type": "code",
   "execution_count": null,
   "metadata": {},
   "outputs": [],
   "source": []
  }
 ],
 "metadata": {
  "kernelspec": {
   "display_name": "Python 3 (ipykernel)",
   "language": "python",
   "name": "python3"
  },
  "language_info": {
   "codemirror_mode": {
    "name": "ipython",
    "version": 3
   },
   "file_extension": ".py",
   "mimetype": "text/x-python",
   "name": "python",
   "nbconvert_exporter": "python",
   "pygments_lexer": "ipython3",
   "version": "3.11.6"
  }
 },
 "nbformat": 4,
 "nbformat_minor": 4
}
